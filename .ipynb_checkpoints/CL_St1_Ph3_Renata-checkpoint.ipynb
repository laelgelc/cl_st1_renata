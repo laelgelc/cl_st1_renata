{
 "cells": [
  {
   "cell_type": "markdown",
   "id": "810d9f10-ec19-4b09-8f90-e983e460b319",
   "metadata": {
    "jp-MarkdownHeadingCollapsed": true
   },
   "source": [
    "<center>\n",
    "<img src=\"https://laelgelcpublic.s3.sa-east-1.amazonaws.com/lael_50_years_narrow_white.png.no_years.400px_96dpi.png\" width=\"300\" alt=\"LAEL 50 years logo\">\n",
    "<h3>APPLIED LINGUISTICS GRADUATE PROGRAMME (LAEL)</h3>\n",
    "</center>\n",
    "<hr>"
   ]
  },
  {
   "cell_type": "markdown",
   "id": "888c2c96-2fc3-4a1a-995b-c388036a2a15",
   "metadata": {},
   "source": [
    "# Corpus Linguistics - Study 1 - Phase 3 - Renata"
   ]
  },
  {
   "cell_type": "markdown",
   "id": "0f3ad8a7-2d34-476b-be69-5d896b27d3ed",
   "metadata": {},
   "source": [
    "## Prerequisites"
   ]
  },
  {
   "cell_type": "markdown",
   "id": "0f1209cf-0515-45b3-8856-275ac692943e",
   "metadata": {},
   "source": [
    "Make sure the prerequisites in [CL_LMDA_prerequisites](https://github.com/laelgelc/laelgelc/blob/main/CL_LMDA_prerequisites.ipynb) are satisfied."
   ]
  },
  {
   "cell_type": "markdown",
   "id": "28897518-a858-4dc5-b510-49c9131da966",
   "metadata": {},
   "source": [
    "## Dataset"
   ]
  },
  {
   "cell_type": "markdown",
   "id": "a6f58941-1578-42c0-8933-d8ebef369245",
   "metadata": {},
   "source": [
    "Please download the following dataset (Right-click on the link and choose `Open link as a new tab` to download the corresponding file):\n",
    "- [cl_st1_renata_truthbrush_20240616_raw_data_prep.jsonl](https://pucsp-my.sharepoint.com/:u:/g/personal/ra00341729_pucsp_edu_br/EcoAPWHvUI5GoB2g3hK_b60BlnN2Yo9duPY3xQu9EJRVpg?e=bkOelA)"
   ]
  },
  {
   "cell_type": "markdown",
   "id": "7a9c2af7-9fc1-4f51-a4f5-2ed915b93039",
   "metadata": {},
   "source": [
    "## Importing the required libraries"
   ]
  },
  {
   "cell_type": "code",
   "execution_count": 1,
   "id": "e6689499-d19d-4b0c-befd-f88926b7105d",
   "metadata": {},
   "outputs": [],
   "source": [
    "import pandas as pd\n",
    "import demoji\n",
    "import re\n",
    "import os\n",
    "from collections import Counter\n",
    "import html"
   ]
  },
  {
   "cell_type": "markdown",
   "id": "9a79a002-c182-4021-9b77-99ad470582af",
   "metadata": {},
   "source": [
    "## Data wrangling"
   ]
  },
  {
   "cell_type": "markdown",
   "id": "66e37aae-8cee-42ca-91ff-10f882fc45c6",
   "metadata": {},
   "source": [
    "### Importing the tweet raw data into a dataframe"
   ]
  },
  {
   "cell_type": "code",
   "execution_count": 2,
   "id": "8a762708-07e4-472d-b3e9-bb0cea14438c",
   "metadata": {},
   "outputs": [],
   "source": [
    "df_tweets_raw_data = pd.read_json('cl_st1_renata_truthbrush_20240616_raw_data_prep.jsonl', lines=True)"
   ]
  },
  {
   "cell_type": "code",
   "execution_count": 3,
   "id": "623ddacd-5a20-4d89-a48e-98849a0644e9",
   "metadata": {},
   "outputs": [
    {
     "data": {
      "text/html": [
       "<div>\n",
       "<style scoped>\n",
       "    .dataframe tbody tr th:only-of-type {\n",
       "        vertical-align: middle;\n",
       "    }\n",
       "\n",
       "    .dataframe tbody tr th {\n",
       "        vertical-align: top;\n",
       "    }\n",
       "\n",
       "    .dataframe thead th {\n",
       "        text-align: right;\n",
       "    }\n",
       "</style>\n",
       "<table border=\"1\" class=\"dataframe\">\n",
       "  <thead>\n",
       "    <tr style=\"text-align: right;\">\n",
       "      <th></th>\n",
       "      <th>created_at</th>\n",
       "      <th>author_id</th>\n",
       "      <th>username</th>\n",
       "      <th>tweet_url</th>\n",
       "      <th>content</th>\n",
       "      <th>text</th>\n",
       "    </tr>\n",
       "  </thead>\n",
       "  <tbody>\n",
       "    <tr>\n",
       "      <th>0</th>\n",
       "      <td>2024-06-16 21:27:19.392</td>\n",
       "      <td>107838014712814240</td>\n",
       "      <td>AlexJones</td>\n",
       "      <td>https://truthsocial.com/@AlexJones/11262841581...</td>\n",
       "      <td>&lt;p&gt;&lt;a href=\"https://truthsocial.com/tags/AlexJ...</td>\n",
       "      <td>#AlexJonesShow Sunday Live: Hollywood Comes to...</td>\n",
       "    </tr>\n",
       "    <tr>\n",
       "      <th>1</th>\n",
       "      <td>2024-06-16 18:00:57.062</td>\n",
       "      <td>107838014712814240</td>\n",
       "      <td>AlexJones</td>\n",
       "      <td>https://truthsocial.com/@AlexJones/11262760432...</td>\n",
       "      <td>&lt;p&gt;Watch: Alex Jones Calls Out Globalist Tyran...</td>\n",
       "      <td>Watch: Alex Jones Calls Out Globalist Tyrants ...</td>\n",
       "    </tr>\n",
       "    <tr>\n",
       "      <th>2</th>\n",
       "      <td>2024-06-15 15:02:15.900</td>\n",
       "      <td>107838014712814240</td>\n",
       "      <td>AlexJones</td>\n",
       "      <td>https://truthsocial.com/@AlexJones/11262123939...</td>\n",
       "      <td>&lt;p&gt;Alex Jones Emergency Saturday Broadcast: Le...</td>\n",
       "      <td>Alex Jones Emergency Saturday Broadcast: Learn...</td>\n",
       "    </tr>\n",
       "    <tr>\n",
       "      <th>3</th>\n",
       "      <td>2024-06-15 00:08:13.055</td>\n",
       "      <td>107838014712814240</td>\n",
       "      <td>AlexJones</td>\n",
       "      <td>https://truthsocial.com/@AlexJones/11261772385...</td>\n",
       "      <td>&lt;p&gt;Exclusive: Alex Jones Makes First Statement...</td>\n",
       "      <td>Exclusive: Alex Jones Makes First Statements A...</td>\n",
       "    </tr>\n",
       "    <tr>\n",
       "      <th>4</th>\n",
       "      <td>2024-06-14 17:19:17.792</td>\n",
       "      <td>107838014712814240</td>\n",
       "      <td>AlexJones</td>\n",
       "      <td>https://truthsocial.com/@AlexJones/11261611591...</td>\n",
       "      <td>&lt;p&gt;&lt;a href=\"https://truthsocial.com/tags/AlexJ...</td>\n",
       "      <td>#AlexJonesShow LIVE: Tucker Carlson, Russell B...</td>\n",
       "    </tr>\n",
       "  </tbody>\n",
       "</table>\n",
       "</div>"
      ],
      "text/plain": [
       "               created_at           author_id   username  \\\n",
       "0 2024-06-16 21:27:19.392  107838014712814240  AlexJones   \n",
       "1 2024-06-16 18:00:57.062  107838014712814240  AlexJones   \n",
       "2 2024-06-15 15:02:15.900  107838014712814240  AlexJones   \n",
       "3 2024-06-15 00:08:13.055  107838014712814240  AlexJones   \n",
       "4 2024-06-14 17:19:17.792  107838014712814240  AlexJones   \n",
       "\n",
       "                                           tweet_url  \\\n",
       "0  https://truthsocial.com/@AlexJones/11262841581...   \n",
       "1  https://truthsocial.com/@AlexJones/11262760432...   \n",
       "2  https://truthsocial.com/@AlexJones/11262123939...   \n",
       "3  https://truthsocial.com/@AlexJones/11261772385...   \n",
       "4  https://truthsocial.com/@AlexJones/11261611591...   \n",
       "\n",
       "                                             content  \\\n",
       "0  <p><a href=\"https://truthsocial.com/tags/AlexJ...   \n",
       "1  <p>Watch: Alex Jones Calls Out Globalist Tyran...   \n",
       "2  <p>Alex Jones Emergency Saturday Broadcast: Le...   \n",
       "3  <p>Exclusive: Alex Jones Makes First Statement...   \n",
       "4  <p><a href=\"https://truthsocial.com/tags/AlexJ...   \n",
       "\n",
       "                                                text  \n",
       "0  #AlexJonesShow Sunday Live: Hollywood Comes to...  \n",
       "1  Watch: Alex Jones Calls Out Globalist Tyrants ...  \n",
       "2  Alex Jones Emergency Saturday Broadcast: Learn...  \n",
       "3  Exclusive: Alex Jones Makes First Statements A...  \n",
       "4  #AlexJonesShow LIVE: Tucker Carlson, Russell B...  "
      ]
     },
     "execution_count": 3,
     "metadata": {},
     "output_type": "execute_result"
    }
   ],
   "source": [
    "df_tweets_raw_data.head(5)"
   ]
  },
  {
   "cell_type": "code",
   "execution_count": 4,
   "id": "43e11cf2-cb39-49ee-a601-58a4ec3caa7d",
   "metadata": {},
   "outputs": [
    {
     "data": {
      "text/plain": [
       "(762993, 6)"
      ]
     },
     "execution_count": 4,
     "metadata": {},
     "output_type": "execute_result"
    }
   ],
   "source": [
    "df_tweets_raw_data.shape"
   ]
  },
  {
   "cell_type": "markdown",
   "id": "03bd2975-f291-4fdb-9c2f-51dd6b8c269d",
   "metadata": {},
   "source": [
    "#### Inspecting a few tweets"
   ]
  },
  {
   "cell_type": "code",
   "execution_count": 5,
   "id": "6109d2f2-4cd1-43ce-86fe-7fb7f1ff8910",
   "metadata": {},
   "outputs": [
    {
     "name": "stdout",
     "output_type": "stream",
     "text": [
      "username:AlexJones\n",
      "text:RT @infowarsGET READY: Tucker Carlson LIVE Nationwide Tour — Coming This Fall! LEARN MORE  https://www.infowars.com/posts/get-ready-tucker-carlson-live-nationwide-tour-coming-this-fall/\n",
      "tweet_url:https://truthsocial.com/@AlexJones/112604587244214528\n"
     ]
    }
   ],
   "source": [
    "inspected_row = 14\n",
    "print('username:' + df_tweets_raw_data.loc[inspected_row, 'username'])\n",
    "print('text:' + df_tweets_raw_data.loc[inspected_row, 'text'])\n",
    "print('tweet_url:' + df_tweets_raw_data.loc[inspected_row, 'tweet_url'])"
   ]
  },
  {
   "cell_type": "markdown",
   "id": "69a09ff1-20d5-4a2b-bc80-c5c15dcfde17",
   "metadata": {},
   "source": [
    "#### Exporting the raw data into a file for inspection"
   ]
  },
  {
   "cell_type": "code",
   "execution_count": 6,
   "id": "0fe6c6d6-66b1-4b54-822f-809e783bce79",
   "metadata": {},
   "outputs": [],
   "source": [
    "df_tweets_raw_data[['tweet_url', 'text']].to_csv('tweets_raw_data_url_text1.tsv', sep='\\t', index=False)"
   ]
  },
  {
   "cell_type": "code",
   "execution_count": 7,
   "id": "bc2c87ef-6d28-4996-b86b-d438364ab765",
   "metadata": {},
   "outputs": [],
   "source": [
    "df_tweets_raw_data[['text']].to_csv('tweets_raw_data_text1.tsv', sep='\\t', index=False)"
   ]
  },
  {
   "cell_type": "markdown",
   "id": "4277d732-f65b-4e0c-868d-16d2d38ef04b",
   "metadata": {},
   "source": [
    "### Inspecting the dataset and eliminating malformed data"
   ]
  },
  {
   "cell_type": "markdown",
   "id": "30643060-8eaa-47e0-9a52-95f6fbd75515",
   "metadata": {},
   "source": [
    "#### Identifying rows that are empty in column `text`"
   ]
  },
  {
   "cell_type": "code",
   "execution_count": 8,
   "id": "e6de7bb2-56d3-41cb-9294-d19dbeca836b",
   "metadata": {},
   "outputs": [
    {
     "name": "stdout",
     "output_type": "stream",
     "text": [
      "0\n"
     ]
    }
   ],
   "source": [
    "print(df_tweets_raw_data['text'].isnull().sum())"
   ]
  },
  {
   "cell_type": "code",
   "execution_count": 9,
   "id": "ea9e9cf4-0f39-4cdc-84f0-84d8446eea53",
   "metadata": {},
   "outputs": [
    {
     "data": {
      "text/html": [
       "<div>\n",
       "<style scoped>\n",
       "    .dataframe tbody tr th:only-of-type {\n",
       "        vertical-align: middle;\n",
       "    }\n",
       "\n",
       "    .dataframe tbody tr th {\n",
       "        vertical-align: top;\n",
       "    }\n",
       "\n",
       "    .dataframe thead th {\n",
       "        text-align: right;\n",
       "    }\n",
       "</style>\n",
       "<table border=\"1\" class=\"dataframe\">\n",
       "  <thead>\n",
       "    <tr style=\"text-align: right;\">\n",
       "      <th></th>\n",
       "      <th>created_at</th>\n",
       "      <th>author_id</th>\n",
       "      <th>username</th>\n",
       "      <th>tweet_url</th>\n",
       "      <th>content</th>\n",
       "      <th>text</th>\n",
       "    </tr>\n",
       "  </thead>\n",
       "  <tbody>\n",
       "  </tbody>\n",
       "</table>\n",
       "</div>"
      ],
      "text/plain": [
       "Empty DataFrame\n",
       "Columns: [created_at, author_id, username, tweet_url, content, text]\n",
       "Index: []"
      ]
     },
     "execution_count": 9,
     "metadata": {},
     "output_type": "execute_result"
    }
   ],
   "source": [
    "df_tweets_raw_data[df_tweets_raw_data['text'].isnull()]"
   ]
  },
  {
   "cell_type": "markdown",
   "id": "c4bbc61e-77c5-4339-99ed-e8aea3a1ec42",
   "metadata": {},
   "source": [
    "#### Dropping the rows that are empty in the column `text`"
   ]
  },
  {
   "cell_type": "code",
   "execution_count": 10,
   "id": "db62e8de-5e85-4474-9bf4-4c9342c2640b",
   "metadata": {},
   "outputs": [],
   "source": [
    "# Drop the rows whose column 'text' is NaN\n",
    "df_tweets_raw_data = df_tweets_raw_data.dropna(subset=['text'])\n",
    "\n",
    "# Reset the index\n",
    "df_tweets_raw_data = df_tweets_raw_data.reset_index(drop=True)"
   ]
  },
  {
   "cell_type": "code",
   "execution_count": 11,
   "id": "c44d9a76-464b-41ca-842a-921beae1c6ad",
   "metadata": {},
   "outputs": [
    {
     "name": "stdout",
     "output_type": "stream",
     "text": [
      "0\n"
     ]
    }
   ],
   "source": [
    "print(df_tweets_raw_data['text'].isnull().sum())"
   ]
  },
  {
   "cell_type": "markdown",
   "id": "a352e2c5-41d2-43f9-8ea6-96a9cbad1bdf",
   "metadata": {},
   "source": [
    "#### Checking if data types are consistent"
   ]
  },
  {
   "cell_type": "code",
   "execution_count": 12,
   "id": "6795c314-cc1f-4acd-86a1-a4eada8a9bcb",
   "metadata": {},
   "outputs": [
    {
     "data": {
      "text/plain": [
       "created_at    datetime64[ns]\n",
       "author_id              int64\n",
       "username              object\n",
       "tweet_url             object\n",
       "content               object\n",
       "text                  object\n",
       "dtype: object"
      ]
     },
     "execution_count": 12,
     "metadata": {},
     "output_type": "execute_result"
    }
   ],
   "source": [
    "df_tweets_raw_data.dtypes"
   ]
  },
  {
   "cell_type": "markdown",
   "id": "ac9a7995-0f9b-4c1d-bab9-53f9ffc81097",
   "metadata": {},
   "source": [
    "## Sampling the raw data according to search terms"
   ]
  },
  {
   "cell_type": "code",
   "execution_count": 13,
   "id": "e818d364-65b5-40a1-aca8-30992032d0f7",
   "metadata": {},
   "outputs": [
    {
     "data": {
      "text/plain": [
       "(94295, 6)"
      ]
     },
     "execution_count": 13,
     "metadata": {},
     "output_type": "execute_result"
    }
   ],
   "source": [
    "# Defining the search terms\n",
    "filter_words = ['gop', 'patriot', 'maga', 'awakening', 'storm', 'conservative', 'children', 'freedom', 'free speech']\n",
    "\n",
    "# Creating a boolean mask for filtering\n",
    "mask = df_tweets_raw_data['text'].str.contains('|'.join(filter_words), case=False)\n",
    "\n",
    "# Applying the mask to create 'df_tweets_filtered'\n",
    "df_tweets_filtered = df_tweets_raw_data[mask]\n",
    "df_tweets_filtered = df_tweets_filtered.reset_index(drop=True)\n",
    "df_tweets_filtered.shape"
   ]
  },
  {
   "cell_type": "code",
   "execution_count": 14,
   "id": "19db4718-37a5-4895-8f3c-cac12e4aa6c4",
   "metadata": {},
   "outputs": [
    {
     "data": {
      "text/html": [
       "<div>\n",
       "<style scoped>\n",
       "    .dataframe tbody tr th:only-of-type {\n",
       "        vertical-align: middle;\n",
       "    }\n",
       "\n",
       "    .dataframe tbody tr th {\n",
       "        vertical-align: top;\n",
       "    }\n",
       "\n",
       "    .dataframe thead th {\n",
       "        text-align: right;\n",
       "    }\n",
       "</style>\n",
       "<table border=\"1\" class=\"dataframe\">\n",
       "  <thead>\n",
       "    <tr style=\"text-align: right;\">\n",
       "      <th></th>\n",
       "      <th>created_at</th>\n",
       "      <th>author_id</th>\n",
       "      <th>username</th>\n",
       "      <th>tweet_url</th>\n",
       "      <th>content</th>\n",
       "      <th>text</th>\n",
       "    </tr>\n",
       "  </thead>\n",
       "  <tbody>\n",
       "    <tr>\n",
       "      <th>0</th>\n",
       "      <td>2024-05-17 20:09:57.926</td>\n",
       "      <td>107838014712814240</td>\n",
       "      <td>AlexJones</td>\n",
       "      <td>https://truthsocial.com/@AlexJones/11245824232...</td>\n",
       "      <td>&lt;p&gt;RT &lt;span class=\"h-card\"&gt;&lt;a href=\"https://tr...</td>\n",
       "      <td>RT @infowarsTikTok Bans MUST-SEE Video Predict...</td>\n",
       "    </tr>\n",
       "    <tr>\n",
       "      <th>1</th>\n",
       "      <td>2024-05-17 16:19:17.494</td>\n",
       "      <td>107838014712814240</td>\n",
       "      <td>AlexJones</td>\n",
       "      <td>https://truthsocial.com/@AlexJones/11245733527...</td>\n",
       "      <td>&lt;p&gt;&lt;a href=\"https://truthsocial.com/tags/AlexJ...</td>\n",
       "      <td>#AlexJonesShow Friday LIVE: Weather Weapons Ma...</td>\n",
       "    </tr>\n",
       "    <tr>\n",
       "      <th>2</th>\n",
       "      <td>2024-05-08 16:14:16.500</td>\n",
       "      <td>107838014712814240</td>\n",
       "      <td>AlexJones</td>\n",
       "      <td>https://truthsocial.com/@AlexJones/11240635475...</td>\n",
       "      <td>&lt;p&gt;&lt;a href=\"https://truthsocial.com/tags/AlexJ...</td>\n",
       "      <td>#AlexJonesShow Must-Watch Wednesday Broadcast:...</td>\n",
       "    </tr>\n",
       "    <tr>\n",
       "      <th>3</th>\n",
       "      <td>2024-04-23 22:59:14.840</td>\n",
       "      <td>107838014712814240</td>\n",
       "      <td>AlexJones</td>\n",
       "      <td>https://truthsocial.com/@AlexJones/11232301251...</td>\n",
       "      <td>&lt;p&gt;BREAKING: Australian Senator Calls For Elon...</td>\n",
       "      <td>BREAKING: Australian Senator Calls For Elon Mu...</td>\n",
       "    </tr>\n",
       "    <tr>\n",
       "      <th>4</th>\n",
       "      <td>2024-04-17 16:27:45.771</td>\n",
       "      <td>107838014712814240</td>\n",
       "      <td>AlexJones</td>\n",
       "      <td>https://truthsocial.com/@AlexJones/11228749927...</td>\n",
       "      <td>&lt;p&gt;RT &lt;span class=\"h-card\"&gt;&lt;a href=\"https://tr...</td>\n",
       "      <td>RT @infowarsWatch: GOP Lawmakers Grill Mayorka...</td>\n",
       "    </tr>\n",
       "    <tr>\n",
       "      <th>...</th>\n",
       "      <td>...</td>\n",
       "      <td>...</td>\n",
       "      <td>...</td>\n",
       "      <td>...</td>\n",
       "      <td>...</td>\n",
       "      <td>...</td>\n",
       "    </tr>\n",
       "    <tr>\n",
       "      <th>94290</th>\n",
       "      <td>2022-05-08 16:00:00.486</td>\n",
       "      <td>107759501782461328</td>\n",
       "      <td>truthsocial</td>\n",
       "      <td>https://truthsocial.com/@truthsocial/108267149...</td>\n",
       "      <td>&lt;p&gt;RT &lt;span class=\"h-card\"&gt;&lt;a href=\"https://tr...</td>\n",
       "      <td>RT @MelaniaTrump#HappyMothersDay to all the mo...</td>\n",
       "    </tr>\n",
       "    <tr>\n",
       "      <th>94291</th>\n",
       "      <td>2022-05-07 19:28:26.444</td>\n",
       "      <td>107759501782461328</td>\n",
       "      <td>truthsocial</td>\n",
       "      <td>https://truthsocial.com/@truthsocial/108262307...</td>\n",
       "      <td>&lt;p&gt;BIG NEWS! Our inaugural Truth Social Patrio...</td>\n",
       "      <td>BIG NEWS! Our inaugural Truth Social Patriot h...</td>\n",
       "    </tr>\n",
       "    <tr>\n",
       "      <th>94292</th>\n",
       "      <td>2022-04-01 18:29:44.910</td>\n",
       "      <td>107759501782461328</td>\n",
       "      <td>truthsocial</td>\n",
       "      <td>https://truthsocial.com/@truthsocial/108058233...</td>\n",
       "      <td>&lt;p&gt;RT &lt;span class=\"h-card\"&gt;&lt;a href=\"https://tr...</td>\n",
       "      <td>RT @dbonginoBig tech censorship is real. Read ...</td>\n",
       "    </tr>\n",
       "    <tr>\n",
       "      <th>94293</th>\n",
       "      <td>2022-03-11 15:08:04.927</td>\n",
       "      <td>107759501782461328</td>\n",
       "      <td>truthsocial</td>\n",
       "      <td>https://truthsocial.com/@truthsocial/107938531...</td>\n",
       "      <td>&lt;p&gt;User engagement on &lt;a href=\"https://truthso...</td>\n",
       "      <td>User engagement on #TRUTH is off the charts…an...</td>\n",
       "    </tr>\n",
       "    <tr>\n",
       "      <th>94294</th>\n",
       "      <td>2022-04-04 15:53:16.246</td>\n",
       "      <td>107838824115445312</td>\n",
       "      <td>warrendavidson</td>\n",
       "      <td>https://truthsocial.com/@warrendavidson/108074...</td>\n",
       "      <td>&lt;p&gt;Good governments defend freedom.&lt;/p&gt;</td>\n",
       "      <td>Good governments defend freedom.</td>\n",
       "    </tr>\n",
       "  </tbody>\n",
       "</table>\n",
       "<p>94295 rows × 6 columns</p>\n",
       "</div>"
      ],
      "text/plain": [
       "                   created_at           author_id        username  \\\n",
       "0     2024-05-17 20:09:57.926  107838014712814240       AlexJones   \n",
       "1     2024-05-17 16:19:17.494  107838014712814240       AlexJones   \n",
       "2     2024-05-08 16:14:16.500  107838014712814240       AlexJones   \n",
       "3     2024-04-23 22:59:14.840  107838014712814240       AlexJones   \n",
       "4     2024-04-17 16:27:45.771  107838014712814240       AlexJones   \n",
       "...                       ...                 ...             ...   \n",
       "94290 2022-05-08 16:00:00.486  107759501782461328     truthsocial   \n",
       "94291 2022-05-07 19:28:26.444  107759501782461328     truthsocial   \n",
       "94292 2022-04-01 18:29:44.910  107759501782461328     truthsocial   \n",
       "94293 2022-03-11 15:08:04.927  107759501782461328     truthsocial   \n",
       "94294 2022-04-04 15:53:16.246  107838824115445312  warrendavidson   \n",
       "\n",
       "                                               tweet_url  \\\n",
       "0      https://truthsocial.com/@AlexJones/11245824232...   \n",
       "1      https://truthsocial.com/@AlexJones/11245733527...   \n",
       "2      https://truthsocial.com/@AlexJones/11240635475...   \n",
       "3      https://truthsocial.com/@AlexJones/11232301251...   \n",
       "4      https://truthsocial.com/@AlexJones/11228749927...   \n",
       "...                                                  ...   \n",
       "94290  https://truthsocial.com/@truthsocial/108267149...   \n",
       "94291  https://truthsocial.com/@truthsocial/108262307...   \n",
       "94292  https://truthsocial.com/@truthsocial/108058233...   \n",
       "94293  https://truthsocial.com/@truthsocial/107938531...   \n",
       "94294  https://truthsocial.com/@warrendavidson/108074...   \n",
       "\n",
       "                                                 content  \\\n",
       "0      <p>RT <span class=\"h-card\"><a href=\"https://tr...   \n",
       "1      <p><a href=\"https://truthsocial.com/tags/AlexJ...   \n",
       "2      <p><a href=\"https://truthsocial.com/tags/AlexJ...   \n",
       "3      <p>BREAKING: Australian Senator Calls For Elon...   \n",
       "4      <p>RT <span class=\"h-card\"><a href=\"https://tr...   \n",
       "...                                                  ...   \n",
       "94290  <p>RT <span class=\"h-card\"><a href=\"https://tr...   \n",
       "94291  <p>BIG NEWS! Our inaugural Truth Social Patrio...   \n",
       "94292  <p>RT <span class=\"h-card\"><a href=\"https://tr...   \n",
       "94293  <p>User engagement on <a href=\"https://truthso...   \n",
       "94294            <p>Good governments defend freedom.</p>   \n",
       "\n",
       "                                                    text  \n",
       "0      RT @infowarsTikTok Bans MUST-SEE Video Predict...  \n",
       "1      #AlexJonesShow Friday LIVE: Weather Weapons Ma...  \n",
       "2      #AlexJonesShow Must-Watch Wednesday Broadcast:...  \n",
       "3      BREAKING: Australian Senator Calls For Elon Mu...  \n",
       "4      RT @infowarsWatch: GOP Lawmakers Grill Mayorka...  \n",
       "...                                                  ...  \n",
       "94290  RT @MelaniaTrump#HappyMothersDay to all the mo...  \n",
       "94291  BIG NEWS! Our inaugural Truth Social Patriot h...  \n",
       "94292  RT @dbonginoBig tech censorship is real. Read ...  \n",
       "94293  User engagement on #TRUTH is off the charts…an...  \n",
       "94294                   Good governments defend freedom.  \n",
       "\n",
       "[94295 rows x 6 columns]"
      ]
     },
     "execution_count": 14,
     "metadata": {},
     "output_type": "execute_result"
    }
   ],
   "source": [
    "df_tweets_filtered"
   ]
  },
  {
   "cell_type": "markdown",
   "id": "88fac575-3e7e-4b72-b367-474a9a4dfea6",
   "metadata": {},
   "source": [
    "## Cleaning data"
   ]
  },
  {
   "cell_type": "markdown",
   "id": "3cd59c55-0719-4485-ad8c-2f76fc5b21ee",
   "metadata": {},
   "source": [
    "### Removing specific Unicode characters"
   ]
  },
  {
   "cell_type": "markdown",
   "id": "017cc0ca-8a41-4c78-a341-3622a22244a5",
   "metadata": {},
   "source": [
    "The dataset may need to be cleaned of invisible Unicode characters."
   ]
  },
  {
   "cell_type": "markdown",
   "id": "93248ba8-48c5-466a-ac42-f51705ecdf91",
   "metadata": {},
   "source": [
    "#### Detecting `U+2066`, `U+2069` and `U+FEFF` characters"
   ]
  },
  {
   "cell_type": "markdown",
   "id": "ec7838b4-b5dd-4a45-ae3a-e4f3f8408a2b",
   "metadata": {},
   "source": [
    "- [U+2066](https://www.compart.com/en/unicode/U+2066)\n",
    "- [U+2069](https://www.compart.com/en/unicode/U+2069)\n",
    "- [U+FEFF](https://www.compart.com/en/unicode/U+FEFF)"
   ]
  },
  {
   "cell_type": "markdown",
   "id": "d1feac56-081a-4197-85ec-363a958848fb",
   "metadata": {},
   "source": [
    "Please refer to:\n",
    "- [Python RegEx](https://www.w3schools.com/python/python_regex.asp)\n",
    "- [regex101](https://regex101.com/)\n",
    "- [RegExr](https://regexr.com/)"
   ]
  },
  {
   "cell_type": "code",
   "execution_count": 15,
   "id": "569db1bb-d6ee-4eca-8383-5dfb522f35aa",
   "metadata": {},
   "outputs": [
    {
     "name": "stdout",
     "output_type": "stream",
     "text": [
      "Character ﻿: Count = 209\n",
      "Character ⁦: Count = 29\n",
      "Character ⁩: Count = 20\n"
     ]
    }
   ],
   "source": [
    "# Defining a function to detect specific Unicode characters\n",
    "def extract_unicode_characters(df, column_name):\n",
    "    unicode_chars = Counter()  # Initialize a Counter to store Unicode character counts\n",
    "\n",
    "    for value in df[column_name]:\n",
    "        if isinstance(value, str):\n",
    "            # Use RegEx to find non-ASCII characters (Unicode)\n",
    "#            non_ascii_chars = re.findall(r'[^\\x00-\\x7F]+', value)\n",
    "            # Use RegEx to find specific Unicode characters - adjust the expression accordingly\n",
    "            specific_unicode_chars = re.findall(r'[\\u2066\\u2069\\ufeff]', value)\n",
    "            unicode_chars.update(specific_unicode_chars)\n",
    "\n",
    "    return unicode_chars\n",
    "\n",
    "# Inspect the dataframe for specific Unicode characters\n",
    "unicode_counts = extract_unicode_characters(df_tweets_filtered, 'text')\n",
    "\n",
    "# Print the results\n",
    "for char, count in unicode_counts.items():\n",
    "    print(f'Character {char}: Count = {count}')"
   ]
  },
  {
   "cell_type": "markdown",
   "id": "b0c3a43b-31d1-47d2-8bc3-c701c5450b3a",
   "metadata": {},
   "source": [
    "#### Removing `U+2066`, `U+2069` and `U+FEFF` characters"
   ]
  },
  {
   "cell_type": "code",
   "execution_count": 16,
   "id": "795d7929-bb59-4417-87e5-1448a3662264",
   "metadata": {},
   "outputs": [],
   "source": [
    "# Defining a function to remove specific Unicode characters\n",
    "def remove_specific_unicode(input_line):\n",
    "    # Using RegEx to replace specific Unicode characters - adjust the expression accordingly\n",
    "    cleaned_line = re.sub(r'[\\u2066\\u2069\\ufeff]', '', input_line)\n",
    "    return cleaned_line\n",
    "\n",
    "# Removing specific Unicode characters\n",
    "df_tweets_filtered['text'] = df_tweets_filtered['text'].apply(remove_specific_unicode)"
   ]
  },
  {
   "cell_type": "markdown",
   "id": "e2f8843a-adfd-416f-bed9-f1380775e7bd",
   "metadata": {},
   "source": [
    "### Replacing the `LF` character by a space"
   ]
  },
  {
   "cell_type": "markdown",
   "id": "b8176756-2994-4a83-b77e-3d5dec420463",
   "metadata": {},
   "source": [
    "Some tweets, especially the retweeted ones, contain multiple lines of text."
   ]
  },
  {
   "cell_type": "code",
   "execution_count": 17,
   "id": "566a880a-7a43-4438-9455-36d5083678c2",
   "metadata": {},
   "outputs": [],
   "source": [
    "# Defining a function to replace the `LF` character by a space\n",
    "def remove_cr_lf(input_line):\n",
    "    # Using RegEx to replace LF by a space\n",
    "    cleaned_line = re.sub(r'\\n', ' ', input_line)\n",
    "    return cleaned_line\n",
    "\n",
    "# Applying the function to the 'text' column in your DataFrame\n",
    "df_tweets_filtered['text'] = df_tweets_filtered['text'].apply(remove_cr_lf)"
   ]
  },
  {
   "cell_type": "markdown",
   "id": "061e9c37-c45b-46c5-b2db-8c6b5b409813",
   "metadata": {},
   "source": [
    "### Replacing the `U+00A0` (No-Break Space) character by a space"
   ]
  },
  {
   "cell_type": "code",
   "execution_count": 18,
   "id": "beb24fa8-5232-43f5-86c7-4b88f6c551e9",
   "metadata": {},
   "outputs": [],
   "source": [
    "# Defining a function to replace the `U+A0` character by a space\n",
    "def replace_no_break_space(input_line):\n",
    "    # Using RegEx to replace LF by a space\n",
    "    cleaned_line = re.sub(r'\\u00a0', ' ', input_line)\n",
    "    return cleaned_line\n",
    "\n",
    "# Applying the function to the 'text' column in your DataFrame\n",
    "df_tweets_filtered['text'] = df_tweets_filtered['text'].apply(replace_no_break_space)"
   ]
  },
  {
   "cell_type": "markdown",
   "id": "ba7deb26-6cb8-4c16-9276-93ffb262d75a",
   "metadata": {},
   "source": [
    "### Removing URLs"
   ]
  },
  {
   "cell_type": "code",
   "execution_count": 19,
   "id": "686add33-7dbb-44bc-b756-8fbec70ce8b2",
   "metadata": {},
   "outputs": [],
   "source": [
    "# Defining a function to remove URLs\n",
    "def remove_urls(input_string):\n",
    "    modified_string = re.sub(r\"((http|https):\\/\\/)?([a-zA-Z0-9-]+\\.)+[a-zA-Z]{2,6}(\\/[a-zA-Z0-9-._~:\\/?#[\\]@!$&'()*+,;=]*)?\\/?\", '', input_string)\n",
    "    return modified_string\n",
    "\n",
    "# Removing URLs\n",
    "df_tweets_filtered['text'] = df_tweets_filtered['text'].apply(remove_urls)"
   ]
  },
  {
   "cell_type": "markdown",
   "id": "b0ae35d9-d0c1-487e-a708-725a9e336d47",
   "metadata": {},
   "source": [
    "### Cleaning HTML entities"
   ]
  },
  {
   "cell_type": "code",
   "execution_count": 20,
   "id": "be8335b9-67d5-4010-b61e-4b23a845e3fd",
   "metadata": {},
   "outputs": [],
   "source": [
    "def clean_html_entities(input_line):\n",
    "    # Converting HTML entities to their corresponding characters\n",
    "    decoded_line = html.unescape(input_line)\n",
    "    # Removing HTML tags\n",
    "    cleaned_line = re.sub(r'<.*?>', '', decoded_line)\n",
    "    cleaned_line = re.sub(r'<', '', cleaned_line)\n",
    "    cleaned_line = re.sub(r'>', '', cleaned_line)\n",
    "    return cleaned_line\n",
    "\n",
    "# Applying the function to the 'text' column in your DataFrame\n",
    "df_tweets_filtered['text'] = df_tweets_filtered['text'].apply(clean_html_entities)"
   ]
  },
  {
   "cell_type": "markdown",
   "id": "32677907-4a5b-4675-955f-f09abedbf4ed",
   "metadata": {},
   "source": [
    "### Removing the preceding `.`"
   ]
  },
  {
   "cell_type": "code",
   "execution_count": 21,
   "id": "aef43f03-4ab7-4f2a-9005-e0f032edff08",
   "metadata": {},
   "outputs": [],
   "source": [
    "# Defining a function to remove preceding the dot\n",
    "def clean_text(input_line):\n",
    "    # Removing preceding dot\n",
    "    cleaned_line = re.sub(r'(^\\.)(?=[ #\\w+@])', '', input_line)\n",
    "    return cleaned_line\n",
    "\n",
    "# Applying the function to the 'text' column in your DataFrame\n",
    "df_tweets_filtered['text'] = df_tweets_filtered['text'].apply(clean_text)"
   ]
  },
  {
   "cell_type": "markdown",
   "id": "82c87ca3-d26d-450c-8a8e-669a3bc51afb",
   "metadata": {},
   "source": [
    "### Dropping duplicates"
   ]
  },
  {
   "cell_type": "markdown",
   "id": "c0eee4c7-06e1-4ac6-9fd6-0080e0aa3403",
   "metadata": {},
   "source": [
    "#### Retweets"
   ]
  },
  {
   "cell_type": "markdown",
   "id": "95cf323c-2aec-49f5-a8cc-85312a02751d",
   "metadata": {},
   "source": [
    "Retweets bear the following RegEx patterns at the beginning of the column `text`.\n",
    "\n",
    "- ^RT @\\w+\\s*:\n",
    "- ^rt @\\w+\\s*:\n",
    "- ^RT @\\w+\\s*\n",
    "- ^RT:\\s*\n",
    "- ^RT\\s*"
   ]
  },
  {
   "cell_type": "code",
   "execution_count": 22,
   "id": "274b4f6d-9275-4472-9e05-911026267e46",
   "metadata": {},
   "outputs": [
    {
     "data": {
      "text/plain": [
       "(71739, 6)"
      ]
     },
     "execution_count": 22,
     "metadata": {},
     "output_type": "execute_result"
    }
   ],
   "source": [
    "# Creating a boolean mask for filtering - it is preceded by '~' to invert the selection\n",
    "mask = ~df_tweets_filtered['text'].str.contains(r'^RT @\\w+\\s*:|^rt @\\w+\\s*:|^RT @\\w+\\s*|^RT:\\s*|^RT\\s*', regex=True)\n",
    "\n",
    "# Applying the mask to overwrite the raw data dataframe with non retweeted tweets\n",
    "df_tweets_filtered = df_tweets_filtered[mask]\n",
    "df_tweets_filtered = df_tweets_filtered.reset_index(drop=True)\n",
    "df_tweets_filtered.shape"
   ]
  },
  {
   "cell_type": "markdown",
   "id": "0b71129d-96b8-48aa-be25-f7ff6f1d58f0",
   "metadata": {},
   "source": [
    "#### Duplicate tweets"
   ]
  },
  {
   "cell_type": "markdown",
   "id": "6e176ee8-41a6-457a-8df4-9b848e0f86a0",
   "metadata": {},
   "source": [
    "The dataset was build in a way that if a certain tweet had more than one photo, one copy of the tweet was included per unique photo. Since we are concerned with analysing just the text, those duplicates should be removed. Tweets that bear the same 'tweet_url' are duplicates - we are going to keep only the first."
   ]
  },
  {
   "cell_type": "code",
   "execution_count": 23,
   "id": "ed5a0b5e-d531-4e92-a16c-58d49cae2a37",
   "metadata": {},
   "outputs": [
    {
     "data": {
      "text/plain": [
       "(71739, 6)"
      ]
     },
     "execution_count": 23,
     "metadata": {},
     "output_type": "execute_result"
    }
   ],
   "source": [
    "df_tweets_filtered.drop_duplicates(subset='tweet_url', keep='first', inplace=True)\n",
    "df_tweets_filtered = df_tweets_filtered.reset_index(drop=True)\n",
    "df_tweets_filtered.shape"
   ]
  },
  {
   "cell_type": "markdown",
   "id": "40335239-3ca1-4bb2-ba70-8ed61f497465",
   "metadata": {},
   "source": [
    "#### @mentioned tweets"
   ]
  },
  {
   "cell_type": "markdown",
   "id": "1772610b-3880-4611-91e9-cbdb35a3d8a0",
   "metadata": {},
   "source": [
    "A few users @mention copies of tweets towards other specific users creating multiple copies of the same tweet - those duplicates should be removed."
   ]
  },
  {
   "cell_type": "code",
   "execution_count": 24,
   "id": "e2edcfd3-b06b-45a9-8892-5bb9d6f92b4d",
   "metadata": {},
   "outputs": [
    {
     "data": {
      "text/plain": [
       "(56646, 7)"
      ]
     },
     "execution_count": 24,
     "metadata": {},
     "output_type": "execute_result"
    }
   ],
   "source": [
    "# Create a new column 'no_mention' containing the contents of the column 'text' without any preceding @mentions\n",
    "df_tweets_filtered['no_mention'] = df_tweets_filtered['text'].str.replace(r'^@\\w+\\s*', '', regex=True)\n",
    "\n",
    "# Drop duplicate rows except the first occurrence based on 'no_mention'\n",
    "df_tweets_filtered.drop_duplicates(subset='no_mention', keep='first', inplace=True)\n",
    "df_tweets_filtered = df_tweets_filtered.reset_index(drop=True)\n",
    "df_tweets_filtered.shape"
   ]
  },
  {
   "cell_type": "markdown",
   "id": "b521ace7-7767-42d2-846a-106b95d11aa8",
   "metadata": {},
   "source": [
    "#### Removing posts preceded by `'^\\\"\\\"'` pattern"
   ]
  },
  {
   "cell_type": "markdown",
   "id": "ba4940ac-2f53-4cd8-be77-6577db0227a4",
   "metadata": {},
   "source": [
    "For some reason, a few posts are empty: `\"\"`. They should be removed."
   ]
  },
  {
   "cell_type": "code",
   "execution_count": 25,
   "id": "5d77da22-01f8-4283-958b-6d6ebd2a7322",
   "metadata": {},
   "outputs": [
    {
     "data": {
      "text/plain": [
       "(56645, 7)"
      ]
     },
     "execution_count": 25,
     "metadata": {},
     "output_type": "execute_result"
    }
   ],
   "source": [
    "# Creating a boolean mask for filtering - it is preceded by '~' to invert the selection\n",
    "mask = ~df_tweets_filtered['text'].str.contains(r'^\\\"\\\"', regex=True)\n",
    "\n",
    "# Applying the mask to overwrite the raw data dataframe with non retweeted tweets\n",
    "df_tweets_filtered = df_tweets_filtered[mask]\n",
    "df_tweets_filtered = df_tweets_filtered.reset_index(drop=True)\n",
    "df_tweets_filtered.shape"
   ]
  },
  {
   "cell_type": "markdown",
   "id": "75493577-bce3-4f79-80d5-402753b89072",
   "metadata": {},
   "source": [
    "#### Duplicate texts"
   ]
  },
  {
   "cell_type": "markdown",
   "id": "d9243010-e1b3-4842-81eb-6237c5572403",
   "metadata": {},
   "source": [
    "Checking for identical posts in terms of content of the column `text` in order to eliminate duplicates."
   ]
  },
  {
   "cell_type": "code",
   "execution_count": 26,
   "id": "c0f43361-b3a0-4067-ae8f-f54429c3a51c",
   "metadata": {},
   "outputs": [
    {
     "data": {
      "text/plain": [
       "(56645, 7)"
      ]
     },
     "execution_count": 26,
     "metadata": {},
     "output_type": "execute_result"
    }
   ],
   "source": [
    "df_tweets_filtered.drop_duplicates(subset='text', keep='first', inplace=True)\n",
    "df_tweets_filtered = df_tweets_filtered.reset_index(drop=True)\n",
    "df_tweets_filtered.shape"
   ]
  },
  {
   "cell_type": "markdown",
   "id": "61c82247-d2d5-4ffa-ac64-0679db238083",
   "metadata": {},
   "source": [
    "## Inspecting and eliminating duplicates"
   ]
  },
  {
   "cell_type": "markdown",
   "id": "a04c6571-c65d-46dc-9ccd-9d01763db368",
   "metadata": {},
   "source": [
    "### Creating a DataFrame index"
   ]
  },
  {
   "cell_type": "code",
   "execution_count": 27,
   "id": "50255316-423b-48bb-9bae-f2158eed6bd9",
   "metadata": {},
   "outputs": [],
   "source": [
    "df_tweets_filtered['df_index'] = df_tweets_filtered.index.astype(str).str.zfill(6)"
   ]
  },
  {
   "cell_type": "markdown",
   "id": "6676e75e-21c3-4db0-bc21-b8ea7373ee66",
   "metadata": {},
   "source": [
    "### Sorting the DataFrame by the column `text` to enable duplicate detection"
   ]
  },
  {
   "cell_type": "code",
   "execution_count": 28,
   "id": "9ed37b7c-a3e4-4ba3-ad87-1568c71f3ad4",
   "metadata": {},
   "outputs": [],
   "source": [
    "# Sorting the DataFrame by the 'text' column in ascending order\n",
    "df_tweets_filtered = df_tweets_filtered.sort_values(by='text', ascending=True)"
   ]
  },
  {
   "cell_type": "markdown",
   "id": "6b121096-7e56-4fac-9814-7ebbf39ffa50",
   "metadata": {},
   "source": [
    "### Exporting the filtered data into a file for inspection"
   ]
  },
  {
   "cell_type": "code",
   "execution_count": 29,
   "id": "fd895a58-348d-4191-ada2-cfdbe5b62559",
   "metadata": {},
   "outputs": [],
   "source": [
    "df_tweets_filtered[['df_index', 'text']].to_csv('tweets_emojified.tsv', sep='\\t', index=False, encoding='utf-8', lineterminator='\\n')"
   ]
  },
  {
   "cell_type": "markdown",
   "id": "7ee368fb-f2b4-4d24-aa5b-3a9ce1f47e36",
   "metadata": {},
   "source": [
    "### Inspecting a few tweets"
   ]
  },
  {
   "cell_type": "code",
   "execution_count": 30,
   "id": "89a6fa07-60db-40c8-bba6-f494c92516db",
   "metadata": {},
   "outputs": [
    {
     "name": "stdout",
     "output_type": "stream",
     "text": [
      "text:Dr. Peter McCullough thinks the Covid vaccine will play a big role in the 2024 election: “Whoever is running for president better figure this out pretty quick!”“25% of us didn’t take it (COVID vaccine) for a reason. The vaccine is kind of an important voter issue for us in health freedom. Another 15% are screwed by them. That’s 40% ... Whoever is running for president better figure this out pretty quick because only 60% of people vote.”\n"
     ]
    }
   ],
   "source": [
    "inspected_row = 1277\n",
    "print('text:' + df_tweets_filtered.loc[inspected_row, 'text'])"
   ]
  },
  {
   "cell_type": "markdown",
   "id": "bd3d8524-2cc8-45df-93e8-b65dc0148194",
   "metadata": {},
   "source": [
    "### Dropping identified duplicates"
   ]
  },
  {
   "cell_type": "code",
   "execution_count": 31,
   "id": "53734bf0-567d-4171-9227-847758ccbd81",
   "metadata": {},
   "outputs": [],
   "source": [
    "# Defining the list of indexes to drop\n",
    "indexes_to_drop = [\n",
    "    514, \n",
    "    52682\n",
    "]\n",
    "\n",
    "# Dropping the rows with the specified indexes\n",
    "df_tweets_filtered = df_tweets_filtered.drop(indexes_to_drop)"
   ]
  },
  {
   "cell_type": "markdown",
   "id": "52b7e055-cd09-42a5-8307-19bca63050a5",
   "metadata": {},
   "source": [
    "### Sorting the DataFrame by the index to revert the DataFrame back to its original order"
   ]
  },
  {
   "cell_type": "code",
   "execution_count": 32,
   "id": "c4b60473-be99-45cc-81fb-fa8a1e65735d",
   "metadata": {},
   "outputs": [],
   "source": [
    "# Sorting the DataFrame back to the original order by the index\n",
    "df_tweets_filtered = df_tweets_filtered.sort_index()\n",
    "df_tweets_filtered = df_tweets_filtered.reset_index(drop=True)"
   ]
  },
  {
   "cell_type": "code",
   "execution_count": 33,
   "id": "bc41c68d-647f-44cf-9f44-be637cc17fad",
   "metadata": {},
   "outputs": [
    {
     "data": {
      "text/html": [
       "<div>\n",
       "<style scoped>\n",
       "    .dataframe tbody tr th:only-of-type {\n",
       "        vertical-align: middle;\n",
       "    }\n",
       "\n",
       "    .dataframe tbody tr th {\n",
       "        vertical-align: top;\n",
       "    }\n",
       "\n",
       "    .dataframe thead th {\n",
       "        text-align: right;\n",
       "    }\n",
       "</style>\n",
       "<table border=\"1\" class=\"dataframe\">\n",
       "  <thead>\n",
       "    <tr style=\"text-align: right;\">\n",
       "      <th></th>\n",
       "      <th>created_at</th>\n",
       "      <th>author_id</th>\n",
       "      <th>username</th>\n",
       "      <th>tweet_url</th>\n",
       "      <th>content</th>\n",
       "      <th>text</th>\n",
       "      <th>no_mention</th>\n",
       "      <th>df_index</th>\n",
       "    </tr>\n",
       "  </thead>\n",
       "  <tbody>\n",
       "    <tr>\n",
       "      <th>0</th>\n",
       "      <td>2024-05-17 16:19:17.494</td>\n",
       "      <td>107838014712814240</td>\n",
       "      <td>AlexJones</td>\n",
       "      <td>https://truthsocial.com/@AlexJones/11245733527...</td>\n",
       "      <td>&lt;p&gt;&lt;a href=\"https://truthsocial.com/tags/AlexJ...</td>\n",
       "      <td>#AlexJonesShow Friday LIVE: Weather Weapons Ma...</td>\n",
       "      <td>#AlexJonesShow Friday LIVE: Weather Weapons Ma...</td>\n",
       "      <td>000000</td>\n",
       "    </tr>\n",
       "    <tr>\n",
       "      <th>1</th>\n",
       "      <td>2024-05-08 16:14:16.500</td>\n",
       "      <td>107838014712814240</td>\n",
       "      <td>AlexJones</td>\n",
       "      <td>https://truthsocial.com/@AlexJones/11240635475...</td>\n",
       "      <td>&lt;p&gt;&lt;a href=\"https://truthsocial.com/tags/AlexJ...</td>\n",
       "      <td>#AlexJonesShow Must-Watch Wednesday Broadcast:...</td>\n",
       "      <td>#AlexJonesShow Must-Watch Wednesday Broadcast:...</td>\n",
       "      <td>000001</td>\n",
       "    </tr>\n",
       "    <tr>\n",
       "      <th>2</th>\n",
       "      <td>2024-04-23 22:59:14.840</td>\n",
       "      <td>107838014712814240</td>\n",
       "      <td>AlexJones</td>\n",
       "      <td>https://truthsocial.com/@AlexJones/11232301251...</td>\n",
       "      <td>&lt;p&gt;BREAKING: Australian Senator Calls For Elon...</td>\n",
       "      <td>BREAKING: Australian Senator Calls For Elon Mu...</td>\n",
       "      <td>BREAKING: Australian Senator Calls For Elon Mu...</td>\n",
       "      <td>000002</td>\n",
       "    </tr>\n",
       "    <tr>\n",
       "      <th>3</th>\n",
       "      <td>2024-03-29 00:48:30.957</td>\n",
       "      <td>107838014712814240</td>\n",
       "      <td>AlexJones</td>\n",
       "      <td>https://truthsocial.com/@AlexJones/11217622210...</td>\n",
       "      <td>&lt;p&gt;BREAKING: CPS Hands Over Kidnapped Children...</td>\n",
       "      <td>BREAKING: CPS Hands Over Kidnapped Children To...</td>\n",
       "      <td>BREAKING: CPS Hands Over Kidnapped Children To...</td>\n",
       "      <td>000003</td>\n",
       "    </tr>\n",
       "    <tr>\n",
       "      <th>4</th>\n",
       "      <td>2024-03-26 16:09:11.639</td>\n",
       "      <td>107838014712814240</td>\n",
       "      <td>AlexJones</td>\n",
       "      <td>https://truthsocial.com/@AlexJones/11216285542...</td>\n",
       "      <td>&lt;p&gt;Tuesday LIVE: Vital US Port Brought to Stan...</td>\n",
       "      <td>Tuesday LIVE: Vital US Port Brought to Standst...</td>\n",
       "      <td>Tuesday LIVE: Vital US Port Brought to Standst...</td>\n",
       "      <td>000004</td>\n",
       "    </tr>\n",
       "    <tr>\n",
       "      <th>...</th>\n",
       "      <td>...</td>\n",
       "      <td>...</td>\n",
       "      <td>...</td>\n",
       "      <td>...</td>\n",
       "      <td>...</td>\n",
       "      <td>...</td>\n",
       "      <td>...</td>\n",
       "      <td>...</td>\n",
       "    </tr>\n",
       "    <tr>\n",
       "      <th>56638</th>\n",
       "      <td>2022-07-20 23:41:05.996</td>\n",
       "      <td>107759501782461328</td>\n",
       "      <td>truthsocial</td>\n",
       "      <td>https://truthsocial.com/@truthsocial/108682311...</td>\n",
       "      <td>&lt;p&gt;We are humbled by the welcome &lt;a href=\"http...</td>\n",
       "      <td>We are humbled by the welcome #TruthSocial is ...</td>\n",
       "      <td>We are humbled by the welcome #TruthSocial is ...</td>\n",
       "      <td>056640</td>\n",
       "    </tr>\n",
       "    <tr>\n",
       "      <th>56639</th>\n",
       "      <td>2022-05-09 21:43:42.330</td>\n",
       "      <td>107759501782461328</td>\n",
       "      <td>truthsocial</td>\n",
       "      <td>https://truthsocial.com/@truthsocial/108274163...</td>\n",
       "      <td>&lt;p&gt;The wait is OVER! Don’t miss out on our ina...</td>\n",
       "      <td>The wait is OVER! Don’t miss out on our inaugu...</td>\n",
       "      <td>The wait is OVER! Don’t miss out on our inaugu...</td>\n",
       "      <td>056641</td>\n",
       "    </tr>\n",
       "    <tr>\n",
       "      <th>56640</th>\n",
       "      <td>2022-05-07 19:28:26.444</td>\n",
       "      <td>107759501782461328</td>\n",
       "      <td>truthsocial</td>\n",
       "      <td>https://truthsocial.com/@truthsocial/108262307...</td>\n",
       "      <td>&lt;p&gt;BIG NEWS! Our inaugural Truth Social Patrio...</td>\n",
       "      <td>BIG NEWS! Our inaugural Truth Social Patriot h...</td>\n",
       "      <td>BIG NEWS! Our inaugural Truth Social Patriot h...</td>\n",
       "      <td>056642</td>\n",
       "    </tr>\n",
       "    <tr>\n",
       "      <th>56641</th>\n",
       "      <td>2022-03-11 15:08:04.927</td>\n",
       "      <td>107759501782461328</td>\n",
       "      <td>truthsocial</td>\n",
       "      <td>https://truthsocial.com/@truthsocial/107938531...</td>\n",
       "      <td>&lt;p&gt;User engagement on &lt;a href=\"https://truthso...</td>\n",
       "      <td>User engagement on #TRUTH is off the charts…an...</td>\n",
       "      <td>User engagement on #TRUTH is off the charts…an...</td>\n",
       "      <td>056643</td>\n",
       "    </tr>\n",
       "    <tr>\n",
       "      <th>56642</th>\n",
       "      <td>2022-04-04 15:53:16.246</td>\n",
       "      <td>107838824115445312</td>\n",
       "      <td>warrendavidson</td>\n",
       "      <td>https://truthsocial.com/@warrendavidson/108074...</td>\n",
       "      <td>&lt;p&gt;Good governments defend freedom.&lt;/p&gt;</td>\n",
       "      <td>Good governments defend freedom.</td>\n",
       "      <td>Good governments defend freedom.</td>\n",
       "      <td>056644</td>\n",
       "    </tr>\n",
       "  </tbody>\n",
       "</table>\n",
       "<p>56643 rows × 8 columns</p>\n",
       "</div>"
      ],
      "text/plain": [
       "                   created_at           author_id        username  \\\n",
       "0     2024-05-17 16:19:17.494  107838014712814240       AlexJones   \n",
       "1     2024-05-08 16:14:16.500  107838014712814240       AlexJones   \n",
       "2     2024-04-23 22:59:14.840  107838014712814240       AlexJones   \n",
       "3     2024-03-29 00:48:30.957  107838014712814240       AlexJones   \n",
       "4     2024-03-26 16:09:11.639  107838014712814240       AlexJones   \n",
       "...                       ...                 ...             ...   \n",
       "56638 2022-07-20 23:41:05.996  107759501782461328     truthsocial   \n",
       "56639 2022-05-09 21:43:42.330  107759501782461328     truthsocial   \n",
       "56640 2022-05-07 19:28:26.444  107759501782461328     truthsocial   \n",
       "56641 2022-03-11 15:08:04.927  107759501782461328     truthsocial   \n",
       "56642 2022-04-04 15:53:16.246  107838824115445312  warrendavidson   \n",
       "\n",
       "                                               tweet_url  \\\n",
       "0      https://truthsocial.com/@AlexJones/11245733527...   \n",
       "1      https://truthsocial.com/@AlexJones/11240635475...   \n",
       "2      https://truthsocial.com/@AlexJones/11232301251...   \n",
       "3      https://truthsocial.com/@AlexJones/11217622210...   \n",
       "4      https://truthsocial.com/@AlexJones/11216285542...   \n",
       "...                                                  ...   \n",
       "56638  https://truthsocial.com/@truthsocial/108682311...   \n",
       "56639  https://truthsocial.com/@truthsocial/108274163...   \n",
       "56640  https://truthsocial.com/@truthsocial/108262307...   \n",
       "56641  https://truthsocial.com/@truthsocial/107938531...   \n",
       "56642  https://truthsocial.com/@warrendavidson/108074...   \n",
       "\n",
       "                                                 content  \\\n",
       "0      <p><a href=\"https://truthsocial.com/tags/AlexJ...   \n",
       "1      <p><a href=\"https://truthsocial.com/tags/AlexJ...   \n",
       "2      <p>BREAKING: Australian Senator Calls For Elon...   \n",
       "3      <p>BREAKING: CPS Hands Over Kidnapped Children...   \n",
       "4      <p>Tuesday LIVE: Vital US Port Brought to Stan...   \n",
       "...                                                  ...   \n",
       "56638  <p>We are humbled by the welcome <a href=\"http...   \n",
       "56639  <p>The wait is OVER! Don’t miss out on our ina...   \n",
       "56640  <p>BIG NEWS! Our inaugural Truth Social Patrio...   \n",
       "56641  <p>User engagement on <a href=\"https://truthso...   \n",
       "56642            <p>Good governments defend freedom.</p>   \n",
       "\n",
       "                                                    text  \\\n",
       "0      #AlexJonesShow Friday LIVE: Weather Weapons Ma...   \n",
       "1      #AlexJonesShow Must-Watch Wednesday Broadcast:...   \n",
       "2      BREAKING: Australian Senator Calls For Elon Mu...   \n",
       "3      BREAKING: CPS Hands Over Kidnapped Children To...   \n",
       "4      Tuesday LIVE: Vital US Port Brought to Standst...   \n",
       "...                                                  ...   \n",
       "56638  We are humbled by the welcome #TruthSocial is ...   \n",
       "56639  The wait is OVER! Don’t miss out on our inaugu...   \n",
       "56640  BIG NEWS! Our inaugural Truth Social Patriot h...   \n",
       "56641  User engagement on #TRUTH is off the charts…an...   \n",
       "56642                   Good governments defend freedom.   \n",
       "\n",
       "                                              no_mention df_index  \n",
       "0      #AlexJonesShow Friday LIVE: Weather Weapons Ma...   000000  \n",
       "1      #AlexJonesShow Must-Watch Wednesday Broadcast:...   000001  \n",
       "2      BREAKING: Australian Senator Calls For Elon Mu...   000002  \n",
       "3      BREAKING: CPS Hands Over Kidnapped Children To...   000003  \n",
       "4      Tuesday LIVE: Vital US Port Brought to Standst...   000004  \n",
       "...                                                  ...      ...  \n",
       "56638  We are humbled by the welcome #TruthSocial is ...   056640  \n",
       "56639  The wait is OVER! Don’t miss out on our inaugu...   056641  \n",
       "56640  BIG NEWS! Our inaugural Truth Social Patriot h...   056642  \n",
       "56641  User engagement on #TRUTH is off the charts…an...   056643  \n",
       "56642                   Good governments defend freedom.   056644  \n",
       "\n",
       "[56643 rows x 8 columns]"
      ]
     },
     "execution_count": 33,
     "metadata": {},
     "output_type": "execute_result"
    }
   ],
   "source": [
    "df_tweets_filtered"
   ]
  },
  {
   "cell_type": "markdown",
   "id": "faab235c-dd8d-45fc-8e00-cea49f3a926b",
   "metadata": {},
   "source": [
    "## Exporting to a file"
   ]
  },
  {
   "cell_type": "markdown",
   "id": "1181925d-57d6-4221-b66e-290230613084",
   "metadata": {},
   "source": [
    "### JSONL format"
   ]
  },
  {
   "cell_type": "code",
   "execution_count": 34,
   "id": "f75524de-49f5-43ab-ac37-2054d5821d88",
   "metadata": {},
   "outputs": [],
   "source": [
    "df_tweets_filtered[['created_at', 'author_id', 'username', 'tweet_url', 'text']].to_json('tweets_filtered.jsonl', orient='records', lines=True)"
   ]
  },
  {
   "cell_type": "markdown",
   "id": "88511f12-b60a-461e-9f10-9cd767864492",
   "metadata": {},
   "source": [
    "### TSV format"
   ]
  },
  {
   "cell_type": "code",
   "execution_count": 35,
   "id": "2cb0d6fc-2d75-4a21-bc00-c9a2bca7a5a1",
   "metadata": {},
   "outputs": [],
   "source": [
    "df_tweets_filtered[['created_at', 'author_id', 'username', 'tweet_url', 'text']].to_csv('tweets_filtered.tsv', sep='\\t', index=False, encoding='utf-8', lineterminator='\\n')"
   ]
  },
  {
   "cell_type": "markdown",
   "id": "65e29723-dde8-4413-957e-40f637465949",
   "metadata": {},
   "source": [
    "## Importing the Target Corpus into a DataFrame"
   ]
  },
  {
   "cell_type": "code",
   "execution_count": 36,
   "id": "81db3d15-d6b5-4f86-ada0-3e85a2cce173",
   "metadata": {},
   "outputs": [],
   "source": [
    "df_tweets_filtered = pd.read_json('tweets_filtered.jsonl', lines=True)"
   ]
  },
  {
   "cell_type": "code",
   "execution_count": 37,
   "id": "89f3a49a-0fa8-4caa-877b-c52eef688bfd",
   "metadata": {},
   "outputs": [
    {
     "data": {
      "text/html": [
       "<div>\n",
       "<style scoped>\n",
       "    .dataframe tbody tr th:only-of-type {\n",
       "        vertical-align: middle;\n",
       "    }\n",
       "\n",
       "    .dataframe tbody tr th {\n",
       "        vertical-align: top;\n",
       "    }\n",
       "\n",
       "    .dataframe thead th {\n",
       "        text-align: right;\n",
       "    }\n",
       "</style>\n",
       "<table border=\"1\" class=\"dataframe\">\n",
       "  <thead>\n",
       "    <tr style=\"text-align: right;\">\n",
       "      <th></th>\n",
       "      <th>created_at</th>\n",
       "      <th>author_id</th>\n",
       "      <th>username</th>\n",
       "      <th>tweet_url</th>\n",
       "      <th>text</th>\n",
       "    </tr>\n",
       "  </thead>\n",
       "  <tbody>\n",
       "    <tr>\n",
       "      <th>0</th>\n",
       "      <td>2024-05-17 16:19:17.494</td>\n",
       "      <td>107838014712814240</td>\n",
       "      <td>AlexJones</td>\n",
       "      <td>https://truthsocial.com/@AlexJones/11245733527...</td>\n",
       "      <td>#AlexJonesShow Friday LIVE: Weather Weapons Ma...</td>\n",
       "    </tr>\n",
       "    <tr>\n",
       "      <th>1</th>\n",
       "      <td>2024-05-08 16:14:16.500</td>\n",
       "      <td>107838014712814240</td>\n",
       "      <td>AlexJones</td>\n",
       "      <td>https://truthsocial.com/@AlexJones/11240635475...</td>\n",
       "      <td>#AlexJonesShow Must-Watch Wednesday Broadcast:...</td>\n",
       "    </tr>\n",
       "    <tr>\n",
       "      <th>2</th>\n",
       "      <td>2024-04-23 22:59:14.840</td>\n",
       "      <td>107838014712814240</td>\n",
       "      <td>AlexJones</td>\n",
       "      <td>https://truthsocial.com/@AlexJones/11232301251...</td>\n",
       "      <td>BREAKING: Australian Senator Calls For Elon Mu...</td>\n",
       "    </tr>\n",
       "    <tr>\n",
       "      <th>3</th>\n",
       "      <td>2024-03-29 00:48:30.957</td>\n",
       "      <td>107838014712814240</td>\n",
       "      <td>AlexJones</td>\n",
       "      <td>https://truthsocial.com/@AlexJones/11217622210...</td>\n",
       "      <td>BREAKING: CPS Hands Over Kidnapped Children To...</td>\n",
       "    </tr>\n",
       "    <tr>\n",
       "      <th>4</th>\n",
       "      <td>2024-03-26 16:09:11.639</td>\n",
       "      <td>107838014712814240</td>\n",
       "      <td>AlexJones</td>\n",
       "      <td>https://truthsocial.com/@AlexJones/11216285542...</td>\n",
       "      <td>Tuesday LIVE: Vital US Port Brought to Standst...</td>\n",
       "    </tr>\n",
       "  </tbody>\n",
       "</table>\n",
       "</div>"
      ],
      "text/plain": [
       "               created_at           author_id   username  \\\n",
       "0 2024-05-17 16:19:17.494  107838014712814240  AlexJones   \n",
       "1 2024-05-08 16:14:16.500  107838014712814240  AlexJones   \n",
       "2 2024-04-23 22:59:14.840  107838014712814240  AlexJones   \n",
       "3 2024-03-29 00:48:30.957  107838014712814240  AlexJones   \n",
       "4 2024-03-26 16:09:11.639  107838014712814240  AlexJones   \n",
       "\n",
       "                                           tweet_url  \\\n",
       "0  https://truthsocial.com/@AlexJones/11245733527...   \n",
       "1  https://truthsocial.com/@AlexJones/11240635475...   \n",
       "2  https://truthsocial.com/@AlexJones/11232301251...   \n",
       "3  https://truthsocial.com/@AlexJones/11217622210...   \n",
       "4  https://truthsocial.com/@AlexJones/11216285542...   \n",
       "\n",
       "                                                text  \n",
       "0  #AlexJonesShow Friday LIVE: Weather Weapons Ma...  \n",
       "1  #AlexJonesShow Must-Watch Wednesday Broadcast:...  \n",
       "2  BREAKING: Australian Senator Calls For Elon Mu...  \n",
       "3  BREAKING: CPS Hands Over Kidnapped Children To...  \n",
       "4  Tuesday LIVE: Vital US Port Brought to Standst...  "
      ]
     },
     "execution_count": 37,
     "metadata": {},
     "output_type": "execute_result"
    }
   ],
   "source": [
    "df_tweets_filtered.head(5)"
   ]
  },
  {
   "cell_type": "code",
   "execution_count": 38,
   "id": "740eb64d-5d16-4a67-b899-ee707b86bcb3",
   "metadata": {},
   "outputs": [
    {
     "data": {
      "text/plain": [
       "(56643, 5)"
      ]
     },
     "execution_count": 38,
     "metadata": {},
     "output_type": "execute_result"
    }
   ],
   "source": [
    "df_tweets_filtered.shape"
   ]
  },
  {
   "cell_type": "code",
   "execution_count": 39,
   "id": "69c1bc0e-ff05-4925-a4b1-a36cfd7b786d",
   "metadata": {},
   "outputs": [
    {
     "data": {
      "text/plain": [
       "created_at    datetime64[ns]\n",
       "author_id              int64\n",
       "username              object\n",
       "tweet_url             object\n",
       "text                  object\n",
       "dtype: object"
      ]
     },
     "execution_count": 39,
     "metadata": {},
     "output_type": "execute_result"
    }
   ],
   "source": [
    "df_tweets_filtered.dtypes"
   ]
  },
  {
   "cell_type": "markdown",
   "id": "cba17b2a-dd9c-4313-8490-9497caec85ab",
   "metadata": {},
   "source": [
    "## Replacing hashtags"
   ]
  },
  {
   "cell_type": "code",
   "execution_count": 40,
   "id": "3acc11c6-74ec-430b-9d89-91c53d648914",
   "metadata": {},
   "outputs": [],
   "source": [
    "# Defining a function to format the hashtagged string\n",
    "def format_hashtagged_string(input_line):\n",
    "    # Defining a function to format the hashtagged string using RegEx\n",
    "    def process_hashtagged_string(s):\n",
    "            # Lowercase the string\n",
    "            s = s.lower()\n",
    "            # Add the appropriate prefixes and suffixes\n",
    "            s = f'HASHTAG{s}_h'\n",
    "            return s\n",
    "\n",
    "    # Use RegEx to find and process each hashtagged string\n",
    "    processed_line = re.sub(r'(#\\w+)', lambda match: process_hashtagged_string(match.group(1)), input_line)\n",
    "    return processed_line\n",
    "\n",
    "# Formatting the hashtagged strings\n",
    "df_tweets_filtered['text'] = df_tweets_filtered['text'].apply(format_hashtagged_string)"
   ]
  },
  {
   "cell_type": "markdown",
   "id": "268d8c1a-2600-4b18-a1c7-0141fdcd40ea",
   "metadata": {},
   "source": [
    "## Replacing emojis"
   ]
  },
  {
   "cell_type": "markdown",
   "id": "3478255c-a7a8-48f0-9608-999dc92464a4",
   "metadata": {},
   "source": [
    "### Demojifying the column `text`"
   ]
  },
  {
   "cell_type": "code",
   "execution_count": 41,
   "id": "2341baec-2fa0-4ee8-82cf-1522257ab02f",
   "metadata": {},
   "outputs": [],
   "source": [
    "# Defining a function to demojify a string\n",
    "def demojify_line(input_line):\n",
    "    demojified_line = demoji.replace_with_desc(input_line, sep='<em>')\n",
    "    return demojified_line\n",
    "\n",
    "df_tweets_filtered['text'] = df_tweets_filtered['text'].apply(demojify_line)"
   ]
  },
  {
   "cell_type": "markdown",
   "id": "08405272-4072-4cbe-92c0-c221d3848181",
   "metadata": {},
   "source": [
    "#### Exporting the filtered data into a file for inspection"
   ]
  },
  {
   "cell_type": "code",
   "execution_count": 42,
   "id": "19a2453a-9a6a-4811-ad67-4a7ad495d95d",
   "metadata": {},
   "outputs": [],
   "source": [
    "df_tweets_filtered[['text']].to_csv('tweets_demojified1_text.tsv', sep='\\t', index=False)"
   ]
  },
  {
   "cell_type": "markdown",
   "id": "820ee493-3e57-4d46-817d-b7a4af0b0722",
   "metadata": {},
   "source": [
    "### Separating the demojified strings with spaces"
   ]
  },
  {
   "cell_type": "code",
   "execution_count": 43,
   "id": "9d55d111-b676-4569-89a0-a1c4ec2e57be",
   "metadata": {},
   "outputs": [],
   "source": [
    "# Defining a function to separate the demojified strings with spaces\n",
    "def preprocess_line(input_line):\n",
    "    # Add a space before the first delimiter '<em>', if it is not already preceded by one\n",
    "    preprocessed_line = re.sub(r'(?<! )<em>', ' <em>', input_line)\n",
    "    # Add a space after the first delimiter '<em>', if it is not already followed by one\n",
    "    preprocessed_line = re.sub(r'<em>(?! )', '<em> ', preprocessed_line)\n",
    "    return preprocessed_line\n",
    "\n",
    "# Separating the demojified strings with spaces\n",
    "df_tweets_filtered['text'] = df_tweets_filtered['text'].apply(preprocess_line)"
   ]
  },
  {
   "cell_type": "markdown",
   "id": "6acb282a-30a2-4401-80ac-305aa5f9d7c5",
   "metadata": {},
   "source": [
    "#### Exporting the filtered data into a file for inspection"
   ]
  },
  {
   "cell_type": "code",
   "execution_count": 44,
   "id": "fa3fce08-90f6-4e6a-97f7-ae69517a3689",
   "metadata": {},
   "outputs": [],
   "source": [
    "df_tweets_filtered[['text']].to_csv('tweets_demojified2_text.tsv', sep='\\t', index=False)"
   ]
  },
  {
   "cell_type": "markdown",
   "id": "2b2b2004-f565-44f9-9d43-31bf393170d8",
   "metadata": {},
   "source": [
    "### Formatting the demojified strings"
   ]
  },
  {
   "cell_type": "code",
   "execution_count": 45,
   "id": "2357ac57-bf81-4377-9a21-90fb79d1fcd8",
   "metadata": {},
   "outputs": [],
   "source": [
    "# Defining a function to format the demojified string\n",
    "def format_demojified_string(input_line):\n",
    "    # Defining a function to format the demojified string using RegEx\n",
    "    def process_demojified_string(s):\n",
    "            # Lowercase the string\n",
    "            s = s.lower()\n",
    "            # Replace spaces and colons followed by a space with underscores\n",
    "            s = re.sub(r'(: )| ', '_', s)\n",
    "            # Add the appropriate prefixes and suffixes\n",
    "            s = f'EMOJI{s}e'\n",
    "            return s\n",
    "\n",
    "    # Use RegEx to find and process each demojified string\n",
    "    processed_line = re.sub(r'<em>(.*?)<em>', lambda match: process_demojified_string(match.group(1)), input_line)\n",
    "    return processed_line\n",
    "\n",
    "# Formatting the demojified strings\n",
    "df_tweets_filtered['text'] = df_tweets_filtered['text'].apply(format_demojified_string)"
   ]
  },
  {
   "cell_type": "markdown",
   "id": "e743b0db-02a0-4e0b-b0b5-d6659960bc30",
   "metadata": {},
   "source": [
    "### Replacing the `pipe` character by the `-` character in the `text` column"
   ]
  },
  {
   "cell_type": "markdown",
   "id": "bc943030-7448-4d4d-98b8-b03c40e113e2",
   "metadata": {},
   "source": [
    "Further on, a few columns of the dataframe are going to be exported into the file `tweets.txt` whose columns need to be delimited by the `pipe` character. Therefore, it is recommended that any occurrences of the `pipe` character in the `text` column are replaced by another character."
   ]
  },
  {
   "cell_type": "code",
   "execution_count": 46,
   "id": "ab1c3584-ae80-41fc-b03a-4286a564a798",
   "metadata": {},
   "outputs": [],
   "source": [
    "# Defining a function to replace the 'pipe' character by the '-' character\n",
    "def replace_pipe_with_hyphen(input_string):\n",
    "    modified_string = re.sub(r'\\|', '-', input_string)\n",
    "    return modified_string\n",
    "\n",
    "# Replacing the 'pipe' character by the '-' character\n",
    "df_tweets_filtered['text'] = df_tweets_filtered['text'].apply(replace_pipe_with_hyphen)\n"
   ]
  },
  {
   "cell_type": "markdown",
   "id": "5a3d28f3-7d63-4c02-ba55-0dbc957a4291",
   "metadata": {},
   "source": [
    "#### Exporting the filtered data into a file for inspection"
   ]
  },
  {
   "cell_type": "code",
   "execution_count": 47,
   "id": "76fd163b-5d8d-45d1-bb20-a28c4b30d5b7",
   "metadata": {},
   "outputs": [],
   "source": [
    "df_tweets_filtered[['text']].to_csv('tweets_demojified3_text.tsv', sep='\\t', index=False)"
   ]
  },
  {
   "cell_type": "markdown",
   "id": "776d4ca4-2999-47d3-ae97-b4f3a7599d84",
   "metadata": {},
   "source": [
    "## Tokenising"
   ]
  },
  {
   "cell_type": "markdown",
   "id": "1f950bc7-9ffa-4d96-9ce0-439643f90a55",
   "metadata": {},
   "source": [
    "Please refer to [What is tokenization in NLP?](https://www.analyticsvidhya.com/blog/2020/05/what-is-tokenization-nlp/)."
   ]
  },
  {
   "cell_type": "code",
   "execution_count": 48,
   "id": "9c1d393e-e85d-48f8-93f2-d7dfec6a2062",
   "metadata": {},
   "outputs": [],
   "source": [
    "# Defining a function to tokenise a string\n",
    "def tokenise_string(input_line):\n",
    "    # Replace URLs with placeholders\n",
    "    url_pattern = r'http[s]?://(?:[a-zA-Z]|[0-9]|[$-_@.&+]|[!*\\\\(\\\\),]|(?:%[0-9a-fA-F][0-9a-fA-F]))+\\b'\n",
    "    placeholder = '<URL>'  # Choose a unique placeholder\n",
    "    urls = re.findall(url_pattern, input_line)\n",
    "    tokenised_line = re.sub(url_pattern, placeholder, input_line)  # Replace URLs with placeholders\n",
    "    \n",
    "    # Replace curly quotes with straight ones\n",
    "    tokenised_line = tokenised_line.replace('“', '\"').replace('”', '\"').replace(\"‘\", \"'\").replace(\"’\", \"'\")\n",
    "    # Separate common punctuation marks with spaces\n",
    "    tokenised_line = re.sub(r'([.\\!?,\"\\'/()])', r' \\1 ', tokenised_line)\n",
    "    # Add a space before '#'\n",
    "    #tokenised_line = re.sub(r'(?<!\\s)#', r' #', tokenised_line)  # Add a space before '#' if it is not already preceded by one\n",
    "    # Reduce extra spaces by a single space\n",
    "    tokenised_line = re.sub(r'\\s+', ' ', tokenised_line)\n",
    "    \n",
    "    # Replace the placeholders with the respective URLs\n",
    "    for url in urls:\n",
    "        tokenised_line = tokenised_line.replace(placeholder, url, 1)\n",
    "    \n",
    "    return tokenised_line\n",
    "\n",
    "# Tokenising the strings\n",
    "df_tweets_filtered['text'] = df_tweets_filtered['text'].apply(tokenise_string)"
   ]
  },
  {
   "cell_type": "markdown",
   "id": "edad8cc4-bd36-4d7a-905e-55173081cd85",
   "metadata": {},
   "source": [
    "## Creating the files `file_index.txt` and `tweets.txt`"
   ]
  },
  {
   "cell_type": "markdown",
   "id": "d9a908ea-85cd-4ded-b752-2ce8ccee6f62",
   "metadata": {},
   "source": [
    "### Creating column `text_id`"
   ]
  },
  {
   "cell_type": "code",
   "execution_count": 49,
   "id": "e69b8a02-8d66-4227-838a-020f8e458225",
   "metadata": {},
   "outputs": [],
   "source": [
    "df_tweets_filtered['text_id'] = 't' + df_tweets_filtered.index.astype(str).str.zfill(6)"
   ]
  },
  {
   "cell_type": "markdown",
   "id": "b08ecbc7-802a-4546-b770-bd94372e58f7",
   "metadata": {},
   "source": [
    "### Creating column `conversation`"
   ]
  },
  {
   "cell_type": "code",
   "execution_count": 50,
   "id": "b26c71e4-6d0a-4f1f-a343-412755ec2dda",
   "metadata": {},
   "outputs": [],
   "source": [
    "df_tweets_filtered['author_id'] = df_tweets_filtered['author_id'].astype(str)"
   ]
  },
  {
   "cell_type": "code",
   "execution_count": 51,
   "id": "2ad070c7-3caf-4eb8-8dfe-eba469fe0ed2",
   "metadata": {},
   "outputs": [],
   "source": [
    "df_tweets_filtered['conversation'] = 'v:' + df_tweets_filtered['author_id'].str.replace('id_', '')"
   ]
  },
  {
   "cell_type": "markdown",
   "id": "b85be5b3-f3ec-4061-a9c7-6d29591a8efd",
   "metadata": {},
   "source": [
    "### Creating column `date`"
   ]
  },
  {
   "cell_type": "code",
   "execution_count": 52,
   "id": "dc30acc9-8d7d-41ef-9e33-2367d4c1462e",
   "metadata": {},
   "outputs": [],
   "source": [
    "# Convert 'created_at' to datetime format\n",
    "df_tweets_filtered['created_at'] = pd.to_datetime(df_tweets_filtered['created_at'])\n",
    "\n",
    "# Extract the date part (without time) into a new column 'date'\n",
    "df_tweets_filtered['date'] = df_tweets_filtered['created_at'].dt.date\n",
    "\n",
    "# Add the prefix 'd:' to the 'date' values\n",
    "df_tweets_filtered['date'] = 'd:' + df_tweets_filtered['date'].astype(str)"
   ]
  },
  {
   "cell_type": "markdown",
   "id": "1067eec7-aedb-4bba-8241-5d5d000f6226",
   "metadata": {},
   "source": [
    "### Creating column `text_url`"
   ]
  },
  {
   "cell_type": "code",
   "execution_count": 53,
   "id": "6a5dec9e-0791-4b40-b59e-b46b62d400ec",
   "metadata": {},
   "outputs": [],
   "source": [
    "df_tweets_filtered['text_url'] = 'url:' + df_tweets_filtered['tweet_url']"
   ]
  },
  {
   "cell_type": "markdown",
   "id": "d27c35b3-69bc-4039-aa13-6b496f81c729",
   "metadata": {},
   "source": [
    "### Creating column `user`"
   ]
  },
  {
   "cell_type": "code",
   "execution_count": 54,
   "id": "5700d8af-3be8-4a60-bd3d-1ddf3df356ca",
   "metadata": {},
   "outputs": [],
   "source": [
    "df_tweets_filtered['user'] = 'u:' + df_tweets_filtered['username']"
   ]
  },
  {
   "cell_type": "markdown",
   "id": "ba1d2a83-b1a0-4db7-b9d3-e6d91202402c",
   "metadata": {},
   "source": [
    "### Creating column `content`"
   ]
  },
  {
   "cell_type": "code",
   "execution_count": 55,
   "id": "cd9313bd-6cbe-487c-a152-de678559260d",
   "metadata": {},
   "outputs": [],
   "source": [
    "df_tweets_filtered['content'] = 'c:' + df_tweets_filtered['text']"
   ]
  },
  {
   "cell_type": "markdown",
   "id": "d11872fa-2b44-4302-ab43-f98f64692eaf",
   "metadata": {},
   "source": [
    "### Reordering the created columns"
   ]
  },
  {
   "cell_type": "markdown",
   "id": "1538070e-1838-454f-a761-549e2bd5bc36",
   "metadata": {},
   "source": [
    "Please refer to:\n",
    "- [Python - List Comprehension 1](https://www.w3schools.com/python/python_lists_comprehension.asp)\n",
    "- [Python - List Comprehension 2](https://treyhunner.com/2015/12/python-list-comprehensions-now-in-color/)"
   ]
  },
  {
   "cell_type": "code",
   "execution_count": 56,
   "id": "afc325f4-43c7-4ba8-b10f-130974d8c191",
   "metadata": {},
   "outputs": [],
   "source": [
    "# Reorder the columns (we use list comprehension to create a list of all columns except 'text_id', 'variable', 'date' and 'text_url')\n",
    "df_tweets_filtered = df_tweets_filtered[['text_id', 'conversation', 'date', 'text_url', 'user', 'content'] + [col for col in df_tweets_filtered.columns if col not in ['text_id', 'conversation', 'date', 'text_url', 'user', 'content']]]"
   ]
  },
  {
   "cell_type": "code",
   "execution_count": 57,
   "id": "1217907f-187c-4d64-a97a-e7a9c607f6dc",
   "metadata": {},
   "outputs": [
    {
     "data": {
      "text/html": [
       "<div>\n",
       "<style scoped>\n",
       "    .dataframe tbody tr th:only-of-type {\n",
       "        vertical-align: middle;\n",
       "    }\n",
       "\n",
       "    .dataframe tbody tr th {\n",
       "        vertical-align: top;\n",
       "    }\n",
       "\n",
       "    .dataframe thead th {\n",
       "        text-align: right;\n",
       "    }\n",
       "</style>\n",
       "<table border=\"1\" class=\"dataframe\">\n",
       "  <thead>\n",
       "    <tr style=\"text-align: right;\">\n",
       "      <th></th>\n",
       "      <th>text_id</th>\n",
       "      <th>conversation</th>\n",
       "      <th>date</th>\n",
       "      <th>text_url</th>\n",
       "      <th>user</th>\n",
       "      <th>content</th>\n",
       "      <th>created_at</th>\n",
       "      <th>author_id</th>\n",
       "      <th>username</th>\n",
       "      <th>tweet_url</th>\n",
       "      <th>text</th>\n",
       "    </tr>\n",
       "  </thead>\n",
       "  <tbody>\n",
       "    <tr>\n",
       "      <th>0</th>\n",
       "      <td>t000000</td>\n",
       "      <td>v:107838014712814240</td>\n",
       "      <td>d:2024-05-17</td>\n",
       "      <td>url:https://truthsocial.com/@AlexJones/1124573...</td>\n",
       "      <td>u:AlexJones</td>\n",
       "      <td>c:HASHTAG#alexjonesshow_h Friday LIVE: Weather...</td>\n",
       "      <td>2024-05-17 16:19:17.494</td>\n",
       "      <td>107838014712814240</td>\n",
       "      <td>AlexJones</td>\n",
       "      <td>https://truthsocial.com/@AlexJones/11245733527...</td>\n",
       "      <td>HASHTAG#alexjonesshow_h Friday LIVE: Weather W...</td>\n",
       "    </tr>\n",
       "    <tr>\n",
       "      <th>1</th>\n",
       "      <td>t000001</td>\n",
       "      <td>v:107838014712814240</td>\n",
       "      <td>d:2024-05-08</td>\n",
       "      <td>url:https://truthsocial.com/@AlexJones/1124063...</td>\n",
       "      <td>u:AlexJones</td>\n",
       "      <td>c:HASHTAG#alexjonesshow_h Must-Watch Wednesday...</td>\n",
       "      <td>2024-05-08 16:14:16.500</td>\n",
       "      <td>107838014712814240</td>\n",
       "      <td>AlexJones</td>\n",
       "      <td>https://truthsocial.com/@AlexJones/11240635475...</td>\n",
       "      <td>HASHTAG#alexjonesshow_h Must-Watch Wednesday B...</td>\n",
       "    </tr>\n",
       "    <tr>\n",
       "      <th>2</th>\n",
       "      <td>t000002</td>\n",
       "      <td>v:107838014712814240</td>\n",
       "      <td>d:2024-04-23</td>\n",
       "      <td>url:https://truthsocial.com/@AlexJones/1123230...</td>\n",
       "      <td>u:AlexJones</td>\n",
       "      <td>c:BREAKING: Australian Senator Calls For Elon ...</td>\n",
       "      <td>2024-04-23 22:59:14.840</td>\n",
       "      <td>107838014712814240</td>\n",
       "      <td>AlexJones</td>\n",
       "      <td>https://truthsocial.com/@AlexJones/11232301251...</td>\n",
       "      <td>BREAKING: Australian Senator Calls For Elon Mu...</td>\n",
       "    </tr>\n",
       "    <tr>\n",
       "      <th>3</th>\n",
       "      <td>t000003</td>\n",
       "      <td>v:107838014712814240</td>\n",
       "      <td>d:2024-03-29</td>\n",
       "      <td>url:https://truthsocial.com/@AlexJones/1121762...</td>\n",
       "      <td>u:AlexJones</td>\n",
       "      <td>c:BREAKING: CPS Hands Over Kidnapped Children ...</td>\n",
       "      <td>2024-03-29 00:48:30.957</td>\n",
       "      <td>107838014712814240</td>\n",
       "      <td>AlexJones</td>\n",
       "      <td>https://truthsocial.com/@AlexJones/11217622210...</td>\n",
       "      <td>BREAKING: CPS Hands Over Kidnapped Children To...</td>\n",
       "    </tr>\n",
       "    <tr>\n",
       "      <th>4</th>\n",
       "      <td>t000004</td>\n",
       "      <td>v:107838014712814240</td>\n",
       "      <td>d:2024-03-26</td>\n",
       "      <td>url:https://truthsocial.com/@AlexJones/1121628...</td>\n",
       "      <td>u:AlexJones</td>\n",
       "      <td>c:Tuesday LIVE: Vital US Port Brought to Stand...</td>\n",
       "      <td>2024-03-26 16:09:11.639</td>\n",
       "      <td>107838014712814240</td>\n",
       "      <td>AlexJones</td>\n",
       "      <td>https://truthsocial.com/@AlexJones/11216285542...</td>\n",
       "      <td>Tuesday LIVE: Vital US Port Brought to Standst...</td>\n",
       "    </tr>\n",
       "    <tr>\n",
       "      <th>...</th>\n",
       "      <td>...</td>\n",
       "      <td>...</td>\n",
       "      <td>...</td>\n",
       "      <td>...</td>\n",
       "      <td>...</td>\n",
       "      <td>...</td>\n",
       "      <td>...</td>\n",
       "      <td>...</td>\n",
       "      <td>...</td>\n",
       "      <td>...</td>\n",
       "      <td>...</td>\n",
       "    </tr>\n",
       "    <tr>\n",
       "      <th>56638</th>\n",
       "      <td>t056638</td>\n",
       "      <td>v:107759501782461328</td>\n",
       "      <td>d:2022-07-20</td>\n",
       "      <td>url:https://truthsocial.com/@truthsocial/10868...</td>\n",
       "      <td>u:truthsocial</td>\n",
       "      <td>c:We are humbled by the welcome HASHTAG#truths...</td>\n",
       "      <td>2022-07-20 23:41:05.996</td>\n",
       "      <td>107759501782461328</td>\n",
       "      <td>truthsocial</td>\n",
       "      <td>https://truthsocial.com/@truthsocial/108682311...</td>\n",
       "      <td>We are humbled by the welcome HASHTAG#truthsoc...</td>\n",
       "    </tr>\n",
       "    <tr>\n",
       "      <th>56639</th>\n",
       "      <td>t056639</td>\n",
       "      <td>v:107759501782461328</td>\n",
       "      <td>d:2022-05-09</td>\n",
       "      <td>url:https://truthsocial.com/@truthsocial/10827...</td>\n",
       "      <td>u:truthsocial</td>\n",
       "      <td>c:The wait is OVER ! Don ' t miss out on our i...</td>\n",
       "      <td>2022-05-09 21:43:42.330</td>\n",
       "      <td>107759501782461328</td>\n",
       "      <td>truthsocial</td>\n",
       "      <td>https://truthsocial.com/@truthsocial/108274163...</td>\n",
       "      <td>The wait is OVER ! Don ' t miss out on our ina...</td>\n",
       "    </tr>\n",
       "    <tr>\n",
       "      <th>56640</th>\n",
       "      <td>t056640</td>\n",
       "      <td>v:107759501782461328</td>\n",
       "      <td>d:2022-05-07</td>\n",
       "      <td>url:https://truthsocial.com/@truthsocial/10826...</td>\n",
       "      <td>u:truthsocial</td>\n",
       "      <td>c:BIG NEWS ! Our inaugural Truth Social Patrio...</td>\n",
       "      <td>2022-05-07 19:28:26.444</td>\n",
       "      <td>107759501782461328</td>\n",
       "      <td>truthsocial</td>\n",
       "      <td>https://truthsocial.com/@truthsocial/108262307...</td>\n",
       "      <td>BIG NEWS ! Our inaugural Truth Social Patriot ...</td>\n",
       "    </tr>\n",
       "    <tr>\n",
       "      <th>56641</th>\n",
       "      <td>t056641</td>\n",
       "      <td>v:107759501782461328</td>\n",
       "      <td>d:2022-03-11</td>\n",
       "      <td>url:https://truthsocial.com/@truthsocial/10793...</td>\n",
       "      <td>u:truthsocial</td>\n",
       "      <td>c:User engagement on HASHTAG#truth_h is off th...</td>\n",
       "      <td>2022-03-11 15:08:04.927</td>\n",
       "      <td>107759501782461328</td>\n",
       "      <td>truthsocial</td>\n",
       "      <td>https://truthsocial.com/@truthsocial/107938531...</td>\n",
       "      <td>User engagement on HASHTAG#truth_h is off the ...</td>\n",
       "    </tr>\n",
       "    <tr>\n",
       "      <th>56642</th>\n",
       "      <td>t056642</td>\n",
       "      <td>v:107838824115445312</td>\n",
       "      <td>d:2022-04-04</td>\n",
       "      <td>url:https://truthsocial.com/@warrendavidson/10...</td>\n",
       "      <td>u:warrendavidson</td>\n",
       "      <td>c:Good governments defend freedom .</td>\n",
       "      <td>2022-04-04 15:53:16.246</td>\n",
       "      <td>107838824115445312</td>\n",
       "      <td>warrendavidson</td>\n",
       "      <td>https://truthsocial.com/@warrendavidson/108074...</td>\n",
       "      <td>Good governments defend freedom .</td>\n",
       "    </tr>\n",
       "  </tbody>\n",
       "</table>\n",
       "<p>56643 rows × 11 columns</p>\n",
       "</div>"
      ],
      "text/plain": [
       "       text_id          conversation          date  \\\n",
       "0      t000000  v:107838014712814240  d:2024-05-17   \n",
       "1      t000001  v:107838014712814240  d:2024-05-08   \n",
       "2      t000002  v:107838014712814240  d:2024-04-23   \n",
       "3      t000003  v:107838014712814240  d:2024-03-29   \n",
       "4      t000004  v:107838014712814240  d:2024-03-26   \n",
       "...        ...                   ...           ...   \n",
       "56638  t056638  v:107759501782461328  d:2022-07-20   \n",
       "56639  t056639  v:107759501782461328  d:2022-05-09   \n",
       "56640  t056640  v:107759501782461328  d:2022-05-07   \n",
       "56641  t056641  v:107759501782461328  d:2022-03-11   \n",
       "56642  t056642  v:107838824115445312  d:2022-04-04   \n",
       "\n",
       "                                                text_url              user  \\\n",
       "0      url:https://truthsocial.com/@AlexJones/1124573...       u:AlexJones   \n",
       "1      url:https://truthsocial.com/@AlexJones/1124063...       u:AlexJones   \n",
       "2      url:https://truthsocial.com/@AlexJones/1123230...       u:AlexJones   \n",
       "3      url:https://truthsocial.com/@AlexJones/1121762...       u:AlexJones   \n",
       "4      url:https://truthsocial.com/@AlexJones/1121628...       u:AlexJones   \n",
       "...                                                  ...               ...   \n",
       "56638  url:https://truthsocial.com/@truthsocial/10868...     u:truthsocial   \n",
       "56639  url:https://truthsocial.com/@truthsocial/10827...     u:truthsocial   \n",
       "56640  url:https://truthsocial.com/@truthsocial/10826...     u:truthsocial   \n",
       "56641  url:https://truthsocial.com/@truthsocial/10793...     u:truthsocial   \n",
       "56642  url:https://truthsocial.com/@warrendavidson/10...  u:warrendavidson   \n",
       "\n",
       "                                                 content  \\\n",
       "0      c:HASHTAG#alexjonesshow_h Friday LIVE: Weather...   \n",
       "1      c:HASHTAG#alexjonesshow_h Must-Watch Wednesday...   \n",
       "2      c:BREAKING: Australian Senator Calls For Elon ...   \n",
       "3      c:BREAKING: CPS Hands Over Kidnapped Children ...   \n",
       "4      c:Tuesday LIVE: Vital US Port Brought to Stand...   \n",
       "...                                                  ...   \n",
       "56638  c:We are humbled by the welcome HASHTAG#truths...   \n",
       "56639  c:The wait is OVER ! Don ' t miss out on our i...   \n",
       "56640  c:BIG NEWS ! Our inaugural Truth Social Patrio...   \n",
       "56641  c:User engagement on HASHTAG#truth_h is off th...   \n",
       "56642               c:Good governments defend freedom .    \n",
       "\n",
       "                   created_at           author_id        username  \\\n",
       "0     2024-05-17 16:19:17.494  107838014712814240       AlexJones   \n",
       "1     2024-05-08 16:14:16.500  107838014712814240       AlexJones   \n",
       "2     2024-04-23 22:59:14.840  107838014712814240       AlexJones   \n",
       "3     2024-03-29 00:48:30.957  107838014712814240       AlexJones   \n",
       "4     2024-03-26 16:09:11.639  107838014712814240       AlexJones   \n",
       "...                       ...                 ...             ...   \n",
       "56638 2022-07-20 23:41:05.996  107759501782461328     truthsocial   \n",
       "56639 2022-05-09 21:43:42.330  107759501782461328     truthsocial   \n",
       "56640 2022-05-07 19:28:26.444  107759501782461328     truthsocial   \n",
       "56641 2022-03-11 15:08:04.927  107759501782461328     truthsocial   \n",
       "56642 2022-04-04 15:53:16.246  107838824115445312  warrendavidson   \n",
       "\n",
       "                                               tweet_url  \\\n",
       "0      https://truthsocial.com/@AlexJones/11245733527...   \n",
       "1      https://truthsocial.com/@AlexJones/11240635475...   \n",
       "2      https://truthsocial.com/@AlexJones/11232301251...   \n",
       "3      https://truthsocial.com/@AlexJones/11217622210...   \n",
       "4      https://truthsocial.com/@AlexJones/11216285542...   \n",
       "...                                                  ...   \n",
       "56638  https://truthsocial.com/@truthsocial/108682311...   \n",
       "56639  https://truthsocial.com/@truthsocial/108274163...   \n",
       "56640  https://truthsocial.com/@truthsocial/108262307...   \n",
       "56641  https://truthsocial.com/@truthsocial/107938531...   \n",
       "56642  https://truthsocial.com/@warrendavidson/108074...   \n",
       "\n",
       "                                                    text  \n",
       "0      HASHTAG#alexjonesshow_h Friday LIVE: Weather W...  \n",
       "1      HASHTAG#alexjonesshow_h Must-Watch Wednesday B...  \n",
       "2      BREAKING: Australian Senator Calls For Elon Mu...  \n",
       "3      BREAKING: CPS Hands Over Kidnapped Children To...  \n",
       "4      Tuesday LIVE: Vital US Port Brought to Standst...  \n",
       "...                                                  ...  \n",
       "56638  We are humbled by the welcome HASHTAG#truthsoc...  \n",
       "56639  The wait is OVER ! Don ' t miss out on our ina...  \n",
       "56640  BIG NEWS ! Our inaugural Truth Social Patriot ...  \n",
       "56641  User engagement on HASHTAG#truth_h is off the ...  \n",
       "56642                 Good governments defend freedom .   \n",
       "\n",
       "[56643 rows x 11 columns]"
      ]
     },
     "execution_count": 57,
     "metadata": {},
     "output_type": "execute_result"
    }
   ],
   "source": [
    "df_tweets_filtered"
   ]
  },
  {
   "cell_type": "markdown",
   "id": "921f23e3-bc12-4150-8bf1-557184b40d1b",
   "metadata": {},
   "source": [
    "### Creating the file `file_index.txt`"
   ]
  },
  {
   "cell_type": "code",
   "execution_count": 58,
   "id": "199bbbe5-a366-4fde-9314-f0de3d49c379",
   "metadata": {},
   "outputs": [],
   "source": [
    "df_tweets_filtered[['text_id', 'conversation', 'date', 'text_url']].to_csv('file_index.txt', sep=' ', index=False, header=False, encoding='utf-8', lineterminator='\\n')"
   ]
  },
  {
   "cell_type": "markdown",
   "id": "fd415c21-39dc-4083-9632-e5cd92fa6948",
   "metadata": {},
   "source": [
    "### Creating the file `tweets.txt`"
   ]
  },
  {
   "cell_type": "code",
   "execution_count": 59,
   "id": "5445fc96-0b9f-4283-80b3-09b1bddeab91",
   "metadata": {},
   "outputs": [
    {
     "name": "stdout",
     "output_type": "stream",
     "text": [
      "Folder tweets created!\n"
     ]
    }
   ],
   "source": [
    "folder = 'tweets'\n",
    "try:\n",
    "    os.mkdir(folder)\n",
    "    print(f'Folder {folder} created!')\n",
    "except FileExistsError:\n",
    "    print(f'Folder {folder} already exists')"
   ]
  },
  {
   "cell_type": "markdown",
   "id": "8de49e26-5efe-472f-9952-cef41fcda082",
   "metadata": {},
   "source": [
    "Note: The parameters `doublequote=False` and `escapechar=' '` are required to avoid that the column content is doublequoted with '\"' in sentences that use characters that need to be escaped such as double quote '\"' itself - this causes a malformed response from TreeTagger."
   ]
  },
  {
   "cell_type": "code",
   "execution_count": 60,
   "id": "3b566e03-56e4-44a8-8558-b6e940bb6193",
   "metadata": {},
   "outputs": [],
   "source": [
    "df_tweets_filtered[['text_id', 'conversation', 'date', 'user', 'content']].to_csv(f'{folder}/tweets.txt', sep='|', index=False, header=False, encoding='utf-8', lineterminator='\\n', doublequote=False, escapechar=' ')"
   ]
  },
  {
   "cell_type": "markdown",
   "id": "2f769843-4ff9-4436-a2e0-d61e2c391e9d",
   "metadata": {},
   "source": [
    "## Tagging with TreeTagger"
   ]
  },
  {
   "cell_type": "markdown",
   "id": "f3877be9-6317-42ee-8e8d-c15c48f77996",
   "metadata": {},
   "source": [
    "- On Visual Studio Code (VS Code), open the folder where your project is located with `Open Folder...`\n",
    "- Open a WSL Ubuntu Terminal on VS Code\n",
    "- **Important**: Activate the `my_env` Python environment by executing `source \"$HOME\"/my_env/bin/activate`\n",
    "- Proceed as indicated"
   ]
  },
  {
   "cell_type": "markdown",
   "id": "720724ab-5e77-4e9e-b05a-24cf73259cd0",
   "metadata": {},
   "source": [
    "Purpose: Annotate the texts in `tweets/tweets.txt` with part-of-speech and lemma information.\n",
    "- Input\n",
    "    - `file_index.txt`\n",
    "    - `tweets/tweets.txt`\n",
    "- Output\n",
    "    - `tweets/tagged.txt`"
   ]
  },
  {
   "cell_type": "markdown",
   "id": "9005cc09-f5ef-454f-9b74-4d7ca9fe4f10",
   "metadata": {},
   "source": [
    "```\n",
    "eyamrog@Rog-ASUS:/mnt/c/Users/eyamr/Downloads$ source \"$HOME\"/my_env/bin/activate\n",
    "(my_env) eyamrog@Rog-ASUS:/mnt/c/Users/eyamr/Downloads$ bash treetagging.sh\n",
    "--- treetagging t000000 / t018205 ---\n",
    "        reading parameters ...\n",
    "        tagging ...\n",
    "         finished.\n",
    "--- treetagging t000001 / t018205 ---\n",
    "        reading parameters ...\n",
    "        tagging ...\n",
    "         finished.\n",
    "--- treetagging t000002 / t018205 ---\n",
    "        reading parameters ...\n",
    "        tagging ...\n",
    "         finished.\n",
    "--- treetagging t000003 / t018205 ---\n",
    "        reading parameters ...\n",
    "        tagging ...\n",
    "         finished.\n",
    "<omitted>\n",
    "```"
   ]
  },
  {
   "cell_type": "markdown",
   "id": "40465ed6-1605-49b8-8ceb-98f7e9027a67",
   "metadata": {},
   "source": [
    "## Processing `CL_St1_Ph21_Renata.ipynb`"
   ]
  },
  {
   "cell_type": "markdown",
   "id": "ba34f2c0-abf1-45b2-afdf-a46ff571137e",
   "metadata": {},
   "source": [
    "Run the solution `CL_St1_Ph21_Renata.ipynb`"
   ]
  },
  {
   "cell_type": "markdown",
   "id": "fa0060ba-d01c-4e48-a353-8c9ba0fc456e",
   "metadata": {},
   "source": [
    "## Processing `tokenstypes`"
   ]
  },
  {
   "cell_type": "markdown",
   "id": "93351bf2-3457-4b47-8a47-7ff13c4e0e1a",
   "metadata": {},
   "source": [
    "Purpose: Capture the content tokens (specific occurrences of words) and the content types (general concept of words) from `tweets/tagged.txt`.\n",
    "- Input\n",
    "    - `file_index.txt`\n",
    "    - `tweets/tagged.txt`\n",
    "- Output\n",
    "    - `tweets/tokens.txt`\n",
    "    - `tweets/types.txt`"
   ]
  },
  {
   "cell_type": "markdown",
   "id": "6cddc717-8ff2-4f38-ae10-8d6616de6a6c",
   "metadata": {
    "vscode": {
     "languageId": "raw"
    }
   },
   "source": [
    "```\n",
    "eyamrog@Rog-ASUS:/mnt/c/Users/eyamr/Downloads$ source \"$HOME\"/my_env/bin/activate\n",
    "(my_env) eyamrog@Rog-ASUS:/mnt/c/Users/eyamr/Downloads$ bash tokenstypes.sh\n",
    "--- tokenstypes t000000 / 18206 ---\n",
    "--- tokenstypes t000001 / 18206 ---\n",
    "--- tokenstypes t000002 / 18206 ---\n",
    "--- tokenstypes t000003 / 18206 ---\n",
    "--- tokenstypes t000004 / 18206 ---\n",
    "--- tokenstypes t000005 / 18206 ---\n",
    "<omitted>\n",
    "```"
   ]
  },
  {
   "cell_type": "markdown",
   "id": "ef598329-fb5a-4b07-8799-b2bbb55847f1",
   "metadata": {},
   "source": [
    "## Processing `toplemmas`"
   ]
  },
  {
   "cell_type": "markdown",
   "id": "79ce5796-0434-44d5-88e2-8f934a6cebc8",
   "metadata": {},
   "source": [
    "Purpose: Determine the 1.000 top lemmas. **Important**: This process requires manual inspection. Non-meaningful lemmas should be excluded by updating `stoplist.sed` and reiterating the processing. Proceed as indicated in this [video tutorial](https://youtu.be/4UIPpdoozP0?si=_3md9w79njZY86PE), from 20:05 to 25:16.\n",
    "- Input\n",
    "    - `tweets/types.txt`\n",
    "    - `stoplist.sed`: List of rules that allows the exclusion of a certain lemmas\n",
    "- Output\n",
    "    - `selectedwords` = `var_index.txt`"
   ]
  },
  {
   "cell_type": "markdown",
   "id": "13b0fc8e-73e2-4e2d-9e2f-73068e4132fc",
   "metadata": {
    "vscode": {
     "languageId": "raw"
    }
   },
   "source": [
    "```\n",
    "eyamrog@Rog-ASUS:/mnt/c/Users/eyamr/Downloads$ source \"$HOME\"/my_env/bin/activate\n",
    "(my_env) eyamrog@Rog-ASUS:/mnt/c/Users/eyamr/Downloads$ bash toplemmas.sh\n",
    "```"
   ]
  },
  {
   "cell_type": "markdown",
   "id": "eb0a4675-5067-4e8b-8ca8-baf9f1b915c1",
   "metadata": {},
   "source": [
    "## Processing `sas`"
   ]
  },
  {
   "cell_type": "markdown",
   "id": "b0d158b2-73d7-477e-a7a7-2b87216a19ae",
   "metadata": {},
   "source": [
    "Purpose: Prepare input data for processing in SAS.\n",
    "- Input\n",
    "    - `tweets/types.txt`\n",
    "    - `selectedwords`\n",
    "    - `file_index.txt`\n",
    "- Output\n",
    "    - `columns`\n",
    "    - `sas/data.txt`\n",
    "    - `sas/dates.txt`\n",
    "    - `sas/wcount.txt`"
   ]
  },
  {
   "cell_type": "markdown",
   "id": "0d250d29-861c-41a6-9793-e0df758100e0",
   "metadata": {
    "vscode": {
     "languageId": "raw"
    }
   },
   "source": [
    "```\n",
    "eyamrog@Rog-ASUS:/mnt/c/Users/eyamr/Downloads$ source \"$HOME\"/my_env/bin/activate\n",
    "(my_env) eyamrog@Rog-ASUS:/mnt/c/Users/eyamr/Downloads$ bash sas.sh\n",
    "--- v000001 ---\n",
    "--- v000002 ---\n",
    "--- v000003 ---\n",
    "--- v000004 ---\n",
    "--- v000005 ---\n",
    "<omitted>\n",
    "--- v001000 ---\n",
    "[nltk_data] Downloading package punkt to /home/eyamrog/nltk_data...\n",
    "[nltk_data]   Package punkt is already up-to-date!\n",
    "Word counts written to sas/wcount.txt\n",
    "```"
   ]
  },
  {
   "cell_type": "markdown",
   "id": "0e8087ea-ffd4-43b9-8eda-4444b931c319",
   "metadata": {},
   "source": [
    "## Processing `datamatrix`"
   ]
  },
  {
   "cell_type": "markdown",
   "id": "b4374f48-04b6-48af-a31d-125ef0e85972",
   "metadata": {},
   "source": [
    "Purpose: Prepares input data for calculating the correlation matrix.\n",
    "- Input\n",
    "    - `file_index.txt`\n",
    "    - `columns`\n",
    "    - `selectedwords`\n",
    "- Output\n",
    "    - `file_ids.txt`\n",
    "    - `data.csv`"
   ]
  },
  {
   "cell_type": "markdown",
   "id": "23925f09-05ef-44a5-ba48-78cac1dedc76",
   "metadata": {
    "vscode": {
     "languageId": "raw"
    }
   },
   "source": [
    "```\n",
    "eyamrog@Rog-ASUS:/mnt/c/Users/eyamr/Downloads$ source \"$HOME\"/my_env/bin/activate\n",
    "(my_env) eyamrog@Rog-ASUS:/mnt/c/Users/eyamr/Downloads$ bash datamatrix.sh\n",
    "--- v000001 ---\n",
    "--- v000002 ---\n",
    "--- v000003 ---\n",
    "--- v000004 ---\n",
    "--- v000005 ---\n",
    "<omitted>\n",
    "--- v001000 ---\n",
    "--- data.csv ...---\n",
    "```"
   ]
  },
  {
   "cell_type": "markdown",
   "id": "6130e8f0-a7e5-4f6e-b427-090f7cda4856",
   "metadata": {},
   "source": [
    "## Processing `correlationmatrix`"
   ]
  },
  {
   "cell_type": "markdown",
   "id": "8bddbb87-b4de-4c41-8177-b2f677d803b6",
   "metadata": {},
   "source": [
    "Purpose: Calculates the correlation matrix.\n",
    "- Input\n",
    "    - `data.csv`\n",
    "- Output\n",
    "    - `correlation`"
   ]
  },
  {
   "cell_type": "markdown",
   "id": "42927846-5d87-4f5f-8ce6-8beb4ef733a4",
   "metadata": {
    "vscode": {
     "languageId": "raw"
    }
   },
   "source": [
    "```\n",
    "eyamrog@Rog-ASUS:/mnt/c/Users/eyamr/Downloads$ source \"$HOME\"/my_env/bin/activate\n",
    "(my_env) eyamrog@Rog-ASUS:/mnt/c/Users/eyamr/Downloads$ bash correlationmatrix.sh\n",
    "--- python correlation ... ---\n",
    "```"
   ]
  },
  {
   "cell_type": "markdown",
   "id": "86e9203f-e9e1-4a73-8bed-7dec1ad8617e",
   "metadata": {},
   "source": [
    "## Processing `formats`"
   ]
  },
  {
   "cell_type": "markdown",
   "id": "69517100-c28d-44ba-90a7-37988e3df8ad",
   "metadata": {},
   "source": [
    "Purpose: Prepare input data for processing in SAS.\n",
    "- Input\n",
    "    - `data.csv`\n",
    "    - `selectedwords`\n",
    "- Output\n",
    "    - `sas/corr.txt`\n",
    "    - `sas/word_labels_format.sas`"
   ]
  },
  {
   "cell_type": "markdown",
   "id": "96f9b02f-fd33-4ff2-bf57-463fac9743e6",
   "metadata": {
    "vscode": {
     "languageId": "raw"
    }
   },
   "source": [
    "```\n",
    "eyamrog@Rog-ASUS:/mnt/c/Users/eyamr/Downloads$ source \"$HOME\"/my_env/bin/activate\n",
    "(my_env) eyamrog@Rog-ASUS:/mnt/c/Users/eyamr/Downloads$ bash formats.sh\n",
    "--- sas/sas/corr.txt ---\n",
    "--- sas/word_labels_format.sas ---\n",
    "```"
   ]
  },
  {
   "cell_type": "markdown",
   "id": "71cb5b2a-e203-4b3e-80a9-86b10fc0253c",
   "metadata": {},
   "source": [
    "## Processing the statistical procedures on SAS"
   ]
  },
  {
   "cell_type": "markdown",
   "id": "2ddc9cd8-cd80-41d2-8209-f0a363fd9ab2",
   "metadata": {},
   "source": [
    "- Log in to your [SAS OnDemand for Academics](https://welcome.oda.sas.com/) account\n",
    "- Proceed as indicated in this [video tutorial](https://youtu.be/I3u9zD3jyOA?si=68uIKVc2iusGG2KY)"
   ]
  },
  {
   "cell_type": "markdown",
   "id": "7ed501c0-f6b1-4050-a4eb-a486bb73c036",
   "metadata": {},
   "source": [
    "## Processing `examples`"
   ]
  },
  {
   "cell_type": "markdown",
   "id": "96cef7d2-d981-4d52-b340-3c55ffe0699a",
   "metadata": {},
   "source": [
    "Purpose: Extract examples for analysis.\n",
    "- Input\n",
    "    - `sas/output_\"$project\"/loadtable.html`\n",
    "    - `sas/output_\"$project\"/\"$project\"_scores.tsv`\n",
    "    - `sas/output_\"$project\"/\"$project\"_scores_only.tsv`\n",
    "- Output\n",
    "    - `examples/factors`\n",
    "    - `example files`"
   ]
  },
  {
   "cell_type": "markdown",
   "id": "3cbf820c-016d-4940-940c-82a587f2c22b",
   "metadata": {
    "vscode": {
     "languageId": "raw"
    }
   },
   "source": [
    "```\n",
    "(my_env) eyamrog@Rog-ASUS:/mnt/c/Users/eyamr/Downloads$ bash examples.sh\n",
    "6780\n",
    "1246\n",
    "698\n",
    "123\n",
    "--- examples f1pos ---\n",
    "--- factor 1 pos # 000001 ---\n",
    "tr: warning: an unescaped backslash at end of string is not portable\n",
    "--- factor 1 pos # 000002 ---\n",
    "tr: warning: an unescaped backslash at end of string is not portable\n",
    "--- factor 1 pos # 000003 ---\n",
    "tr: warning: an unescaped backslash at end of string is not portable\n",
    "--- factor 1 pos # 000004 ---\n",
    "tr: warning: an unescaped backslash at end of string is not portable\n",
    "--- factor 1 pos # 000005 ---\n",
    "tr: warning: an unescaped backslash at end of string is not portable\n",
    "<ommitted>\n",
    "```"
   ]
  },
  {
   "cell_type": "code",
   "execution_count": null,
   "id": "bb169464-4f29-4513-b272-46f201deff17",
   "metadata": {},
   "outputs": [],
   "source": []
  }
 ],
 "metadata": {
  "kernelspec": {
   "display_name": "Python 3 (ipykernel)",
   "language": "python",
   "name": "python3"
  },
  "language_info": {
   "codemirror_mode": {
    "name": "ipython",
    "version": 3
   },
   "file_extension": ".py",
   "mimetype": "text/x-python",
   "name": "python",
   "nbconvert_exporter": "python",
   "pygments_lexer": "ipython3",
   "version": "3.10.12"
  }
 },
 "nbformat": 4,
 "nbformat_minor": 5
}
