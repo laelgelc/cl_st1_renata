{
 "cells": [
  {
   "cell_type": "markdown",
   "id": "810d9f10-ec19-4b09-8f90-e983e460b319",
   "metadata": {},
   "source": [
    "<center>\n",
    "<img src=\"https://laelgelcpublic.s3.sa-east-1.amazonaws.com/lael_50_years_narrow_white.png.no_years.400px_96dpi.png\" width=\"300\" alt=\"LAEL 50 years logo\">\n",
    "<h3>APPLIED LINGUISTICS GRADUATE PROGRAMME (LAEL)</h3>\n",
    "</center>\n",
    "<hr>"
   ]
  },
  {
   "cell_type": "markdown",
   "id": "888c2c96-2fc3-4a1a-995b-c388036a2a15",
   "metadata": {},
   "source": [
    "# Corpus Linguistics - Study 1 - Phase 2_1 - Renata"
   ]
  },
  {
   "cell_type": "markdown",
   "id": "efff8d8b-6456-4379-974e-d85ffe03bc6e",
   "metadata": {},
   "source": [
    "This solution responds to the requirement of adding the part-of-speech (POS) tag as a suffix to the lemmas determined by TreeTagger.\n",
    "\n",
    "It takes the file `tweets/tagged.txt` as input, performs the appropriate string transformations and returns `tweets/tagged2.txt` as output. Therefore, the solution should be executed after the execution of `treetagging.sh` is completed.\n",
    "\n",
    "Before moving on to running `tokenstypes.sh`, `tweets/tagged2.txt` should replace `tweets/tagged.txt` as shown below:\n",
    "\n",
    "```\n",
    "(my_env) eyamrog@Rog-ASUS:~/work/cl_st1_renata/tweets$ ll\n",
    "total 33172\n",
    "drwxr-xr-x 2 eyamrog eyamrog     4096 Sep 11 17:32 ./\n",
    "drwxr-xr-x 5 eyamrog eyamrog     4096 Sep 11 17:45 ../\n",
    "-rw-r--r-- 1 eyamrog eyamrog    89062 Sep 11 14:40 tagged.txt\n",
    "-rw-r--r-- 1 eyamrog eyamrog    99405 Sep 11 17:34 tagged2.txt\n",
    "-rw-r--r-- 1 eyamrog eyamrog 16842002 Sep 11 14:38 tweets.txt\n",
    "-rw-r--r-- 1 eyamrog eyamrog 16924433 Sep 11 14:20 tweets_ori.txt\n",
    "(my_env) eyamrog@Rog-ASUS:~/work/cl_st1_renata/tweets$ mv tagged.txt tagged_ori.txt\n",
    "(my_env) eyamrog@Rog-ASUS:~/work/cl_st1_renata/tweets$ mv tagged2.txt tagged.txt\n",
    "(my_env) eyamrog@Rog-ASUS:~/work/cl_st1_renata/tweets$ ll\n",
    "total 33172\n",
    "drwxr-xr-x 2 eyamrog eyamrog     4096 Sep 11 17:46 ./\n",
    "drwxr-xr-x 5 eyamrog eyamrog     4096 Sep 11 17:45 ../\n",
    "-rw-r--r-- 1 eyamrog eyamrog    99405 Sep 11 17:34 tagged.txt\n",
    "-rw-r--r-- 1 eyamrog eyamrog    89062 Sep 11 14:40 tagged_ori.txt\n",
    "-rw-r--r-- 1 eyamrog eyamrog 16842002 Sep 11 14:38 tweets.txt\n",
    "-rw-r--r-- 1 eyamrog eyamrog 16924433 Sep 11 14:20 tweets_ori.txt\n",
    "(my_env) eyamrog@Rog-ASUS:~/work/cl_st1_renata/tweets$ \n",
    "```"
   ]
  },
  {
   "cell_type": "markdown",
   "id": "d81a22bd-0059-4578-bfc6-29ecef3d2a6d",
   "metadata": {},
   "source": [
    "## Importing the required libraries"
   ]
  },
  {
   "cell_type": "code",
   "execution_count": null,
   "id": "80dde47b-60e9-4001-9587-cac5fac2cdfe",
   "metadata": {},
   "outputs": [],
   "source": [
    "import pandas as pd\n",
    "import re"
   ]
  },
  {
   "cell_type": "markdown",
   "id": "b301ddf9-3758-42ba-9a6f-c1dd316ded08",
   "metadata": {},
   "source": [
    "## Importing `tweets/tagged.txt` into a DataFrame"
   ]
  },
  {
   "cell_type": "code",
   "execution_count": null,
   "id": "9667e92f-5454-43fa-9d0c-2f5a77bf86c5",
   "metadata": {},
   "outputs": [],
   "source": [
    "df = pd.read_csv('tweets/tagged.txt', sep='|', names=['text_id', 'conversation', 'date', 'user', 'content'])"
   ]
  },
  {
   "cell_type": "code",
   "execution_count": null,
   "id": "27649345-825e-4012-82e6-6f845de163ef",
   "metadata": {},
   "outputs": [],
   "source": [
    "df"
   ]
  },
  {
   "cell_type": "code",
   "execution_count": null,
   "id": "e582fe15-3b12-4966-9036-86460e0df513",
   "metadata": {},
   "outputs": [],
   "source": [
    "df.dtypes"
   ]
  },
  {
   "cell_type": "markdown",
   "id": "4b0d2cf7-8d76-40cc-a0fd-48859305cf1d",
   "metadata": {},
   "source": [
    "### Inspecting a few texts"
   ]
  },
  {
   "cell_type": "code",
   "execution_count": null,
   "id": "a0197402-1e98-4f53-979d-e28fe0e5d1da",
   "metadata": {},
   "outputs": [],
   "source": [
    "df.loc[1, 'content']"
   ]
  },
  {
   "cell_type": "markdown",
   "id": "df015ad1-62c4-4dfa-9113-27c2b19402e2",
   "metadata": {},
   "source": [
    "## Appending a `~` character at the end of each string of the column `content`"
   ]
  },
  {
   "cell_type": "markdown",
   "id": "e45e4a8a-3539-4fe3-b962-81baf48be14c",
   "metadata": {},
   "source": [
    "The character `~` is required to allow for the detection of the string patterns to transform."
   ]
  },
  {
   "cell_type": "code",
   "execution_count": null,
   "id": "4a946e34-2d4f-4227-b63c-35593ba23758",
   "metadata": {},
   "outputs": [],
   "source": [
    "# Appending '~' to the end of each string in the 'content' column\n",
    "df['content'] = df['content'] + '~'"
   ]
  },
  {
   "cell_type": "markdown",
   "id": "dc8d8d1f-c87b-467a-8339-7bb0f4ed819f",
   "metadata": {},
   "source": [
    "### Inspecting a few texts"
   ]
  },
  {
   "cell_type": "code",
   "execution_count": null,
   "id": "d3d0450a-7506-418a-a38f-be1438e86e05",
   "metadata": {},
   "outputs": [],
   "source": [
    "df.loc[1, 'content']"
   ]
  },
  {
   "cell_type": "markdown",
   "id": "a9f972af-e54d-405e-9b7c-b775990ff721",
   "metadata": {},
   "source": [
    "## Defining a function to transform the tagged strings"
   ]
  },
  {
   "cell_type": "code",
   "execution_count": null,
   "id": "15e46688-88b9-49bb-8ad5-3a165dadfb92",
   "metadata": {},
   "outputs": [],
   "source": [
    "def transform_tagged_string(tagged_string):\n",
    "    # Ensure the input is a string\n",
    "    tagged_string = str(tagged_string)\n",
    "    # Function to transform each substring\n",
    "    def transform_substring(match):\n",
    "        parts = match.group(1).split('\\t')\n",
    "        if parts[0] in ['HASHTAG', 'EMOJI']:\n",
    "            substring = f'{parts[0]}\\t{parts[1]}~'\n",
    "        else:\n",
    "            substring = f'{parts[0]}\\t{parts[1]}_{parts[0]}~'\n",
    "        return substring\n",
    "    \n",
    "    # Regular expression to match each substring delimited by '~'\n",
    "    #pattern = r'(\\w+\\t\\w+)~'\n",
    "    pattern = r'([a-zA-Z0-9_.]+\\t\\w+)~'\n",
    "    \n",
    "    # Apply the transformation\n",
    "    transformed_string = re.sub(pattern, lambda match: transform_substring(match), tagged_string)\n",
    "    \n",
    "    return transformed_string"
   ]
  },
  {
   "cell_type": "markdown",
   "id": "442936de-1113-4e6a-9b54-260a89457af7",
   "metadata": {},
   "source": [
    "## Transforming the tagged strings"
   ]
  },
  {
   "cell_type": "code",
   "execution_count": null,
   "id": "547b6739-f07e-4b18-87dc-d8a1ddb0b163",
   "metadata": {},
   "outputs": [],
   "source": [
    "# Transforming the tagged strings\n",
    "df['content'] = df['content'].apply(transform_tagged_string)"
   ]
  },
  {
   "cell_type": "markdown",
   "id": "8546c1c8-0dd9-4d1c-a3b9-b73e9b9a463f",
   "metadata": {},
   "source": [
    "### Inspecting a few texts"
   ]
  },
  {
   "cell_type": "code",
   "execution_count": null,
   "id": "83358d63-1a81-4a04-a921-f39c0f56e8a7",
   "metadata": {},
   "outputs": [],
   "source": [
    "df.loc[1, 'content']"
   ]
  },
  {
   "cell_type": "markdown",
   "id": "8e9c0075-1231-4e5a-bf30-ca5bdfa7322f",
   "metadata": {},
   "source": [
    "## Exporting the DataFrame into `tweets/tagged2.txt`"
   ]
  },
  {
   "cell_type": "code",
   "execution_count": null,
   "id": "d4d59f0b-22cf-4f33-b64b-f27f50ac9f30",
   "metadata": {},
   "outputs": [],
   "source": [
    "df.to_csv('tweets/tagged2.txt', sep='|', index=False, header=False, encoding='utf-8', lineterminator='\\n', doublequote=False, escapechar=' ')"
   ]
  },
  {
   "cell_type": "code",
   "execution_count": null,
   "id": "e5ca4f59-aafb-4b18-afc1-6d53f78fa684",
   "metadata": {},
   "outputs": [],
   "source": []
  }
 ],
 "metadata": {
  "kernelspec": {
   "display_name": "Python 3 (ipykernel)",
   "language": "python",
   "name": "python3"
  },
  "language_info": {
   "codemirror_mode": {
    "name": "ipython",
    "version": 3
   },
   "file_extension": ".py",
   "mimetype": "text/x-python",
   "name": "python",
   "nbconvert_exporter": "python",
   "pygments_lexer": "ipython3",
   "version": "3.10.12"
  }
 },
 "nbformat": 4,
 "nbformat_minor": 5
}
