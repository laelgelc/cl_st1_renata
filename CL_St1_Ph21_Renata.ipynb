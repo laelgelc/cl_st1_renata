{
 "cells": [
  {
   "cell_type": "markdown",
   "id": "810d9f10-ec19-4b09-8f90-e983e460b319",
   "metadata": {
    "jp-MarkdownHeadingCollapsed": true
   },
   "source": [
    "<center>\n",
    "<img src=\"https://laelgelcpublic.s3.sa-east-1.amazonaws.com/lael_50_years_narrow_white.png.no_years.400px_96dpi.png\" width=\"300\" alt=\"LAEL 50 years logo\">\n",
    "<h3>APPLIED LINGUISTICS GRADUATE PROGRAMME (LAEL)</h3>\n",
    "</center>\n",
    "<hr>"
   ]
  },
  {
   "cell_type": "markdown",
   "id": "888c2c96-2fc3-4a1a-995b-c388036a2a15",
   "metadata": {},
   "source": [
    "# Corpus Linguistics - Study 1 - Phase 2_1 - Renata"
   ]
  },
  {
   "cell_type": "markdown",
   "id": "efff8d8b-6456-4379-974e-d85ffe03bc6e",
   "metadata": {},
   "source": [
    "This solution responds to the requirement of adding the part-of-speech (POS) tag as a suffix to the lemmas determined by TreeTagger.\n",
    "\n",
    "It takes the file `tweets/tagged.txt` as input, performs the appropriate string transformations and returns `tweets/tagged2.txt` as output. Therefore, the solution should be executed after the execution of `treetagging.sh` is completed.\n",
    "\n",
    "Before moving on to running `tokenstypes.sh`, `tweets/tagged2.txt` should replace `tweets/tagged.txt` as shown below:\n",
    "\n",
    "```\n",
    "(my_env) eyamrog@Rog-ASUS:~/work/cl_st1_renata/tweets$ ll\n",
    "total 33172\n",
    "drwxr-xr-x 2 eyamrog eyamrog     4096 Sep 11 17:32 ./\n",
    "drwxr-xr-x 5 eyamrog eyamrog     4096 Sep 11 17:45 ../\n",
    "-rw-r--r-- 1 eyamrog eyamrog    89062 Sep 11 14:40 tagged.txt\n",
    "-rw-r--r-- 1 eyamrog eyamrog    99405 Sep 11 17:34 tagged2.txt\n",
    "-rw-r--r-- 1 eyamrog eyamrog 16842002 Sep 11 14:38 tweets.txt\n",
    "-rw-r--r-- 1 eyamrog eyamrog 16924433 Sep 11 14:20 tweets_ori.txt\n",
    "(my_env) eyamrog@Rog-ASUS:~/work/cl_st1_renata/tweets$ mv tagged.txt tagged_ori.txt\n",
    "(my_env) eyamrog@Rog-ASUS:~/work/cl_st1_renata/tweets$ mv tagged2.txt tagged.txt\n",
    "(my_env) eyamrog@Rog-ASUS:~/work/cl_st1_renata/tweets$ ll\n",
    "total 33172\n",
    "drwxr-xr-x 2 eyamrog eyamrog     4096 Sep 11 17:46 ./\n",
    "drwxr-xr-x 5 eyamrog eyamrog     4096 Sep 11 17:45 ../\n",
    "-rw-r--r-- 1 eyamrog eyamrog    99405 Sep 11 17:34 tagged.txt\n",
    "-rw-r--r-- 1 eyamrog eyamrog    89062 Sep 11 14:40 tagged_ori.txt\n",
    "-rw-r--r-- 1 eyamrog eyamrog 16842002 Sep 11 14:38 tweets.txt\n",
    "-rw-r--r-- 1 eyamrog eyamrog 16924433 Sep 11 14:20 tweets_ori.txt\n",
    "(my_env) eyamrog@Rog-ASUS:~/work/cl_st1_renata/tweets$ \n",
    "```"
   ]
  },
  {
   "cell_type": "markdown",
   "id": "d81a22bd-0059-4578-bfc6-29ecef3d2a6d",
   "metadata": {},
   "source": [
    "## Importing the required libraries"
   ]
  },
  {
   "cell_type": "code",
   "execution_count": 1,
   "id": "80dde47b-60e9-4001-9587-cac5fac2cdfe",
   "metadata": {},
   "outputs": [],
   "source": [
    "import pandas as pd\n",
    "import re"
   ]
  },
  {
   "cell_type": "markdown",
   "id": "b301ddf9-3758-42ba-9a6f-c1dd316ded08",
   "metadata": {},
   "source": [
    "## Importing `tweets/tagged.txt` into a DataFrame"
   ]
  },
  {
   "cell_type": "code",
   "execution_count": 2,
   "id": "9667e92f-5454-43fa-9d0c-2f5a77bf86c5",
   "metadata": {},
   "outputs": [],
   "source": [
    "df = pd.read_csv('tweets/tagged.txt', sep='|', names=['text_id', 'conversation', 'date', 'user', 'content'])"
   ]
  },
  {
   "cell_type": "code",
   "execution_count": 3,
   "id": "27649345-825e-4012-82e6-6f845de163ef",
   "metadata": {},
   "outputs": [
    {
     "data": {
      "text/html": [
       "<div>\n",
       "<style scoped>\n",
       "    .dataframe tbody tr th:only-of-type {\n",
       "        vertical-align: middle;\n",
       "    }\n",
       "\n",
       "    .dataframe tbody tr th {\n",
       "        vertical-align: top;\n",
       "    }\n",
       "\n",
       "    .dataframe thead th {\n",
       "        text-align: right;\n",
       "    }\n",
       "</style>\n",
       "<table border=\"1\" class=\"dataframe\">\n",
       "  <thead>\n",
       "    <tr style=\"text-align: right;\">\n",
       "      <th></th>\n",
       "      <th>text_id</th>\n",
       "      <th>conversation</th>\n",
       "      <th>date</th>\n",
       "      <th>user</th>\n",
       "      <th>content</th>\n",
       "    </tr>\n",
       "  </thead>\n",
       "  <tbody>\n",
       "    <tr>\n",
       "      <th>0</th>\n",
       "      <td>t000000</td>\n",
       "      <td>v:107838014712814240</td>\n",
       "      <td>d:2024-05-17</td>\n",
       "      <td>u:AlexJones</td>\n",
       "      <td>c:#alexjonesshow_h\\tHASHTAG\\talexjonesshow_h~F...</td>\n",
       "    </tr>\n",
       "    <tr>\n",
       "      <th>1</th>\n",
       "      <td>t000001</td>\n",
       "      <td>v:107838014712814240</td>\n",
       "      <td>d:2024-05-08</td>\n",
       "      <td>u:AlexJones</td>\n",
       "      <td>c:#alexjonesshow_h\\tHASHTAG\\talexjonesshow_h~M...</td>\n",
       "    </tr>\n",
       "    <tr>\n",
       "      <th>2</th>\n",
       "      <td>t000002</td>\n",
       "      <td>v:107838014712814240</td>\n",
       "      <td>d:2024-04-23</td>\n",
       "      <td>u:AlexJones</td>\n",
       "      <td>c:BREAKING\\tNN\\tbreaking~:\\t:\\t:~Australian\\tN...</td>\n",
       "    </tr>\n",
       "    <tr>\n",
       "      <th>3</th>\n",
       "      <td>t000003</td>\n",
       "      <td>v:107838014712814240</td>\n",
       "      <td>d:2024-03-29</td>\n",
       "      <td>u:AlexJones</td>\n",
       "      <td>c:BREAKING\\tNN\\tbreaking~:\\t:\\t:~CPS\\tNP\\tcps~...</td>\n",
       "    </tr>\n",
       "    <tr>\n",
       "      <th>4</th>\n",
       "      <td>t000004</td>\n",
       "      <td>v:107838014712814240</td>\n",
       "      <td>d:2024-03-26</td>\n",
       "      <td>u:AlexJones</td>\n",
       "      <td>c:Tuesday\\tNP\\ttuesday~LIVE\\tNP\\tlive~:\\t:\\t:~...</td>\n",
       "    </tr>\n",
       "    <tr>\n",
       "      <th>...</th>\n",
       "      <td>...</td>\n",
       "      <td>...</td>\n",
       "      <td>...</td>\n",
       "      <td>...</td>\n",
       "      <td>...</td>\n",
       "    </tr>\n",
       "    <tr>\n",
       "      <th>56638</th>\n",
       "      <td>t056638</td>\n",
       "      <td>v:107759501782461328</td>\n",
       "      <td>d:2022-07-20</td>\n",
       "      <td>u:truthsocial</td>\n",
       "      <td>c:We\\tPP\\twe~are\\tVBP\\tbe~humbled\\tVBN\\thumble...</td>\n",
       "    </tr>\n",
       "    <tr>\n",
       "      <th>56639</th>\n",
       "      <td>t056639</td>\n",
       "      <td>v:107759501782461328</td>\n",
       "      <td>d:2022-05-09</td>\n",
       "      <td>u:truthsocial</td>\n",
       "      <td>c:The\\tDT\\tthe~wait\\tNN\\twait~is\\tVBZ\\tbe~OVER...</td>\n",
       "    </tr>\n",
       "    <tr>\n",
       "      <th>56640</th>\n",
       "      <td>t056640</td>\n",
       "      <td>v:107759501782461328</td>\n",
       "      <td>d:2022-05-07</td>\n",
       "      <td>u:truthsocial</td>\n",
       "      <td>c:BIG\\tJJ\\tbig~NEWS\\tNN\\tnews~!\\tSENT\\t!~Our\\t...</td>\n",
       "    </tr>\n",
       "    <tr>\n",
       "      <th>56641</th>\n",
       "      <td>t056641</td>\n",
       "      <td>v:107759501782461328</td>\n",
       "      <td>d:2022-03-11</td>\n",
       "      <td>u:truthsocial</td>\n",
       "      <td>c:User\\tNN\\tuser~engagement\\tNN\\tengagement~on...</td>\n",
       "    </tr>\n",
       "    <tr>\n",
       "      <th>56642</th>\n",
       "      <td>t056642</td>\n",
       "      <td>v:107838824115445312</td>\n",
       "      <td>d:2022-04-04</td>\n",
       "      <td>u:warrendavidson</td>\n",
       "      <td>c:Good\\tJJ\\tgood~governments\\tNNS\\tgovernment~...</td>\n",
       "    </tr>\n",
       "  </tbody>\n",
       "</table>\n",
       "<p>56643 rows × 5 columns</p>\n",
       "</div>"
      ],
      "text/plain": [
       "       text_id          conversation          date              user  \\\n",
       "0      t000000  v:107838014712814240  d:2024-05-17       u:AlexJones   \n",
       "1      t000001  v:107838014712814240  d:2024-05-08       u:AlexJones   \n",
       "2      t000002  v:107838014712814240  d:2024-04-23       u:AlexJones   \n",
       "3      t000003  v:107838014712814240  d:2024-03-29       u:AlexJones   \n",
       "4      t000004  v:107838014712814240  d:2024-03-26       u:AlexJones   \n",
       "...        ...                   ...           ...               ...   \n",
       "56638  t056638  v:107759501782461328  d:2022-07-20     u:truthsocial   \n",
       "56639  t056639  v:107759501782461328  d:2022-05-09     u:truthsocial   \n",
       "56640  t056640  v:107759501782461328  d:2022-05-07     u:truthsocial   \n",
       "56641  t056641  v:107759501782461328  d:2022-03-11     u:truthsocial   \n",
       "56642  t056642  v:107838824115445312  d:2022-04-04  u:warrendavidson   \n",
       "\n",
       "                                                 content  \n",
       "0      c:#alexjonesshow_h\\tHASHTAG\\talexjonesshow_h~F...  \n",
       "1      c:#alexjonesshow_h\\tHASHTAG\\talexjonesshow_h~M...  \n",
       "2      c:BREAKING\\tNN\\tbreaking~:\\t:\\t:~Australian\\tN...  \n",
       "3      c:BREAKING\\tNN\\tbreaking~:\\t:\\t:~CPS\\tNP\\tcps~...  \n",
       "4      c:Tuesday\\tNP\\ttuesday~LIVE\\tNP\\tlive~:\\t:\\t:~...  \n",
       "...                                                  ...  \n",
       "56638  c:We\\tPP\\twe~are\\tVBP\\tbe~humbled\\tVBN\\thumble...  \n",
       "56639  c:The\\tDT\\tthe~wait\\tNN\\twait~is\\tVBZ\\tbe~OVER...  \n",
       "56640  c:BIG\\tJJ\\tbig~NEWS\\tNN\\tnews~!\\tSENT\\t!~Our\\t...  \n",
       "56641  c:User\\tNN\\tuser~engagement\\tNN\\tengagement~on...  \n",
       "56642  c:Good\\tJJ\\tgood~governments\\tNNS\\tgovernment~...  \n",
       "\n",
       "[56643 rows x 5 columns]"
      ]
     },
     "execution_count": 3,
     "metadata": {},
     "output_type": "execute_result"
    }
   ],
   "source": [
    "df"
   ]
  },
  {
   "cell_type": "code",
   "execution_count": 4,
   "id": "e582fe15-3b12-4966-9036-86460e0df513",
   "metadata": {},
   "outputs": [
    {
     "data": {
      "text/plain": [
       "text_id         object\n",
       "conversation    object\n",
       "date            object\n",
       "user            object\n",
       "content         object\n",
       "dtype: object"
      ]
     },
     "execution_count": 4,
     "metadata": {},
     "output_type": "execute_result"
    }
   ],
   "source": [
    "df.dtypes"
   ]
  },
  {
   "cell_type": "markdown",
   "id": "4b0d2cf7-8d76-40cc-a0fd-48859305cf1d",
   "metadata": {},
   "source": [
    "### Inspecting a few texts"
   ]
  },
  {
   "cell_type": "code",
   "execution_count": 5,
   "id": "a0197402-1e98-4f53-979d-e28fe0e5d1da",
   "metadata": {},
   "outputs": [
    {
     "data": {
      "text/plain": [
       "\"c:BREAKING\\tNN\\tbreaking~:\\t:\\t:~Australian\\tNP\\taustralian~Senator\\tNP\\tsenator~Calls\\tNP\\tcalls~For\\tIN\\tfor~Elon\\tNP\\telon~Musk\\tNP\\tmusk~'\\tPOS\\t'~s\\tJJ\\ts~Arrest\\tNP\\tarrest~For\\tIN\\tfor~Defending\\tNP\\tdefending~Free\\tNP\\tfree~Speech\\tNP\\tspeech\""
      ]
     },
     "execution_count": 5,
     "metadata": {},
     "output_type": "execute_result"
    }
   ],
   "source": [
    "df.loc[2, 'content']"
   ]
  },
  {
   "cell_type": "markdown",
   "id": "df015ad1-62c4-4dfa-9113-27c2b19402e2",
   "metadata": {},
   "source": [
    "## Appending a `~` character at the end of each string of the column `content`"
   ]
  },
  {
   "cell_type": "markdown",
   "id": "e45e4a8a-3539-4fe3-b962-81baf48be14c",
   "metadata": {},
   "source": [
    "The character `~` is required to allow for the detection of the string patterns to transform."
   ]
  },
  {
   "cell_type": "code",
   "execution_count": 6,
   "id": "4a946e34-2d4f-4227-b63c-35593ba23758",
   "metadata": {},
   "outputs": [],
   "source": [
    "# Appending '~' to the end of each string in the 'content' column\n",
    "df['content'] = df['content'] + '~'"
   ]
  },
  {
   "cell_type": "markdown",
   "id": "dc8d8d1f-c87b-467a-8339-7bb0f4ed819f",
   "metadata": {},
   "source": [
    "### Inspecting a few texts"
   ]
  },
  {
   "cell_type": "code",
   "execution_count": 7,
   "id": "d3d0450a-7506-418a-a38f-be1438e86e05",
   "metadata": {},
   "outputs": [
    {
     "data": {
      "text/plain": [
       "\"c:BREAKING\\tNN\\tbreaking~:\\t:\\t:~Australian\\tNP\\taustralian~Senator\\tNP\\tsenator~Calls\\tNP\\tcalls~For\\tIN\\tfor~Elon\\tNP\\telon~Musk\\tNP\\tmusk~'\\tPOS\\t'~s\\tJJ\\ts~Arrest\\tNP\\tarrest~For\\tIN\\tfor~Defending\\tNP\\tdefending~Free\\tNP\\tfree~Speech\\tNP\\tspeech~\""
      ]
     },
     "execution_count": 7,
     "metadata": {},
     "output_type": "execute_result"
    }
   ],
   "source": [
    "df.loc[2, 'content']"
   ]
  },
  {
   "cell_type": "markdown",
   "id": "a9f972af-e54d-405e-9b7c-b775990ff721",
   "metadata": {},
   "source": [
    "## Defining a function to transform the tagged strings"
   ]
  },
  {
   "cell_type": "code",
   "execution_count": 8,
   "id": "15e46688-88b9-49bb-8ad5-3a165dadfb92",
   "metadata": {},
   "outputs": [],
   "source": [
    "def transform_tagged_string(tagged_string):\n",
    "    # Ensure the input is a string\n",
    "    tagged_string = str(tagged_string)\n",
    "    # Function to transform each substring\n",
    "    def transform_substring(match):\n",
    "        parts = match.group(1).split('\\t')\n",
    "        if parts[0] in ['HASHTAG', 'EMOJI']:\n",
    "            substring = f'{parts[0]}\\t{parts[1]}~'\n",
    "        else:\n",
    "            tag = parts[0].replace('.', '_') # Replacing any occurrence of '.' by '_' to ensure compliance with the next stage of processing\n",
    "            substring = f'{parts[0]}\\t{parts[1]}_{tag}~'\n",
    "        return substring\n",
    "    \n",
    "    # Regular expression to match each substring delimited by '~'\n",
    "    #pattern = r'(\\w+\\t\\w+)~'\n",
    "    pattern = r'([a-zA-Z0-9_.]+\\t[a-zA-Z0-9_\\-]+)~'\n",
    "    \n",
    "    # Apply the transformation\n",
    "    transformed_string = re.sub(pattern, lambda match: transform_substring(match), tagged_string)\n",
    "    \n",
    "    return transformed_string"
   ]
  },
  {
   "cell_type": "markdown",
   "id": "442936de-1113-4e6a-9b54-260a89457af7",
   "metadata": {},
   "source": [
    "## Transforming the tagged strings"
   ]
  },
  {
   "cell_type": "code",
   "execution_count": 9,
   "id": "547b6739-f07e-4b18-87dc-d8a1ddb0b163",
   "metadata": {},
   "outputs": [],
   "source": [
    "# Transforming the tagged strings\n",
    "df['content'] = df['content'].apply(transform_tagged_string)"
   ]
  },
  {
   "cell_type": "markdown",
   "id": "8546c1c8-0dd9-4d1c-a3b9-b73e9b9a463f",
   "metadata": {},
   "source": [
    "### Inspecting a few texts"
   ]
  },
  {
   "cell_type": "code",
   "execution_count": 10,
   "id": "83358d63-1a81-4a04-a921-f39c0f56e8a7",
   "metadata": {},
   "outputs": [
    {
     "data": {
      "text/plain": [
       "'c:#alexjonesshow_h\\tHASHTAG\\talexjonesshow_h~Must-Watch\\tNP\\tmust-watch_NP~Wednesday\\tNP\\twednesday_NP~Broadcast\\tNP\\tbroadcast_NP~:\\t:\\t:~Alex\\tNP\\talex_NP~Jones\\tNP\\tjones_NP~&\\tCC\\t&~Nick\\tNP\\tnick_NP~Fuentes\\tNP\\tfuentes_NP~Discuss\\tNP\\tdiscuss_NP~Future\\tNP\\tfuture_NP~of\\tIN\\tof_IN~Free\\tNP\\tfree_NP~Speech\\tNP\\tspeech_NP~In\\tIN\\tin_IN~America\\tNP\\tamerica_NP~&\\tCC\\t&~Worldwide\\tNP\\tworldwide_NP~!\\tSENT\\t!~!\\tSENT\\t!~TUNE\\tNN\\ttune_NN~IN\\tIN\\tin_IN~LIVE\\tNP\\tlive_NP~!\\tSENT\\t!~GET\\tVB\\tget_VB~NITRIC\\tNP\\tnitric_NP~BOOST*\\tNP\\tboost*~NOW\\tRB\\tnow_RB~40\\tCD\\t@card@~%\\tNN\\t%~OFF\\tNN\\toff_NN~!\\tSENT\\t!~#supportinfowars_h\\tHASHTAG\\tsupportinfowars_h~'"
      ]
     },
     "execution_count": 10,
     "metadata": {},
     "output_type": "execute_result"
    }
   ],
   "source": [
    "df.loc[1, 'content']"
   ]
  },
  {
   "cell_type": "markdown",
   "id": "8e9c0075-1231-4e5a-bf30-ca5bdfa7322f",
   "metadata": {},
   "source": [
    "## Exporting the DataFrame into `tweets/tagged2.txt`"
   ]
  },
  {
   "cell_type": "code",
   "execution_count": 11,
   "id": "d4d59f0b-22cf-4f33-b64b-f27f50ac9f30",
   "metadata": {},
   "outputs": [],
   "source": [
    "df.to_csv('tweets/tagged2.txt', sep='|', index=False, header=False, encoding='utf-8', lineterminator='\\n', doublequote=False, escapechar=' ')"
   ]
  },
  {
   "cell_type": "code",
   "execution_count": null,
   "id": "e5ca4f59-aafb-4b18-afc1-6d53f78fa684",
   "metadata": {},
   "outputs": [],
   "source": []
  }
 ],
 "metadata": {
  "kernelspec": {
   "display_name": "Python 3 (ipykernel)",
   "language": "python",
   "name": "python3"
  },
  "language_info": {
   "codemirror_mode": {
    "name": "ipython",
    "version": 3
   },
   "file_extension": ".py",
   "mimetype": "text/x-python",
   "name": "python",
   "nbconvert_exporter": "python",
   "pygments_lexer": "ipython3",
   "version": "3.12.3"
  }
 },
 "nbformat": 4,
 "nbformat_minor": 5
}
