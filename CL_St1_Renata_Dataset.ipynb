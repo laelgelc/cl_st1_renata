{
 "cells": [
  {
   "cell_type": "markdown",
   "id": "810d9f10-ec19-4b09-8f90-e983e460b319",
   "metadata": {},
   "source": [
    "<center>\n",
    "<img src=\"https://laelgelcpublic.s3.sa-east-1.amazonaws.com/lael_50_years_narrow_white.png.no_years.400px_96dpi.png\" width=\"300\" alt=\"LAEL 50 years logo\">\n",
    "<h3>APPLIED LINGUISTICS GRADUATE PROGRAMME (LAEL)</h3>\n",
    "</center>\n",
    "<hr>"
   ]
  },
  {
   "cell_type": "markdown",
   "id": "888c2c96-2fc3-4a1a-995b-c388036a2a15",
   "metadata": {},
   "source": [
    "# Corpus Linguistics - Study 1 - Renata - Dataset preparation"
   ]
  },
  {
   "cell_type": "markdown",
   "id": "7a9c2af7-9fc1-4f51-a4f5-2ed915b93039",
   "metadata": {},
   "source": [
    "## Importing the required libraries"
   ]
  },
  {
   "cell_type": "code",
   "execution_count": 1,
   "id": "e6689499-d19d-4b0c-befd-f88926b7105d",
   "metadata": {},
   "outputs": [],
   "source": [
    "import re\n",
    "import pandas as pd\n",
    "from bs4 import BeautifulSoup"
   ]
  },
  {
   "cell_type": "markdown",
   "id": "73050066-64bd-42cb-ac9d-9840a07c8d7a",
   "metadata": {},
   "source": [
    "## Setting input and output filenames"
   ]
  },
  {
   "cell_type": "markdown",
   "id": "3328eee4-c0e2-4463-b06d-5a45a67e0835",
   "metadata": {},
   "source": [
    "Set the `input_filename` with the filename of the file to be processed."
   ]
  },
  {
   "cell_type": "code",
   "execution_count": 2,
   "id": "376b4b00-86c3-4778-8e57-e5ce47886e91",
   "metadata": {},
   "outputs": [],
   "source": [
    "input_filename = 'cl_st1_renata_truthbrush_20240616_raw_data.jsonl'\n",
    "suffix = '_prep'\n",
    "\n",
    "def add_suffix(filename):\n",
    "    # Extract the base filename without the extension\n",
    "    base_filename = re.match(r'^([A-Za-z0-9-_,\\s]+)\\.[A-Za-z]{1,5}$', filename).group(1)\n",
    "    \n",
    "    # Append suffix to the base filename\n",
    "    new_filename = f'{base_filename}{suffix}'\n",
    "    \n",
    "    # Add the original file extension back\n",
    "    new_filename += re.search(r'\\.[A-Za-z]{1,5}$', filename).group()\n",
    "    \n",
    "    return new_filename\n",
    "\n",
    "output_filename = add_suffix(input_filename)"
   ]
  },
  {
   "cell_type": "markdown",
   "id": "9a79a002-c182-4021-9b77-99ad470582af",
   "metadata": {},
   "source": [
    "## Data wrangling"
   ]
  },
  {
   "cell_type": "markdown",
   "id": "66e37aae-8cee-42ca-91ff-10f882fc45c6",
   "metadata": {},
   "source": [
    "### Importing the tweet raw data into a dataframe"
   ]
  },
  {
   "cell_type": "code",
   "execution_count": 3,
   "id": "8a762708-07e4-472d-b3e9-bb0cea14438c",
   "metadata": {},
   "outputs": [],
   "source": [
    "df_tweets_raw_data = pd.read_json(input_filename, lines=True)"
   ]
  },
  {
   "cell_type": "code",
   "execution_count": 4,
   "id": "623ddacd-5a20-4d89-a48e-98849a0644e9",
   "metadata": {},
   "outputs": [
    {
     "data": {
      "text/html": [
       "<div>\n",
       "<style scoped>\n",
       "    .dataframe tbody tr th:only-of-type {\n",
       "        vertical-align: middle;\n",
       "    }\n",
       "\n",
       "    .dataframe tbody tr th {\n",
       "        vertical-align: top;\n",
       "    }\n",
       "\n",
       "    .dataframe thead th {\n",
       "        text-align: right;\n",
       "    }\n",
       "</style>\n",
       "<table border=\"1\" class=\"dataframe\">\n",
       "  <thead>\n",
       "    <tr style=\"text-align: right;\">\n",
       "      <th></th>\n",
       "      <th>id</th>\n",
       "      <th>created_at</th>\n",
       "      <th>in_reply_to_id</th>\n",
       "      <th>quote_id</th>\n",
       "      <th>in_reply_to_account_id</th>\n",
       "      <th>sensitive</th>\n",
       "      <th>spoiler_text</th>\n",
       "      <th>visibility</th>\n",
       "      <th>language</th>\n",
       "      <th>uri</th>\n",
       "      <th>...</th>\n",
       "      <th>reblogs_count</th>\n",
       "      <th>favourites_count</th>\n",
       "      <th>favourited</th>\n",
       "      <th>reblogged</th>\n",
       "      <th>muted</th>\n",
       "      <th>pinned</th>\n",
       "      <th>bookmarked</th>\n",
       "      <th>poll</th>\n",
       "      <th>emojis</th>\n",
       "      <th>_pulled</th>\n",
       "    </tr>\n",
       "  </thead>\n",
       "  <tbody>\n",
       "    <tr>\n",
       "      <th>0</th>\n",
       "      <td>112628415816970752</td>\n",
       "      <td>2024-06-16 21:27:19.392000+00:00</td>\n",
       "      <td>NaN</td>\n",
       "      <td>NaN</td>\n",
       "      <td>NaN</td>\n",
       "      <td>False</td>\n",
       "      <td></td>\n",
       "      <td>public</td>\n",
       "      <td>en</td>\n",
       "      <td>https://truthsocial.com/@AlexJones/11262841581...</td>\n",
       "      <td>...</td>\n",
       "      <td>20</td>\n",
       "      <td>40</td>\n",
       "      <td>False</td>\n",
       "      <td>False</td>\n",
       "      <td>False</td>\n",
       "      <td>False</td>\n",
       "      <td>False</td>\n",
       "      <td>None</td>\n",
       "      <td>[]</td>\n",
       "      <td>2024-06-16T19:32:14.220929</td>\n",
       "    </tr>\n",
       "    <tr>\n",
       "      <th>1</th>\n",
       "      <td>112627604328468576</td>\n",
       "      <td>2024-06-16 18:00:57.062000+00:00</td>\n",
       "      <td>NaN</td>\n",
       "      <td>NaN</td>\n",
       "      <td>NaN</td>\n",
       "      <td>False</td>\n",
       "      <td></td>\n",
       "      <td>public</td>\n",
       "      <td>en</td>\n",
       "      <td>https://truthsocial.com/@AlexJones/11262760432...</td>\n",
       "      <td>...</td>\n",
       "      <td>47</td>\n",
       "      <td>139</td>\n",
       "      <td>False</td>\n",
       "      <td>False</td>\n",
       "      <td>False</td>\n",
       "      <td>False</td>\n",
       "      <td>False</td>\n",
       "      <td>None</td>\n",
       "      <td>[]</td>\n",
       "      <td>2024-06-16T19:32:14.221289</td>\n",
       "    </tr>\n",
       "    <tr>\n",
       "      <th>2</th>\n",
       "      <td>112621239396080064</td>\n",
       "      <td>2024-06-15 15:02:15.900000+00:00</td>\n",
       "      <td>NaN</td>\n",
       "      <td>NaN</td>\n",
       "      <td>NaN</td>\n",
       "      <td>False</td>\n",
       "      <td></td>\n",
       "      <td>public</td>\n",
       "      <td>en</td>\n",
       "      <td>https://truthsocial.com/@AlexJones/11262123939...</td>\n",
       "      <td>...</td>\n",
       "      <td>36</td>\n",
       "      <td>111</td>\n",
       "      <td>False</td>\n",
       "      <td>False</td>\n",
       "      <td>False</td>\n",
       "      <td>False</td>\n",
       "      <td>False</td>\n",
       "      <td>None</td>\n",
       "      <td>[]</td>\n",
       "      <td>2024-06-16T19:32:14.221532</td>\n",
       "    </tr>\n",
       "    <tr>\n",
       "      <th>3</th>\n",
       "      <td>112617723858598704</td>\n",
       "      <td>2024-06-15 00:08:13.055000+00:00</td>\n",
       "      <td>NaN</td>\n",
       "      <td>NaN</td>\n",
       "      <td>NaN</td>\n",
       "      <td>False</td>\n",
       "      <td></td>\n",
       "      <td>public</td>\n",
       "      <td>en</td>\n",
       "      <td>https://truthsocial.com/@AlexJones/11261772385...</td>\n",
       "      <td>...</td>\n",
       "      <td>80</td>\n",
       "      <td>201</td>\n",
       "      <td>False</td>\n",
       "      <td>False</td>\n",
       "      <td>False</td>\n",
       "      <td>False</td>\n",
       "      <td>False</td>\n",
       "      <td>None</td>\n",
       "      <td>[]</td>\n",
       "      <td>2024-06-16T19:32:14.221757</td>\n",
       "    </tr>\n",
       "    <tr>\n",
       "      <th>4</th>\n",
       "      <td>112616115915769904</td>\n",
       "      <td>2024-06-14 17:19:17.792000+00:00</td>\n",
       "      <td>NaN</td>\n",
       "      <td>NaN</td>\n",
       "      <td>NaN</td>\n",
       "      <td>False</td>\n",
       "      <td></td>\n",
       "      <td>public</td>\n",
       "      <td>en</td>\n",
       "      <td>https://truthsocial.com/@AlexJones/11261611591...</td>\n",
       "      <td>...</td>\n",
       "      <td>37</td>\n",
       "      <td>98</td>\n",
       "      <td>False</td>\n",
       "      <td>False</td>\n",
       "      <td>False</td>\n",
       "      <td>False</td>\n",
       "      <td>False</td>\n",
       "      <td>None</td>\n",
       "      <td>[]</td>\n",
       "      <td>2024-06-16T19:32:14.222031</td>\n",
       "    </tr>\n",
       "  </tbody>\n",
       "</table>\n",
       "<p>5 rows × 33 columns</p>\n",
       "</div>"
      ],
      "text/plain": [
       "                   id                       created_at  in_reply_to_id  \\\n",
       "0  112628415816970752 2024-06-16 21:27:19.392000+00:00             NaN   \n",
       "1  112627604328468576 2024-06-16 18:00:57.062000+00:00             NaN   \n",
       "2  112621239396080064 2024-06-15 15:02:15.900000+00:00             NaN   \n",
       "3  112617723858598704 2024-06-15 00:08:13.055000+00:00             NaN   \n",
       "4  112616115915769904 2024-06-14 17:19:17.792000+00:00             NaN   \n",
       "\n",
       "   quote_id  in_reply_to_account_id  sensitive spoiler_text visibility  \\\n",
       "0       NaN                     NaN      False                  public   \n",
       "1       NaN                     NaN      False                  public   \n",
       "2       NaN                     NaN      False                  public   \n",
       "3       NaN                     NaN      False                  public   \n",
       "4       NaN                     NaN      False                  public   \n",
       "\n",
       "  language                                                uri  ...  \\\n",
       "0       en  https://truthsocial.com/@AlexJones/11262841581...  ...   \n",
       "1       en  https://truthsocial.com/@AlexJones/11262760432...  ...   \n",
       "2       en  https://truthsocial.com/@AlexJones/11262123939...  ...   \n",
       "3       en  https://truthsocial.com/@AlexJones/11261772385...  ...   \n",
       "4       en  https://truthsocial.com/@AlexJones/11261611591...  ...   \n",
       "\n",
       "  reblogs_count favourites_count favourited reblogged  muted pinned  \\\n",
       "0            20               40      False     False  False  False   \n",
       "1            47              139      False     False  False  False   \n",
       "2            36              111      False     False  False  False   \n",
       "3            80              201      False     False  False  False   \n",
       "4            37               98      False     False  False  False   \n",
       "\n",
       "  bookmarked  poll emojis                     _pulled  \n",
       "0      False  None     []  2024-06-16T19:32:14.220929  \n",
       "1      False  None     []  2024-06-16T19:32:14.221289  \n",
       "2      False  None     []  2024-06-16T19:32:14.221532  \n",
       "3      False  None     []  2024-06-16T19:32:14.221757  \n",
       "4      False  None     []  2024-06-16T19:32:14.222031  \n",
       "\n",
       "[5 rows x 33 columns]"
      ]
     },
     "execution_count": 4,
     "metadata": {},
     "output_type": "execute_result"
    }
   ],
   "source": [
    "df_tweets_raw_data.head(5)"
   ]
  },
  {
   "cell_type": "code",
   "execution_count": 5,
   "id": "1651fe57",
   "metadata": {},
   "outputs": [
    {
     "data": {
      "text/plain": [
       "(762993, 33)"
      ]
     },
     "execution_count": 5,
     "metadata": {},
     "output_type": "execute_result"
    }
   ],
   "source": [
    "df_tweets_raw_data.shape"
   ]
  },
  {
   "cell_type": "markdown",
   "id": "a7ef5290-f5bf-44ae-8f40-5d1274b8318a",
   "metadata": {},
   "source": [
    "### Checking if data types are consistent"
   ]
  },
  {
   "cell_type": "code",
   "execution_count": 6,
   "id": "6795c314-cc1f-4acd-86a1-a4eada8a9bcb",
   "metadata": {},
   "outputs": [
    {
     "data": {
      "text/plain": [
       "id                                      int64\n",
       "created_at                datetime64[ns, UTC]\n",
       "in_reply_to_id                        float64\n",
       "quote_id                              float64\n",
       "in_reply_to_account_id                float64\n",
       "sensitive                                bool\n",
       "spoiler_text                           object\n",
       "visibility                             object\n",
       "language                               object\n",
       "uri                                    object\n",
       "url                                    object\n",
       "content                                object\n",
       "account                                object\n",
       "media_attachments                      object\n",
       "mentions                               object\n",
       "tags                                   object\n",
       "card                                   object\n",
       "group                                  object\n",
       "quote                                  object\n",
       "in_reply_to                           float64\n",
       "reblog                                 object\n",
       "sponsored                                bool\n",
       "replies_count                           int64\n",
       "reblogs_count                           int64\n",
       "favourites_count                        int64\n",
       "favourited                               bool\n",
       "reblogged                                bool\n",
       "muted                                    bool\n",
       "pinned                                   bool\n",
       "bookmarked                               bool\n",
       "poll                                   object\n",
       "emojis                                 object\n",
       "_pulled                                object\n",
       "dtype: object"
      ]
     },
     "execution_count": 6,
     "metadata": {},
     "output_type": "execute_result"
    }
   ],
   "source": [
    "df_tweets_raw_data.dtypes"
   ]
  },
  {
   "cell_type": "markdown",
   "id": "ae0ba5f3-d2e7-4143-a4e9-69eaa8252905",
   "metadata": {},
   "source": [
    "### Checking the columns `id`, `created_at`, `language`, `url`, `content` and `account` missing values"
   ]
  },
  {
   "cell_type": "code",
   "execution_count": 7,
   "id": "21dc2c5c-80dd-4625-9619-6018c93f9c6d",
   "metadata": {},
   "outputs": [
    {
     "name": "stdout",
     "output_type": "stream",
     "text": [
      "0\n"
     ]
    }
   ],
   "source": [
    "print(df_tweets_raw_data['id'].isnull().sum())"
   ]
  },
  {
   "cell_type": "code",
   "execution_count": 8,
   "id": "431de445-6ef7-480c-a360-467233119446",
   "metadata": {},
   "outputs": [
    {
     "name": "stdout",
     "output_type": "stream",
     "text": [
      "0\n"
     ]
    }
   ],
   "source": [
    "print(df_tweets_raw_data['created_at'].isnull().sum())"
   ]
  },
  {
   "cell_type": "markdown",
   "id": "3242d67f-ed79-42e0-8099-b7d7b2638a16",
   "metadata": {},
   "source": [
    "The parameter `language` is not reliable."
   ]
  },
  {
   "cell_type": "code",
   "execution_count": 9,
   "id": "a1e352bc-8f46-4cd8-90ef-e117c70a2c82",
   "metadata": {},
   "outputs": [
    {
     "name": "stdout",
     "output_type": "stream",
     "text": [
      "253915\n"
     ]
    }
   ],
   "source": [
    "print(df_tweets_raw_data['language'].isnull().sum())"
   ]
  },
  {
   "cell_type": "code",
   "execution_count": 10,
   "id": "75e0c365-0fca-4550-9eed-8df9cada765d",
   "metadata": {},
   "outputs": [
    {
     "name": "stdout",
     "output_type": "stream",
     "text": [
      "0\n"
     ]
    }
   ],
   "source": [
    "print(df_tweets_raw_data['url'].isnull().sum())"
   ]
  },
  {
   "cell_type": "code",
   "execution_count": 11,
   "id": "635e6d93-d11b-44f1-a4b3-725efe95e8d0",
   "metadata": {},
   "outputs": [
    {
     "name": "stdout",
     "output_type": "stream",
     "text": [
      "0\n"
     ]
    }
   ],
   "source": [
    "print(df_tweets_raw_data['content'].isnull().sum())"
   ]
  },
  {
   "cell_type": "code",
   "execution_count": 12,
   "id": "4fe30d7f-befe-4704-a72e-fb07fe05462c",
   "metadata": {},
   "outputs": [
    {
     "name": "stdout",
     "output_type": "stream",
     "text": [
      "0\n"
     ]
    }
   ],
   "source": [
    "print(df_tweets_raw_data['account'].isnull().sum())"
   ]
  },
  {
   "cell_type": "markdown",
   "id": "bef91d85-7bf2-4c87-8f93-a33298c96b93",
   "metadata": {},
   "source": [
    "### Dropping unnecessary columns"
   ]
  },
  {
   "cell_type": "markdown",
   "id": "acc48aac-82dd-4dba-816c-b974573c85b1",
   "metadata": {},
   "source": [
    "#### Listing the columns"
   ]
  },
  {
   "cell_type": "code",
   "execution_count": 13,
   "id": "186bc7a0-eea6-431f-bb4b-2b108edb75db",
   "metadata": {},
   "outputs": [
    {
     "data": {
      "text/plain": [
       "['id',\n",
       " 'created_at',\n",
       " 'in_reply_to_id',\n",
       " 'quote_id',\n",
       " 'in_reply_to_account_id',\n",
       " 'sensitive',\n",
       " 'spoiler_text',\n",
       " 'visibility',\n",
       " 'language',\n",
       " 'uri',\n",
       " 'url',\n",
       " 'content',\n",
       " 'account',\n",
       " 'media_attachments',\n",
       " 'mentions',\n",
       " 'tags',\n",
       " 'card',\n",
       " 'group',\n",
       " 'quote',\n",
       " 'in_reply_to',\n",
       " 'reblog',\n",
       " 'sponsored',\n",
       " 'replies_count',\n",
       " 'reblogs_count',\n",
       " 'favourites_count',\n",
       " 'favourited',\n",
       " 'reblogged',\n",
       " 'muted',\n",
       " 'pinned',\n",
       " 'bookmarked',\n",
       " 'poll',\n",
       " 'emojis',\n",
       " '_pulled']"
      ]
     },
     "execution_count": 13,
     "metadata": {},
     "output_type": "execute_result"
    }
   ],
   "source": [
    "df_tweets_raw_data.columns.values.tolist()"
   ]
  },
  {
   "cell_type": "markdown",
   "id": "ade8b0e3-9f4f-46b6-8dfc-14d70d0a8ca3",
   "metadata": {},
   "source": [
    "#### Selecting the columns that are being dropped"
   ]
  },
  {
   "cell_type": "markdown",
   "id": "ba8ff517-9126-4241-80a0-833962ac90ce",
   "metadata": {},
   "source": [
    "1. Edit the previous list and comment 'id', 'created_at', 'language', 'url', 'content' and 'account';\n",
    "2. Update the following command with the updated list before running it."
   ]
  },
  {
   "cell_type": "code",
   "execution_count": 14,
   "id": "2a8a666c-90b2-4acd-a7a0-4a9f85430f27",
   "metadata": {},
   "outputs": [],
   "source": [
    "df_tweets_raw_data = df_tweets_raw_data.drop(columns=[\n",
    "#    'id',\n",
    "#    'created_at',\n",
    "    'in_reply_to_id',\n",
    "    'quote_id',\n",
    "    'in_reply_to_account_id',\n",
    "    'sensitive',\n",
    "    'spoiler_text',\n",
    "    'visibility',\n",
    "#    'language',\n",
    "    'uri',\n",
    "#    'url',\n",
    "#    'content',\n",
    "#    'account',\n",
    "    'media_attachments',\n",
    "    'mentions',\n",
    "    'tags',\n",
    "    'card',\n",
    "    'group',\n",
    "    'quote',\n",
    "    'in_reply_to',\n",
    "    'reblog',\n",
    "    'sponsored',\n",
    "    'replies_count',\n",
    "    'reblogs_count',\n",
    "    'favourites_count',\n",
    "    'favourited',\n",
    "    'reblogged',\n",
    "    'muted',\n",
    "    'pinned',\n",
    "    'bookmarked',\n",
    "    'poll',\n",
    "    'emojis',\n",
    "    '_pulled'\n",
    "])"
   ]
  },
  {
   "cell_type": "code",
   "execution_count": 15,
   "id": "1b513ffa-0845-45c2-9176-a848171e5598",
   "metadata": {},
   "outputs": [
    {
     "data": {
      "text/plain": [
       "['id', 'created_at', 'language', 'url', 'content', 'account']"
      ]
     },
     "execution_count": 15,
     "metadata": {},
     "output_type": "execute_result"
    }
   ],
   "source": [
    "df_tweets_raw_data.columns.values.tolist()"
   ]
  },
  {
   "cell_type": "markdown",
   "id": "26ff2a3f-1c43-4a31-b876-ff6de54714e6",
   "metadata": {},
   "source": [
    "### Listing the values of the parameter `language`"
   ]
  },
  {
   "cell_type": "markdown",
   "id": "93a664f7-196d-4b76-89d7-e96b67c6315a",
   "metadata": {},
   "source": [
    "This parameter is not reliable. Even though different languages are informed, it seems that all of the posts are actually in English. Therefore, it has been decided not to exclude any posts based on this information."
   ]
  },
  {
   "cell_type": "code",
   "execution_count": 16,
   "id": "3db8bc9e-271b-4702-851e-6d23aa3c5d33",
   "metadata": {},
   "outputs": [
    {
     "data": {
      "text/plain": [
       "array(['en', None, 'co', 'de', 'nl', 'lb', 'es', 'no', 'eo', 'sr', 'af',\n",
       "       'st', 'fy', 'mt', 'bg', 'pl', 'ca', 'da', 'ga', 'et', 'ms', 'fr',\n",
       "       'it', 'la', 'lt', '', 'jv', 'el', 'sv', 'pt', 'lv', 'id', 'vi',\n",
       "       'zu', 'gl', 'gd', 'hu', 'fi', 'ig', 'sn', 'sl', 'ha', 'mg', 'so',\n",
       "       'cy', 'zh', 'xh', 'eu', 'ht', 'ja', 'mi', 'sw', 'mk', 'bs', 'su',\n",
       "       'yo', 'sm', 'az', 'sq', 'ny', 'sk', 'ru', 'uz', 'cs', 'ku', 'tg',\n",
       "       'hi', 'ky', 'ro', 'tr', 'kk', 'fa', 'hr', 'be', 'ko', 'mr', 'uk',\n",
       "       'ne', 'ka'], dtype=object)"
      ]
     },
     "execution_count": 16,
     "metadata": {},
     "output_type": "execute_result"
    }
   ],
   "source": [
    "df_tweets_raw_data['language'].unique()"
   ]
  },
  {
   "cell_type": "markdown",
   "id": "406c9ba9-73ad-42a3-bfdb-f64cc36c96a9",
   "metadata": {},
   "source": [
    "### Extracting the column `username`"
   ]
  },
  {
   "cell_type": "code",
   "execution_count": 17,
   "id": "0079390d-6438-4d72-bf6e-0cf2278898ad",
   "metadata": {},
   "outputs": [],
   "source": [
    "# Flatten the nested JSON 'account' attribute\n",
    "df_tweets_raw_data_flattened_user = pd.json_normalize(df_tweets_raw_data['account'])\n",
    "\n",
    "# Extract the 'username' attribute\n",
    "username = df_tweets_raw_data_flattened_user['username']\n",
    "\n",
    "# Create a new column 'username'\n",
    "df_tweets_raw_data['username'] = username"
   ]
  },
  {
   "cell_type": "markdown",
   "id": "1224c888-1bd9-4c03-be3d-afb25f333bbb",
   "metadata": {},
   "source": [
    "### Extracting the column `author_id`"
   ]
  },
  {
   "cell_type": "code",
   "execution_count": 18,
   "id": "0b3b0049-4e58-4a80-96c6-199b851d0c1b",
   "metadata": {},
   "outputs": [],
   "source": [
    "# Extract the 'id' attribute\n",
    "author_id = df_tweets_raw_data_flattened_user['id']\n",
    "\n",
    "# Create a new column 'author_id'\n",
    "df_tweets_raw_data['author_id'] = author_id"
   ]
  },
  {
   "cell_type": "markdown",
   "id": "7a0e98ef-4398-4d56-8af8-35eb031d0155",
   "metadata": {},
   "source": [
    "### Extracting the column `tweet_url`"
   ]
  },
  {
   "cell_type": "code",
   "execution_count": 19,
   "id": "04d1211f-1cca-4e9c-8041-0d6579ab32a0",
   "metadata": {},
   "outputs": [],
   "source": [
    "# Extract the 'url' attribute\n",
    "tweet_url = df_tweets_raw_data['url']\n",
    "\n",
    "# Create a new column 'tweet_url'\n",
    "df_tweets_raw_data['tweet_url'] = tweet_url"
   ]
  },
  {
   "cell_type": "markdown",
   "id": "7d567fa8-0735-4a80-aa78-872580e4a19c",
   "metadata": {},
   "source": [
    "### Extracting the column `text`"
   ]
  },
  {
   "cell_type": "markdown",
   "id": "accf8d1f-f877-477f-bf5e-907fb30aa5e6",
   "metadata": {},
   "source": [
    "`BeautifulSoup` is being used to extract plain text from the column `content`."
   ]
  },
  {
   "cell_type": "code",
   "execution_count": 20,
   "id": "21fbafb6-afad-4e23-babe-9e0ce6424cde",
   "metadata": {},
   "outputs": [],
   "source": [
    "# Extracting plain text from the 'content' column and storing it in column 'text'\n",
    "df_tweets_raw_data['text'] = df_tweets_raw_data['content'].apply(lambda x: BeautifulSoup(x, 'lxml').get_text())"
   ]
  },
  {
   "cell_type": "code",
   "execution_count": 21,
   "id": "b6037461-b4d4-461d-bbaf-a5c6d8f6ee1d",
   "metadata": {},
   "outputs": [
    {
     "data": {
      "text/html": [
       "<div>\n",
       "<style scoped>\n",
       "    .dataframe tbody tr th:only-of-type {\n",
       "        vertical-align: middle;\n",
       "    }\n",
       "\n",
       "    .dataframe tbody tr th {\n",
       "        vertical-align: top;\n",
       "    }\n",
       "\n",
       "    .dataframe thead th {\n",
       "        text-align: right;\n",
       "    }\n",
       "</style>\n",
       "<table border=\"1\" class=\"dataframe\">\n",
       "  <thead>\n",
       "    <tr style=\"text-align: right;\">\n",
       "      <th></th>\n",
       "      <th>id</th>\n",
       "      <th>created_at</th>\n",
       "      <th>language</th>\n",
       "      <th>url</th>\n",
       "      <th>content</th>\n",
       "      <th>account</th>\n",
       "      <th>username</th>\n",
       "      <th>author_id</th>\n",
       "      <th>tweet_url</th>\n",
       "      <th>text</th>\n",
       "    </tr>\n",
       "  </thead>\n",
       "  <tbody>\n",
       "    <tr>\n",
       "      <th>0</th>\n",
       "      <td>112628415816970752</td>\n",
       "      <td>2024-06-16 21:27:19.392000+00:00</td>\n",
       "      <td>en</td>\n",
       "      <td>https://truthsocial.com/@AlexJones/11262841581...</td>\n",
       "      <td>&lt;p&gt;&lt;a href=\"https://truthsocial.com/tags/AlexJ...</td>\n",
       "      <td>{'id': '107838014712814235', 'username': 'Alex...</td>\n",
       "      <td>AlexJones</td>\n",
       "      <td>107838014712814235</td>\n",
       "      <td>https://truthsocial.com/@AlexJones/11262841581...</td>\n",
       "      <td>#AlexJonesShow Sunday Live: Hollywood Comes to...</td>\n",
       "    </tr>\n",
       "    <tr>\n",
       "      <th>1</th>\n",
       "      <td>112627604328468576</td>\n",
       "      <td>2024-06-16 18:00:57.062000+00:00</td>\n",
       "      <td>en</td>\n",
       "      <td>https://truthsocial.com/@AlexJones/11262760432...</td>\n",
       "      <td>&lt;p&gt;Watch: Alex Jones Calls Out Globalist Tyran...</td>\n",
       "      <td>{'id': '107838014712814235', 'username': 'Alex...</td>\n",
       "      <td>AlexJones</td>\n",
       "      <td>107838014712814235</td>\n",
       "      <td>https://truthsocial.com/@AlexJones/11262760432...</td>\n",
       "      <td>Watch: Alex Jones Calls Out Globalist Tyrants ...</td>\n",
       "    </tr>\n",
       "    <tr>\n",
       "      <th>2</th>\n",
       "      <td>112621239396080064</td>\n",
       "      <td>2024-06-15 15:02:15.900000+00:00</td>\n",
       "      <td>en</td>\n",
       "      <td>https://truthsocial.com/@AlexJones/11262123939...</td>\n",
       "      <td>&lt;p&gt;Alex Jones Emergency Saturday Broadcast: Le...</td>\n",
       "      <td>{'id': '107838014712814235', 'username': 'Alex...</td>\n",
       "      <td>AlexJones</td>\n",
       "      <td>107838014712814235</td>\n",
       "      <td>https://truthsocial.com/@AlexJones/11262123939...</td>\n",
       "      <td>Alex Jones Emergency Saturday Broadcast: Learn...</td>\n",
       "    </tr>\n",
       "    <tr>\n",
       "      <th>3</th>\n",
       "      <td>112617723858598704</td>\n",
       "      <td>2024-06-15 00:08:13.055000+00:00</td>\n",
       "      <td>en</td>\n",
       "      <td>https://truthsocial.com/@AlexJones/11261772385...</td>\n",
       "      <td>&lt;p&gt;Exclusive: Alex Jones Makes First Statement...</td>\n",
       "      <td>{'id': '107838014712814235', 'username': 'Alex...</td>\n",
       "      <td>AlexJones</td>\n",
       "      <td>107838014712814235</td>\n",
       "      <td>https://truthsocial.com/@AlexJones/11261772385...</td>\n",
       "      <td>Exclusive: Alex Jones Makes First Statements A...</td>\n",
       "    </tr>\n",
       "    <tr>\n",
       "      <th>4</th>\n",
       "      <td>112616115915769904</td>\n",
       "      <td>2024-06-14 17:19:17.792000+00:00</td>\n",
       "      <td>en</td>\n",
       "      <td>https://truthsocial.com/@AlexJones/11261611591...</td>\n",
       "      <td>&lt;p&gt;&lt;a href=\"https://truthsocial.com/tags/AlexJ...</td>\n",
       "      <td>{'id': '107838014712814235', 'username': 'Alex...</td>\n",
       "      <td>AlexJones</td>\n",
       "      <td>107838014712814235</td>\n",
       "      <td>https://truthsocial.com/@AlexJones/11261611591...</td>\n",
       "      <td>#AlexJonesShow LIVE: Tucker Carlson, Russell B...</td>\n",
       "    </tr>\n",
       "    <tr>\n",
       "      <th>...</th>\n",
       "      <td>...</td>\n",
       "      <td>...</td>\n",
       "      <td>...</td>\n",
       "      <td>...</td>\n",
       "      <td>...</td>\n",
       "      <td>...</td>\n",
       "      <td>...</td>\n",
       "      <td>...</td>\n",
       "      <td>...</td>\n",
       "      <td>...</td>\n",
       "    </tr>\n",
       "    <tr>\n",
       "      <th>762988</th>\n",
       "      <td>107821332077590816</td>\n",
       "      <td>2022-02-18 22:22:42.617000+00:00</td>\n",
       "      <td>en</td>\n",
       "      <td>https://truthsocial.com/@truthsocial/107821332...</td>\n",
       "      <td>&lt;p&gt;Remember this is SOCIAL media.  It’s meant ...</td>\n",
       "      <td>{'id': '107759501782461327', 'username': 'trut...</td>\n",
       "      <td>truthsocial</td>\n",
       "      <td>107759501782461327</td>\n",
       "      <td>https://truthsocial.com/@truthsocial/107821332...</td>\n",
       "      <td>Remember this is SOCIAL media.  It’s meant to ...</td>\n",
       "    </tr>\n",
       "    <tr>\n",
       "      <th>762989</th>\n",
       "      <td>107820127429653232</td>\n",
       "      <td>2022-02-18 17:16:21.149000+00:00</td>\n",
       "      <td>en</td>\n",
       "      <td>https://truthsocial.com/@truthsocial/107820127...</td>\n",
       "      <td>&lt;p&gt;The dream has become a reality. You have yo...</td>\n",
       "      <td>{'id': '107759501782461327', 'username': 'trut...</td>\n",
       "      <td>truthsocial</td>\n",
       "      <td>107759501782461327</td>\n",
       "      <td>https://truthsocial.com/@truthsocial/107820127...</td>\n",
       "      <td>The dream has become a reality. You have your ...</td>\n",
       "    </tr>\n",
       "    <tr>\n",
       "      <th>762990</th>\n",
       "      <td>108116645317044176</td>\n",
       "      <td>2022-04-12 02:04:45.040000+00:00</td>\n",
       "      <td>en</td>\n",
       "      <td>https://truthsocial.com/@warrendavidson/108116...</td>\n",
       "      <td>&lt;p&gt;NATO should be reinforced, not re-imagined ...</td>\n",
       "      <td>{'id': '107838824115445312', 'username': 'warr...</td>\n",
       "      <td>warrendavidson</td>\n",
       "      <td>107838824115445312</td>\n",
       "      <td>https://truthsocial.com/@warrendavidson/108116...</td>\n",
       "      <td>NATO should be reinforced, not re-imagined wit...</td>\n",
       "    </tr>\n",
       "    <tr>\n",
       "      <th>762991</th>\n",
       "      <td>108086202801522400</td>\n",
       "      <td>2022-04-06 17:02:49.117000+00:00</td>\n",
       "      <td>en</td>\n",
       "      <td>https://truthsocial.com/@warrendavidson/108086...</td>\n",
       "      <td>&lt;p&gt;Yesterday, I was one of 63 members of Congr...</td>\n",
       "      <td>{'id': '107838824115445312', 'username': 'warr...</td>\n",
       "      <td>warrendavidson</td>\n",
       "      <td>107838824115445312</td>\n",
       "      <td>https://truthsocial.com/@warrendavidson/108086...</td>\n",
       "      <td>Yesterday, I was one of 63 members of Congress...</td>\n",
       "    </tr>\n",
       "    <tr>\n",
       "      <th>762992</th>\n",
       "      <td>108074604707533792</td>\n",
       "      <td>2022-04-04 15:53:16.246000+00:00</td>\n",
       "      <td>en</td>\n",
       "      <td>https://truthsocial.com/@warrendavidson/108074...</td>\n",
       "      <td>&lt;p&gt;Good governments defend freedom.&lt;/p&gt;</td>\n",
       "      <td>{'id': '107838824115445312', 'username': 'warr...</td>\n",
       "      <td>warrendavidson</td>\n",
       "      <td>107838824115445312</td>\n",
       "      <td>https://truthsocial.com/@warrendavidson/108074...</td>\n",
       "      <td>Good governments defend freedom.</td>\n",
       "    </tr>\n",
       "  </tbody>\n",
       "</table>\n",
       "<p>762993 rows × 10 columns</p>\n",
       "</div>"
      ],
      "text/plain": [
       "                        id                       created_at language  \\\n",
       "0       112628415816970752 2024-06-16 21:27:19.392000+00:00       en   \n",
       "1       112627604328468576 2024-06-16 18:00:57.062000+00:00       en   \n",
       "2       112621239396080064 2024-06-15 15:02:15.900000+00:00       en   \n",
       "3       112617723858598704 2024-06-15 00:08:13.055000+00:00       en   \n",
       "4       112616115915769904 2024-06-14 17:19:17.792000+00:00       en   \n",
       "...                    ...                              ...      ...   \n",
       "762988  107821332077590816 2022-02-18 22:22:42.617000+00:00       en   \n",
       "762989  107820127429653232 2022-02-18 17:16:21.149000+00:00       en   \n",
       "762990  108116645317044176 2022-04-12 02:04:45.040000+00:00       en   \n",
       "762991  108086202801522400 2022-04-06 17:02:49.117000+00:00       en   \n",
       "762992  108074604707533792 2022-04-04 15:53:16.246000+00:00       en   \n",
       "\n",
       "                                                      url  \\\n",
       "0       https://truthsocial.com/@AlexJones/11262841581...   \n",
       "1       https://truthsocial.com/@AlexJones/11262760432...   \n",
       "2       https://truthsocial.com/@AlexJones/11262123939...   \n",
       "3       https://truthsocial.com/@AlexJones/11261772385...   \n",
       "4       https://truthsocial.com/@AlexJones/11261611591...   \n",
       "...                                                   ...   \n",
       "762988  https://truthsocial.com/@truthsocial/107821332...   \n",
       "762989  https://truthsocial.com/@truthsocial/107820127...   \n",
       "762990  https://truthsocial.com/@warrendavidson/108116...   \n",
       "762991  https://truthsocial.com/@warrendavidson/108086...   \n",
       "762992  https://truthsocial.com/@warrendavidson/108074...   \n",
       "\n",
       "                                                  content  \\\n",
       "0       <p><a href=\"https://truthsocial.com/tags/AlexJ...   \n",
       "1       <p>Watch: Alex Jones Calls Out Globalist Tyran...   \n",
       "2       <p>Alex Jones Emergency Saturday Broadcast: Le...   \n",
       "3       <p>Exclusive: Alex Jones Makes First Statement...   \n",
       "4       <p><a href=\"https://truthsocial.com/tags/AlexJ...   \n",
       "...                                                   ...   \n",
       "762988  <p>Remember this is SOCIAL media.  It’s meant ...   \n",
       "762989  <p>The dream has become a reality. You have yo...   \n",
       "762990  <p>NATO should be reinforced, not re-imagined ...   \n",
       "762991  <p>Yesterday, I was one of 63 members of Congr...   \n",
       "762992            <p>Good governments defend freedom.</p>   \n",
       "\n",
       "                                                  account        username  \\\n",
       "0       {'id': '107838014712814235', 'username': 'Alex...       AlexJones   \n",
       "1       {'id': '107838014712814235', 'username': 'Alex...       AlexJones   \n",
       "2       {'id': '107838014712814235', 'username': 'Alex...       AlexJones   \n",
       "3       {'id': '107838014712814235', 'username': 'Alex...       AlexJones   \n",
       "4       {'id': '107838014712814235', 'username': 'Alex...       AlexJones   \n",
       "...                                                   ...             ...   \n",
       "762988  {'id': '107759501782461327', 'username': 'trut...     truthsocial   \n",
       "762989  {'id': '107759501782461327', 'username': 'trut...     truthsocial   \n",
       "762990  {'id': '107838824115445312', 'username': 'warr...  warrendavidson   \n",
       "762991  {'id': '107838824115445312', 'username': 'warr...  warrendavidson   \n",
       "762992  {'id': '107838824115445312', 'username': 'warr...  warrendavidson   \n",
       "\n",
       "                 author_id                                          tweet_url  \\\n",
       "0       107838014712814235  https://truthsocial.com/@AlexJones/11262841581...   \n",
       "1       107838014712814235  https://truthsocial.com/@AlexJones/11262760432...   \n",
       "2       107838014712814235  https://truthsocial.com/@AlexJones/11262123939...   \n",
       "3       107838014712814235  https://truthsocial.com/@AlexJones/11261772385...   \n",
       "4       107838014712814235  https://truthsocial.com/@AlexJones/11261611591...   \n",
       "...                    ...                                                ...   \n",
       "762988  107759501782461327  https://truthsocial.com/@truthsocial/107821332...   \n",
       "762989  107759501782461327  https://truthsocial.com/@truthsocial/107820127...   \n",
       "762990  107838824115445312  https://truthsocial.com/@warrendavidson/108116...   \n",
       "762991  107838824115445312  https://truthsocial.com/@warrendavidson/108086...   \n",
       "762992  107838824115445312  https://truthsocial.com/@warrendavidson/108074...   \n",
       "\n",
       "                                                     text  \n",
       "0       #AlexJonesShow Sunday Live: Hollywood Comes to...  \n",
       "1       Watch: Alex Jones Calls Out Globalist Tyrants ...  \n",
       "2       Alex Jones Emergency Saturday Broadcast: Learn...  \n",
       "3       Exclusive: Alex Jones Makes First Statements A...  \n",
       "4       #AlexJonesShow LIVE: Tucker Carlson, Russell B...  \n",
       "...                                                   ...  \n",
       "762988  Remember this is SOCIAL media.  It’s meant to ...  \n",
       "762989  The dream has become a reality. You have your ...  \n",
       "762990  NATO should be reinforced, not re-imagined wit...  \n",
       "762991  Yesterday, I was one of 63 members of Congress...  \n",
       "762992                   Good governments defend freedom.  \n",
       "\n",
       "[762993 rows x 10 columns]"
      ]
     },
     "execution_count": 21,
     "metadata": {},
     "output_type": "execute_result"
    }
   ],
   "source": [
    "df_tweets_raw_data"
   ]
  },
  {
   "cell_type": "markdown",
   "id": "6eeab83e-9443-4346-a0ac-9f8f2b77c299",
   "metadata": {},
   "source": [
    "### Inspecting the data"
   ]
  },
  {
   "cell_type": "code",
   "execution_count": 22,
   "id": "eaf8f810-5396-41cd-b6c2-56110362bea0",
   "metadata": {},
   "outputs": [
    {
     "name": "stdout",
     "output_type": "stream",
     "text": [
      "username:AlexJones\n",
      "content:<p>Viral Talk Show Host Jackson Hinkle Joins Alex Jones Live In-Studio For Epic Debate  <a href=\"https://links.truthsocial.com/link/112317395759093712\" rel=\"nofollow noopener noreferrer\" target=\"_blank\"><span class=\"invisible\">https://</span><span class=\"ellipsis\">madmaxworld.tv/watch?id=6625bc</span><span class=\"invisible\">f80b8f941d11961839</span></a></p>\n",
      "text:Viral Talk Show Host Jackson Hinkle Joins Alex Jones Live In-Studio For Epic Debate  https://madmaxworld.tv/watch?id=6625bcf80b8f941d11961839\n",
      "tweet_url:https://truthsocial.com/@AlexJones/112317395758273362\n"
     ]
    }
   ],
   "source": [
    "inspected_row = 160\n",
    "print('username:' + df_tweets_raw_data.loc[inspected_row, 'username'])\n",
    "print('content:' + df_tweets_raw_data.loc[inspected_row, 'content'])\n",
    "print('text:' + df_tweets_raw_data.loc[inspected_row, 'text'])\n",
    "print('tweet_url:' + df_tweets_raw_data.loc[inspected_row, 'tweet_url'])"
   ]
  },
  {
   "cell_type": "markdown",
   "id": "8d53ac4d-1f9f-4004-9ba6-26a7025f2cb9",
   "metadata": {},
   "source": [
    "### Creating the output file"
   ]
  },
  {
   "cell_type": "code",
   "execution_count": 23,
   "id": "b36d7e86-60f5-4efc-a78e-97f9b31b56f5",
   "metadata": {},
   "outputs": [],
   "source": [
    "df_tweets_raw_data[['created_at', 'author_id', 'username', 'tweet_url', 'content', 'text']].to_json(output_filename, orient='records', lines=True)"
   ]
  },
  {
   "cell_type": "code",
   "execution_count": null,
   "id": "0e95caa5-00aa-4bc6-bbc1-4386daadd806",
   "metadata": {},
   "outputs": [],
   "source": []
  }
 ],
 "metadata": {
  "kernelspec": {
   "display_name": "Python 3 (ipykernel)",
   "language": "python",
   "name": "python3"
  },
  "language_info": {
   "codemirror_mode": {
    "name": "ipython",
    "version": 3
   },
   "file_extension": ".py",
   "mimetype": "text/x-python",
   "name": "python",
   "nbconvert_exporter": "python",
   "pygments_lexer": "ipython3",
   "version": "3.11.8"
  }
 },
 "nbformat": 4,
 "nbformat_minor": 5
}
