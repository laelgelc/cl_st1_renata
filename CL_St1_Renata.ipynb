{
 "cells": [
  {
   "cell_type": "markdown",
   "id": "810d9f10-ec19-4b09-8f90-e983e460b319",
   "metadata": {},
   "source": [
    "<center>\n",
    "<img src=\"https://laelgelcpublic.s3.sa-east-1.amazonaws.com/lael_50_years_narrow_white.png.no_years.400px_96dpi.png\" width=\"300\" alt=\"LAEL 50 years logo\">\n",
    "<h3>APPLIED LINGUISTICS GRADUATE PROGRAMME (LAEL)</h3>\n",
    "</center>\n",
    "<hr>"
   ]
  },
  {
   "cell_type": "markdown",
   "id": "888c2c96-2fc3-4a1a-995b-c388036a2a15",
   "metadata": {},
   "source": [
    "# Corpus Linguistics - Study 1 - Renata"
   ]
  },
  {
   "cell_type": "markdown",
   "id": "0f3ad8a7-2d34-476b-be69-5d896b27d3ed",
   "metadata": {},
   "source": [
    "## Prerequisites"
   ]
  },
  {
   "cell_type": "markdown",
   "id": "0f1209cf-0515-45b3-8856-275ac692943e",
   "metadata": {},
   "source": [
    "Make sure the prerequisites in [CL_LMDA_prerequisites](https://github.com/laelgelc/laelgelc/blob/main/CL_LMDA_prerequisites.ipynb) are satisfied."
   ]
  },
  {
   "cell_type": "markdown",
   "id": "28897518-a858-4dc5-b510-49c9131da966",
   "metadata": {},
   "source": [
    "## Dataset"
   ]
  },
  {
   "cell_type": "markdown",
   "id": "a6f58941-1578-42c0-8933-d8ebef369245",
   "metadata": {},
   "source": [
    "Please download the following dataset (Right-click on the link and choose `Save link as` to download the corresponding file):\n",
    "- [cl_st1_renata_truthbrush_20240616_raw_data_prep.jsonl](https://laelgelcrenata.s3.sa-east-1.amazonaws.com/cl_st1_renata_truthbrush_20240616_raw_data_prep.jsonl)"
   ]
  },
  {
   "cell_type": "markdown",
   "id": "7a9c2af7-9fc1-4f51-a4f5-2ed915b93039",
   "metadata": {},
   "source": [
    "## Importing the required libraries"
   ]
  },
  {
   "cell_type": "code",
   "execution_count": 1,
   "id": "e6689499-d19d-4b0c-befd-f88926b7105d",
   "metadata": {},
   "outputs": [],
   "source": [
    "import pandas as pd\n",
    "import demoji\n",
    "import re\n",
    "import os\n",
    "from collections import Counter"
   ]
  },
  {
   "cell_type": "markdown",
   "id": "9a79a002-c182-4021-9b77-99ad470582af",
   "metadata": {},
   "source": [
    "## Data wrangling"
   ]
  },
  {
   "cell_type": "markdown",
   "id": "66e37aae-8cee-42ca-91ff-10f882fc45c6",
   "metadata": {},
   "source": [
    "### Importing the tweet raw data into a dataframe"
   ]
  },
  {
   "cell_type": "code",
   "execution_count": 2,
   "id": "8a762708-07e4-472d-b3e9-bb0cea14438c",
   "metadata": {},
   "outputs": [],
   "source": [
    "df_tweets_raw_data = pd.read_json('cl_st1_renata_truthbrush_20240616_raw_data_prep.jsonl', lines=True)"
   ]
  },
  {
   "cell_type": "code",
   "execution_count": 3,
   "id": "623ddacd-5a20-4d89-a48e-98849a0644e9",
   "metadata": {},
   "outputs": [
    {
     "data": {
      "text/html": [
       "<div>\n",
       "<style scoped>\n",
       "    .dataframe tbody tr th:only-of-type {\n",
       "        vertical-align: middle;\n",
       "    }\n",
       "\n",
       "    .dataframe tbody tr th {\n",
       "        vertical-align: top;\n",
       "    }\n",
       "\n",
       "    .dataframe thead th {\n",
       "        text-align: right;\n",
       "    }\n",
       "</style>\n",
       "<table border=\"1\" class=\"dataframe\">\n",
       "  <thead>\n",
       "    <tr style=\"text-align: right;\">\n",
       "      <th></th>\n",
       "      <th>created_at</th>\n",
       "      <th>author_id</th>\n",
       "      <th>username</th>\n",
       "      <th>tweet_url</th>\n",
       "      <th>content</th>\n",
       "      <th>text</th>\n",
       "    </tr>\n",
       "  </thead>\n",
       "  <tbody>\n",
       "    <tr>\n",
       "      <th>0</th>\n",
       "      <td>2024-06-16 21:27:19.392</td>\n",
       "      <td>107838014712814240</td>\n",
       "      <td>AlexJones</td>\n",
       "      <td>https://truthsocial.com/@AlexJones/11262841581...</td>\n",
       "      <td>&lt;p&gt;&lt;a href=\"https://truthsocial.com/tags/AlexJ...</td>\n",
       "      <td>#AlexJonesShow Sunday Live: Hollywood Comes to...</td>\n",
       "    </tr>\n",
       "    <tr>\n",
       "      <th>1</th>\n",
       "      <td>2024-06-16 18:00:57.062</td>\n",
       "      <td>107838014712814240</td>\n",
       "      <td>AlexJones</td>\n",
       "      <td>https://truthsocial.com/@AlexJones/11262760432...</td>\n",
       "      <td>&lt;p&gt;Watch: Alex Jones Calls Out Globalist Tyran...</td>\n",
       "      <td>Watch: Alex Jones Calls Out Globalist Tyrants ...</td>\n",
       "    </tr>\n",
       "    <tr>\n",
       "      <th>2</th>\n",
       "      <td>2024-06-15 15:02:15.900</td>\n",
       "      <td>107838014712814240</td>\n",
       "      <td>AlexJones</td>\n",
       "      <td>https://truthsocial.com/@AlexJones/11262123939...</td>\n",
       "      <td>&lt;p&gt;Alex Jones Emergency Saturday Broadcast: Le...</td>\n",
       "      <td>Alex Jones Emergency Saturday Broadcast: Learn...</td>\n",
       "    </tr>\n",
       "    <tr>\n",
       "      <th>3</th>\n",
       "      <td>2024-06-15 00:08:13.055</td>\n",
       "      <td>107838014712814240</td>\n",
       "      <td>AlexJones</td>\n",
       "      <td>https://truthsocial.com/@AlexJones/11261772385...</td>\n",
       "      <td>&lt;p&gt;Exclusive: Alex Jones Makes First Statement...</td>\n",
       "      <td>Exclusive: Alex Jones Makes First Statements A...</td>\n",
       "    </tr>\n",
       "    <tr>\n",
       "      <th>4</th>\n",
       "      <td>2024-06-14 17:19:17.792</td>\n",
       "      <td>107838014712814240</td>\n",
       "      <td>AlexJones</td>\n",
       "      <td>https://truthsocial.com/@AlexJones/11261611591...</td>\n",
       "      <td>&lt;p&gt;&lt;a href=\"https://truthsocial.com/tags/AlexJ...</td>\n",
       "      <td>#AlexJonesShow LIVE: Tucker Carlson, Russell B...</td>\n",
       "    </tr>\n",
       "  </tbody>\n",
       "</table>\n",
       "</div>"
      ],
      "text/plain": [
       "               created_at           author_id   username  \\\n",
       "0 2024-06-16 21:27:19.392  107838014712814240  AlexJones   \n",
       "1 2024-06-16 18:00:57.062  107838014712814240  AlexJones   \n",
       "2 2024-06-15 15:02:15.900  107838014712814240  AlexJones   \n",
       "3 2024-06-15 00:08:13.055  107838014712814240  AlexJones   \n",
       "4 2024-06-14 17:19:17.792  107838014712814240  AlexJones   \n",
       "\n",
       "                                           tweet_url  \\\n",
       "0  https://truthsocial.com/@AlexJones/11262841581...   \n",
       "1  https://truthsocial.com/@AlexJones/11262760432...   \n",
       "2  https://truthsocial.com/@AlexJones/11262123939...   \n",
       "3  https://truthsocial.com/@AlexJones/11261772385...   \n",
       "4  https://truthsocial.com/@AlexJones/11261611591...   \n",
       "\n",
       "                                             content  \\\n",
       "0  <p><a href=\"https://truthsocial.com/tags/AlexJ...   \n",
       "1  <p>Watch: Alex Jones Calls Out Globalist Tyran...   \n",
       "2  <p>Alex Jones Emergency Saturday Broadcast: Le...   \n",
       "3  <p>Exclusive: Alex Jones Makes First Statement...   \n",
       "4  <p><a href=\"https://truthsocial.com/tags/AlexJ...   \n",
       "\n",
       "                                                text  \n",
       "0  #AlexJonesShow Sunday Live: Hollywood Comes to...  \n",
       "1  Watch: Alex Jones Calls Out Globalist Tyrants ...  \n",
       "2  Alex Jones Emergency Saturday Broadcast: Learn...  \n",
       "3  Exclusive: Alex Jones Makes First Statements A...  \n",
       "4  #AlexJonesShow LIVE: Tucker Carlson, Russell B...  "
      ]
     },
     "execution_count": 3,
     "metadata": {},
     "output_type": "execute_result"
    }
   ],
   "source": [
    "df_tweets_raw_data.head(5)"
   ]
  },
  {
   "cell_type": "code",
   "execution_count": 4,
   "id": "43e11cf2-cb39-49ee-a601-58a4ec3caa7d",
   "metadata": {},
   "outputs": [
    {
     "data": {
      "text/plain": [
       "(762993, 6)"
      ]
     },
     "execution_count": 4,
     "metadata": {},
     "output_type": "execute_result"
    }
   ],
   "source": [
    "df_tweets_raw_data.shape"
   ]
  },
  {
   "cell_type": "markdown",
   "id": "03bd2975-f291-4fdb-9c2f-51dd6b8c269d",
   "metadata": {},
   "source": [
    "#### Inspecting a few tweets"
   ]
  },
  {
   "cell_type": "code",
   "execution_count": 5,
   "id": "6109d2f2-4cd1-43ce-86fe-7fb7f1ff8910",
   "metadata": {},
   "outputs": [
    {
     "name": "stdout",
     "output_type": "stream",
     "text": [
      "username:AlexJones\n",
      "text:RT @infowarsGET READY: Tucker Carlson LIVE Nationwide Tour — Coming This Fall! LEARN MORE  https://www.infowars.com/posts/get-ready-tucker-carlson-live-nationwide-tour-coming-this-fall/\n",
      "tweet_url:https://truthsocial.com/@AlexJones/112604587244214528\n"
     ]
    }
   ],
   "source": [
    "inspected_row = 14\n",
    "print('username:' + df_tweets_raw_data.loc[inspected_row, 'username'])\n",
    "print('text:' + df_tweets_raw_data.loc[inspected_row, 'text'])\n",
    "print('tweet_url:' + df_tweets_raw_data.loc[inspected_row, 'tweet_url'])"
   ]
  },
  {
   "cell_type": "markdown",
   "id": "4277d732-f65b-4e0c-868d-16d2d38ef04b",
   "metadata": {},
   "source": [
    "### Inspecting the dataset and eliminating malformed data"
   ]
  },
  {
   "cell_type": "markdown",
   "id": "fe6a369a-af13-45f0-99b2-6ce5b6388a1c",
   "metadata": {},
   "source": [
    "#### Checking if data types are consistent"
   ]
  },
  {
   "cell_type": "code",
   "execution_count": 6,
   "id": "6795c314-cc1f-4acd-86a1-a4eada8a9bcb",
   "metadata": {},
   "outputs": [
    {
     "data": {
      "text/plain": [
       "created_at    datetime64[ns]\n",
       "author_id              int64\n",
       "username              object\n",
       "tweet_url             object\n",
       "content               object\n",
       "text                  object\n",
       "dtype: object"
      ]
     },
     "execution_count": 6,
     "metadata": {},
     "output_type": "execute_result"
    }
   ],
   "source": [
    "df_tweets_raw_data.dtypes"
   ]
  },
  {
   "cell_type": "markdown",
   "id": "30643060-8eaa-47e0-9a52-95f6fbd75515",
   "metadata": {},
   "source": [
    "#### Identifying rows that are empty in column `text`"
   ]
  },
  {
   "cell_type": "code",
   "execution_count": 7,
   "id": "e6de7bb2-56d3-41cb-9294-d19dbeca836b",
   "metadata": {},
   "outputs": [
    {
     "name": "stdout",
     "output_type": "stream",
     "text": [
      "0\n"
     ]
    }
   ],
   "source": [
    "print(df_tweets_raw_data['text'].isnull().sum())"
   ]
  },
  {
   "cell_type": "code",
   "execution_count": 8,
   "id": "ea9e9cf4-0f39-4cdc-84f0-84d8446eea53",
   "metadata": {},
   "outputs": [
    {
     "data": {
      "text/html": [
       "<div>\n",
       "<style scoped>\n",
       "    .dataframe tbody tr th:only-of-type {\n",
       "        vertical-align: middle;\n",
       "    }\n",
       "\n",
       "    .dataframe tbody tr th {\n",
       "        vertical-align: top;\n",
       "    }\n",
       "\n",
       "    .dataframe thead th {\n",
       "        text-align: right;\n",
       "    }\n",
       "</style>\n",
       "<table border=\"1\" class=\"dataframe\">\n",
       "  <thead>\n",
       "    <tr style=\"text-align: right;\">\n",
       "      <th></th>\n",
       "      <th>created_at</th>\n",
       "      <th>author_id</th>\n",
       "      <th>username</th>\n",
       "      <th>tweet_url</th>\n",
       "      <th>content</th>\n",
       "      <th>text</th>\n",
       "    </tr>\n",
       "  </thead>\n",
       "  <tbody>\n",
       "  </tbody>\n",
       "</table>\n",
       "</div>"
      ],
      "text/plain": [
       "Empty DataFrame\n",
       "Columns: [created_at, author_id, username, tweet_url, content, text]\n",
       "Index: []"
      ]
     },
     "execution_count": 8,
     "metadata": {},
     "output_type": "execute_result"
    }
   ],
   "source": [
    "df_tweets_raw_data[df_tweets_raw_data['text'].isnull()]"
   ]
  },
  {
   "cell_type": "markdown",
   "id": "c4bbc61e-77c5-4339-99ed-e8aea3a1ec42",
   "metadata": {},
   "source": [
    "#### Dropping the rows that are empty in the column `text`"
   ]
  },
  {
   "cell_type": "code",
   "execution_count": 9,
   "id": "db62e8de-5e85-4474-9bf4-4c9342c2640b",
   "metadata": {},
   "outputs": [],
   "source": [
    "# Drop the rows whose column 'text' is NaN\n",
    "df_tweets_raw_data = df_tweets_raw_data.dropna(subset=['text'])\n",
    "\n",
    "# Reset the index\n",
    "df_tweets_raw_data = df_tweets_raw_data.reset_index(drop=True)"
   ]
  },
  {
   "cell_type": "code",
   "execution_count": 10,
   "id": "c44d9a76-464b-41ca-842a-921beae1c6ad",
   "metadata": {},
   "outputs": [
    {
     "name": "stdout",
     "output_type": "stream",
     "text": [
      "0\n"
     ]
    }
   ],
   "source": [
    "print(df_tweets_raw_data['text'].isnull().sum())"
   ]
  },
  {
   "cell_type": "markdown",
   "id": "3cd59c55-0719-4485-ad8c-2f76fc5b21ee",
   "metadata": {},
   "source": [
    "#### Removing specific Unicode characters"
   ]
  },
  {
   "cell_type": "markdown",
   "id": "017cc0ca-8a41-4c78-a341-3622a22244a5",
   "metadata": {},
   "source": [
    "The dataset may need to be cleaned of invisible Unicode characters."
   ]
  },
  {
   "cell_type": "markdown",
   "id": "93248ba8-48c5-466a-ac42-f51705ecdf91",
   "metadata": {},
   "source": [
    "##### Detecting `U+2066` and `U+2069` characters"
   ]
  },
  {
   "cell_type": "markdown",
   "id": "ec7838b4-b5dd-4a45-ae3a-e4f3f8408a2b",
   "metadata": {},
   "source": [
    "- [U+2066](https://www.compart.com/en/unicode/U+2066)\n",
    "- [U+2069](https://www.compart.com/en/unicode/U+2069)"
   ]
  },
  {
   "cell_type": "markdown",
   "id": "d1feac56-081a-4197-85ec-363a958848fb",
   "metadata": {},
   "source": [
    "Please refer to:\n",
    "- [Python RegEx](https://www.w3schools.com/python/python_regex.asp)\n",
    "- [regex101](https://regex101.com/)\n",
    "- [RegExr](https://regexr.com/)"
   ]
  },
  {
   "cell_type": "code",
   "execution_count": 11,
   "id": "569db1bb-d6ee-4eca-8383-5dfb522f35aa",
   "metadata": {},
   "outputs": [
    {
     "name": "stdout",
     "output_type": "stream",
     "text": [
      "Character ⁦: Count = 93\n",
      "Character ⁩: Count = 70\n"
     ]
    }
   ],
   "source": [
    "# Defining a function to detect specific Unicode characters\n",
    "def extract_unicode_characters(df, column_name):\n",
    "    unicode_chars = Counter()  # Initialize a Counter to store Unicode character counts\n",
    "\n",
    "    for value in df[column_name]:\n",
    "        if isinstance(value, str):\n",
    "            # Use RegEx to find non-ASCII characters (Unicode)\n",
    "#            non_ascii_chars = re.findall(r'[^\\x00-\\x7F]+', value)\n",
    "            # Use RegEx to find specific Unicode characters - adjust the expression accordingly\n",
    "            specific_unicode_chars = re.findall(r'[\\u2066\\u2069]', value)\n",
    "            unicode_chars.update(specific_unicode_chars)\n",
    "\n",
    "    return unicode_chars\n",
    "\n",
    "# Inspect the dataframe for specific Unicode characters\n",
    "unicode_counts = extract_unicode_characters(df_tweets_raw_data, 'text')\n",
    "\n",
    "# Print the results\n",
    "for char, count in unicode_counts.items():\n",
    "    print(f'Character {char}: Count = {count}')"
   ]
  },
  {
   "cell_type": "markdown",
   "id": "b0c3a43b-31d1-47d2-8bc3-c701c5450b3a",
   "metadata": {},
   "source": [
    "##### Removing `U+2066` and `U+2069` characters"
   ]
  },
  {
   "cell_type": "code",
   "execution_count": 12,
   "id": "795d7929-bb59-4417-87e5-1448a3662264",
   "metadata": {},
   "outputs": [],
   "source": [
    "# Defining a function to remove specific Unicode characters\n",
    "def remove_specific_unicode(input_line):\n",
    "    # Using RegEx to replace specific Unicode characters - adjust the expression accordingly\n",
    "    cleaned_line = re.sub(r'[\\u2066\\u2069]', '', input_line)\n",
    "    return cleaned_line\n",
    "\n",
    "# Removing specific Unicode characters\n",
    "df_tweets_raw_data['text'] = df_tweets_raw_data['text'].apply(remove_specific_unicode)"
   ]
  },
  {
   "cell_type": "markdown",
   "id": "e2f8843a-adfd-416f-bed9-f1380775e7bd",
   "metadata": {},
   "source": [
    "#### Replacing the `LF` character by a space"
   ]
  },
  {
   "cell_type": "markdown",
   "id": "b8176756-2994-4a83-b77e-3d5dec420463",
   "metadata": {},
   "source": [
    "Some tweets, especially the retweeted ones, contain multiple lines of text."
   ]
  },
  {
   "cell_type": "code",
   "execution_count": 13,
   "id": "566a880a-7a43-4438-9455-36d5083678c2",
   "metadata": {},
   "outputs": [],
   "source": [
    "# Defining a function to replace the `LF` character by a space\n",
    "def remove_cr_lf(input_line):\n",
    "    # Using RegEx to replace LF by a space\n",
    "    cleaned_line = re.sub(r'\\n', ' ', input_line)\n",
    "    return cleaned_line\n",
    "\n",
    "# Applying the function to the 'text' column in your DataFrame\n",
    "df_tweets_raw_data['text'] = df_tweets_raw_data['text'].apply(remove_cr_lf)"
   ]
  },
  {
   "cell_type": "code",
   "execution_count": 14,
   "id": "0aab4c8c-48b5-4f60-9a3e-1c19981ece20",
   "metadata": {},
   "outputs": [
    {
     "data": {
      "text/html": [
       "<div>\n",
       "<style scoped>\n",
       "    .dataframe tbody tr th:only-of-type {\n",
       "        vertical-align: middle;\n",
       "    }\n",
       "\n",
       "    .dataframe tbody tr th {\n",
       "        vertical-align: top;\n",
       "    }\n",
       "\n",
       "    .dataframe thead th {\n",
       "        text-align: right;\n",
       "    }\n",
       "</style>\n",
       "<table border=\"1\" class=\"dataframe\">\n",
       "  <thead>\n",
       "    <tr style=\"text-align: right;\">\n",
       "      <th></th>\n",
       "      <th>created_at</th>\n",
       "      <th>author_id</th>\n",
       "      <th>username</th>\n",
       "      <th>tweet_url</th>\n",
       "      <th>content</th>\n",
       "      <th>text</th>\n",
       "    </tr>\n",
       "  </thead>\n",
       "  <tbody>\n",
       "    <tr>\n",
       "      <th>0</th>\n",
       "      <td>2024-06-16 21:27:19.392</td>\n",
       "      <td>107838014712814240</td>\n",
       "      <td>AlexJones</td>\n",
       "      <td>https://truthsocial.com/@AlexJones/11262841581...</td>\n",
       "      <td>&lt;p&gt;&lt;a href=\"https://truthsocial.com/tags/AlexJ...</td>\n",
       "      <td>#AlexJonesShow Sunday Live: Hollywood Comes to...</td>\n",
       "    </tr>\n",
       "    <tr>\n",
       "      <th>1</th>\n",
       "      <td>2024-06-16 18:00:57.062</td>\n",
       "      <td>107838014712814240</td>\n",
       "      <td>AlexJones</td>\n",
       "      <td>https://truthsocial.com/@AlexJones/11262760432...</td>\n",
       "      <td>&lt;p&gt;Watch: Alex Jones Calls Out Globalist Tyran...</td>\n",
       "      <td>Watch: Alex Jones Calls Out Globalist Tyrants ...</td>\n",
       "    </tr>\n",
       "    <tr>\n",
       "      <th>2</th>\n",
       "      <td>2024-06-15 15:02:15.900</td>\n",
       "      <td>107838014712814240</td>\n",
       "      <td>AlexJones</td>\n",
       "      <td>https://truthsocial.com/@AlexJones/11262123939...</td>\n",
       "      <td>&lt;p&gt;Alex Jones Emergency Saturday Broadcast: Le...</td>\n",
       "      <td>Alex Jones Emergency Saturday Broadcast: Learn...</td>\n",
       "    </tr>\n",
       "    <tr>\n",
       "      <th>3</th>\n",
       "      <td>2024-06-15 00:08:13.055</td>\n",
       "      <td>107838014712814240</td>\n",
       "      <td>AlexJones</td>\n",
       "      <td>https://truthsocial.com/@AlexJones/11261772385...</td>\n",
       "      <td>&lt;p&gt;Exclusive: Alex Jones Makes First Statement...</td>\n",
       "      <td>Exclusive: Alex Jones Makes First Statements A...</td>\n",
       "    </tr>\n",
       "    <tr>\n",
       "      <th>4</th>\n",
       "      <td>2024-06-14 17:19:17.792</td>\n",
       "      <td>107838014712814240</td>\n",
       "      <td>AlexJones</td>\n",
       "      <td>https://truthsocial.com/@AlexJones/11261611591...</td>\n",
       "      <td>&lt;p&gt;&lt;a href=\"https://truthsocial.com/tags/AlexJ...</td>\n",
       "      <td>#AlexJonesShow LIVE: Tucker Carlson, Russell B...</td>\n",
       "    </tr>\n",
       "    <tr>\n",
       "      <th>...</th>\n",
       "      <td>...</td>\n",
       "      <td>...</td>\n",
       "      <td>...</td>\n",
       "      <td>...</td>\n",
       "      <td>...</td>\n",
       "      <td>...</td>\n",
       "    </tr>\n",
       "    <tr>\n",
       "      <th>762988</th>\n",
       "      <td>2022-02-18 22:22:42.617</td>\n",
       "      <td>107759501782461328</td>\n",
       "      <td>truthsocial</td>\n",
       "      <td>https://truthsocial.com/@truthsocial/107821332...</td>\n",
       "      <td>&lt;p&gt;Remember this is SOCIAL media.  It’s meant ...</td>\n",
       "      <td>Remember this is SOCIAL media.  It’s meant to ...</td>\n",
       "    </tr>\n",
       "    <tr>\n",
       "      <th>762989</th>\n",
       "      <td>2022-02-18 17:16:21.149</td>\n",
       "      <td>107759501782461328</td>\n",
       "      <td>truthsocial</td>\n",
       "      <td>https://truthsocial.com/@truthsocial/107820127...</td>\n",
       "      <td>&lt;p&gt;The dream has become a reality. You have yo...</td>\n",
       "      <td>The dream has become a reality. You have your ...</td>\n",
       "    </tr>\n",
       "    <tr>\n",
       "      <th>762990</th>\n",
       "      <td>2022-04-12 02:04:45.040</td>\n",
       "      <td>107838824115445312</td>\n",
       "      <td>warrendavidson</td>\n",
       "      <td>https://truthsocial.com/@warrendavidson/108116...</td>\n",
       "      <td>&lt;p&gt;NATO should be reinforced, not re-imagined ...</td>\n",
       "      <td>NATO should be reinforced, not re-imagined wit...</td>\n",
       "    </tr>\n",
       "    <tr>\n",
       "      <th>762991</th>\n",
       "      <td>2022-04-06 17:02:49.117</td>\n",
       "      <td>107838824115445312</td>\n",
       "      <td>warrendavidson</td>\n",
       "      <td>https://truthsocial.com/@warrendavidson/108086...</td>\n",
       "      <td>&lt;p&gt;Yesterday, I was one of 63 members of Congr...</td>\n",
       "      <td>Yesterday, I was one of 63 members of Congress...</td>\n",
       "    </tr>\n",
       "    <tr>\n",
       "      <th>762992</th>\n",
       "      <td>2022-04-04 15:53:16.246</td>\n",
       "      <td>107838824115445312</td>\n",
       "      <td>warrendavidson</td>\n",
       "      <td>https://truthsocial.com/@warrendavidson/108074...</td>\n",
       "      <td>&lt;p&gt;Good governments defend freedom.&lt;/p&gt;</td>\n",
       "      <td>Good governments defend freedom.</td>\n",
       "    </tr>\n",
       "  </tbody>\n",
       "</table>\n",
       "<p>762993 rows × 6 columns</p>\n",
       "</div>"
      ],
      "text/plain": [
       "                    created_at           author_id        username  \\\n",
       "0      2024-06-16 21:27:19.392  107838014712814240       AlexJones   \n",
       "1      2024-06-16 18:00:57.062  107838014712814240       AlexJones   \n",
       "2      2024-06-15 15:02:15.900  107838014712814240       AlexJones   \n",
       "3      2024-06-15 00:08:13.055  107838014712814240       AlexJones   \n",
       "4      2024-06-14 17:19:17.792  107838014712814240       AlexJones   \n",
       "...                        ...                 ...             ...   \n",
       "762988 2022-02-18 22:22:42.617  107759501782461328     truthsocial   \n",
       "762989 2022-02-18 17:16:21.149  107759501782461328     truthsocial   \n",
       "762990 2022-04-12 02:04:45.040  107838824115445312  warrendavidson   \n",
       "762991 2022-04-06 17:02:49.117  107838824115445312  warrendavidson   \n",
       "762992 2022-04-04 15:53:16.246  107838824115445312  warrendavidson   \n",
       "\n",
       "                                                tweet_url  \\\n",
       "0       https://truthsocial.com/@AlexJones/11262841581...   \n",
       "1       https://truthsocial.com/@AlexJones/11262760432...   \n",
       "2       https://truthsocial.com/@AlexJones/11262123939...   \n",
       "3       https://truthsocial.com/@AlexJones/11261772385...   \n",
       "4       https://truthsocial.com/@AlexJones/11261611591...   \n",
       "...                                                   ...   \n",
       "762988  https://truthsocial.com/@truthsocial/107821332...   \n",
       "762989  https://truthsocial.com/@truthsocial/107820127...   \n",
       "762990  https://truthsocial.com/@warrendavidson/108116...   \n",
       "762991  https://truthsocial.com/@warrendavidson/108086...   \n",
       "762992  https://truthsocial.com/@warrendavidson/108074...   \n",
       "\n",
       "                                                  content  \\\n",
       "0       <p><a href=\"https://truthsocial.com/tags/AlexJ...   \n",
       "1       <p>Watch: Alex Jones Calls Out Globalist Tyran...   \n",
       "2       <p>Alex Jones Emergency Saturday Broadcast: Le...   \n",
       "3       <p>Exclusive: Alex Jones Makes First Statement...   \n",
       "4       <p><a href=\"https://truthsocial.com/tags/AlexJ...   \n",
       "...                                                   ...   \n",
       "762988  <p>Remember this is SOCIAL media.  It’s meant ...   \n",
       "762989  <p>The dream has become a reality. You have yo...   \n",
       "762990  <p>NATO should be reinforced, not re-imagined ...   \n",
       "762991  <p>Yesterday, I was one of 63 members of Congr...   \n",
       "762992            <p>Good governments defend freedom.</p>   \n",
       "\n",
       "                                                     text  \n",
       "0       #AlexJonesShow Sunday Live: Hollywood Comes to...  \n",
       "1       Watch: Alex Jones Calls Out Globalist Tyrants ...  \n",
       "2       Alex Jones Emergency Saturday Broadcast: Learn...  \n",
       "3       Exclusive: Alex Jones Makes First Statements A...  \n",
       "4       #AlexJonesShow LIVE: Tucker Carlson, Russell B...  \n",
       "...                                                   ...  \n",
       "762988  Remember this is SOCIAL media.  It’s meant to ...  \n",
       "762989  The dream has become a reality. You have your ...  \n",
       "762990  NATO should be reinforced, not re-imagined wit...  \n",
       "762991  Yesterday, I was one of 63 members of Congress...  \n",
       "762992                   Good governments defend freedom.  \n",
       "\n",
       "[762993 rows x 6 columns]"
      ]
     },
     "execution_count": 14,
     "metadata": {},
     "output_type": "execute_result"
    }
   ],
   "source": [
    "df_tweets_raw_data"
   ]
  },
  {
   "cell_type": "markdown",
   "id": "82c87ca3-d26d-450c-8a8e-669a3bc51afb",
   "metadata": {},
   "source": [
    "### Dropping duplicates"
   ]
  },
  {
   "cell_type": "markdown",
   "id": "c0eee4c7-06e1-4ac6-9fd6-0080e0aa3403",
   "metadata": {},
   "source": [
    "#### Retweets"
   ]
  },
  {
   "cell_type": "markdown",
   "id": "76a7b99f-669d-486a-a247-820c7066c45f",
   "metadata": {},
   "source": [
    "Retweets bear the RegEx pattern `'\\bRT @\\w+'gm` at the beginning of the column `text`."
   ]
  },
  {
   "cell_type": "code",
   "execution_count": 15,
   "id": "274b4f6d-9275-4472-9e05-911026267e46",
   "metadata": {},
   "outputs": [
    {
     "data": {
      "text/plain": [
       "(593948, 6)"
      ]
     },
     "execution_count": 15,
     "metadata": {},
     "output_type": "execute_result"
    }
   ],
   "source": [
    "# Creating a boolean mask for filtering - it is preceded by '~' to invert the selection\n",
    "mask = ~df_tweets_raw_data['text'].str.contains(r'\\bRT @\\w+', regex=True)\n",
    "\n",
    "# Applying the mask to overwrite the raw data dataframe with non retweeted tweets\n",
    "df_tweets_raw_data = df_tweets_raw_data[mask]\n",
    "df_tweets_raw_data = df_tweets_raw_data.reset_index(drop=True)\n",
    "df_tweets_raw_data.shape"
   ]
  },
  {
   "cell_type": "markdown",
   "id": "0b71129d-96b8-48aa-be25-f7ff6f1d58f0",
   "metadata": {},
   "source": [
    "#### Duplicate tweets"
   ]
  },
  {
   "cell_type": "markdown",
   "id": "6e176ee8-41a6-457a-8df4-9b848e0f86a0",
   "metadata": {},
   "source": [
    "The dataset was build in a way that if a certain tweet had more than one photo, one copy of the tweet was included per unique photo. Since we are concerned with analysing just the text, those duplicates should be removed. Tweets that bear the same 'tweet_url' are duplicates - we are going to keep only the first."
   ]
  },
  {
   "cell_type": "code",
   "execution_count": 16,
   "id": "ed5a0b5e-d531-4e92-a16c-58d49cae2a37",
   "metadata": {},
   "outputs": [
    {
     "data": {
      "text/plain": [
       "(593948, 6)"
      ]
     },
     "execution_count": 16,
     "metadata": {},
     "output_type": "execute_result"
    }
   ],
   "source": [
    "df_tweets_raw_data.drop_duplicates(subset='tweet_url', keep='first', inplace=True)\n",
    "df_tweets_raw_data = df_tweets_raw_data.reset_index(drop=True)\n",
    "df_tweets_raw_data.shape"
   ]
  },
  {
   "cell_type": "markdown",
   "id": "c9c21782-713b-46dd-a8cb-c7a4bf590ae7",
   "metadata": {},
   "source": [
    "#### @mentioned tweets"
   ]
  },
  {
   "cell_type": "markdown",
   "id": "932b4c1c-d6b8-49f9-b88c-678c4ee4b61c",
   "metadata": {},
   "source": [
    "A few users @mention copies of tweets towards other specific users creating multiple copies of the same tweet - those duplicates should be removed."
   ]
  },
  {
   "cell_type": "code",
   "execution_count": 17,
   "id": "bee2afc1-5c61-4212-9dc7-001aec574324",
   "metadata": {},
   "outputs": [
    {
     "data": {
      "text/plain": [
       "(504181, 7)"
      ]
     },
     "execution_count": 17,
     "metadata": {},
     "output_type": "execute_result"
    }
   ],
   "source": [
    "# Create a new column 'no_mention' containing the contents of the column 'text' without any preceding @mentions\n",
    "df_tweets_raw_data['no_mention'] = df_tweets_raw_data['text'].str.replace(r'@\\w+\\s*', '', regex=True)\n",
    "\n",
    "# Drop duplicate rows except the first occurrence based on 'no_mention'\n",
    "df_tweets_raw_data.drop_duplicates(subset='no_mention', keep='first', inplace=True)\n",
    "df_tweets_raw_data = df_tweets_raw_data.reset_index(drop=True)\n",
    "df_tweets_raw_data.shape"
   ]
  },
  {
   "cell_type": "markdown",
   "id": "c0db3847-c807-4504-9324-b114074300f8",
   "metadata": {},
   "source": [
    "## Sampling the raw data according to filtering expressions"
   ]
  },
  {
   "cell_type": "markdown",
   "id": "51d49b3a-9992-4d1f-a005-6106c9041212",
   "metadata": {},
   "source": [
    "**Important**: This step requires close attention. Review the `filter_words` list by adding/removing words (make sure to have them lower-case) that potentially attract the discourses you want to study and aim to keep the size of the target corpus between 20 and 50 thousand tweets. The number of tweets is given by the number of rows in `<x> rows × <y> columns` at the bottom of the `df_tweets_filtered` dataframe display. Reiterate the execution of the following lines until the target corpus is sized accordingly. Exceeding the limit may cause the computer to run out of RAM memory when running the function `datamatrix.sh` ahead."
   ]
  },
  {
   "cell_type": "markdown",
   "id": "b9c113f3-751f-499c-93b9-6dd9a77ba5f9",
   "metadata": {},
   "source": [
    "Note: The words proposed in the `filter_words` list below are temporary, as agreed, and resulted in a target corpus above the limit. As a result, it was required a virtual computer with 32 GB of RAM memory hired from Amazon Web Services (instance type: m5a.2xlarge)."
   ]
  },
  {
   "cell_type": "code",
   "execution_count": 18,
   "id": "e818d364-65b5-40a1-aca8-30992032d0f7",
   "metadata": {},
   "outputs": [],
   "source": [
    "# Defining the filtering expressions\n",
    "#filter_words = ['arma', 'pátria', 'ladrão', 'cristão', 'comunista', 'família', 'liberdade', 'conservador', 'deus']\n",
    "filter_words = ['chinese', 'communist', 'democrat', 'maga', 'president', 'vaccine', 'vax']\n",
    "\n",
    "# Creating a boolean mask for filtering\n",
    "mask = df_tweets_raw_data['text'].str.contains('|'.join(filter_words), case=False)\n",
    "\n",
    "# Applying the mask to create 'df_tweets_filtered'\n",
    "df_tweets_filtered = df_tweets_raw_data[mask]\n",
    "df_tweets_filtered = df_tweets_filtered.reset_index(drop=True)"
   ]
  },
  {
   "cell_type": "code",
   "execution_count": 19,
   "id": "19db4718-37a5-4895-8f3c-cac12e4aa6c4",
   "metadata": {},
   "outputs": [
    {
     "data": {
      "text/html": [
       "<div>\n",
       "<style scoped>\n",
       "    .dataframe tbody tr th:only-of-type {\n",
       "        vertical-align: middle;\n",
       "    }\n",
       "\n",
       "    .dataframe tbody tr th {\n",
       "        vertical-align: top;\n",
       "    }\n",
       "\n",
       "    .dataframe thead th {\n",
       "        text-align: right;\n",
       "    }\n",
       "</style>\n",
       "<table border=\"1\" class=\"dataframe\">\n",
       "  <thead>\n",
       "    <tr style=\"text-align: right;\">\n",
       "      <th></th>\n",
       "      <th>created_at</th>\n",
       "      <th>author_id</th>\n",
       "      <th>username</th>\n",
       "      <th>tweet_url</th>\n",
       "      <th>content</th>\n",
       "      <th>text</th>\n",
       "      <th>no_mention</th>\n",
       "    </tr>\n",
       "  </thead>\n",
       "  <tbody>\n",
       "    <tr>\n",
       "      <th>0</th>\n",
       "      <td>2024-06-13 23:33:42.367</td>\n",
       "      <td>107838014712814240</td>\n",
       "      <td>AlexJones</td>\n",
       "      <td>https://truthsocial.com/@AlexJones/11261192584...</td>\n",
       "      <td>&lt;p&gt;BREAKING! Democrats File To Take Alex Jones...</td>\n",
       "      <td>BREAKING! Democrats File To Take Alex Jones’ X...</td>\n",
       "      <td>BREAKING! Democrats File To Take Alex Jones’ X...</td>\n",
       "    </tr>\n",
       "    <tr>\n",
       "      <th>1</th>\n",
       "      <td>2024-06-12 16:21:08.882</td>\n",
       "      <td>107838014712814240</td>\n",
       "      <td>AlexJones</td>\n",
       "      <td>https://truthsocial.com/@AlexJones/11260456264...</td>\n",
       "      <td>&lt;p&gt;&lt;a href=\"https://truthsocial.com/tags/AlexJ...</td>\n",
       "      <td>#AlexJonesShow LIVE: Ships &amp; Submarine Loaded ...</td>\n",
       "      <td>#AlexJonesShow LIVE: Ships &amp; Submarine Loaded ...</td>\n",
       "    </tr>\n",
       "    <tr>\n",
       "      <th>2</th>\n",
       "      <td>2024-06-11 23:37:11.374</td>\n",
       "      <td>107838014712814240</td>\n",
       "      <td>AlexJones</td>\n",
       "      <td>https://truthsocial.com/@AlexJones/11260061491...</td>\n",
       "      <td>&lt;p&gt;BREAKING: Hunter Biden Found Guilty As Demo...</td>\n",
       "      <td>BREAKING: Hunter Biden Found Guilty As Democra...</td>\n",
       "      <td>BREAKING: Hunter Biden Found Guilty As Democra...</td>\n",
       "    </tr>\n",
       "    <tr>\n",
       "      <th>3</th>\n",
       "      <td>2024-06-11 23:35:01.444</td>\n",
       "      <td>107838014712814240</td>\n",
       "      <td>AlexJones</td>\n",
       "      <td>https://truthsocial.com/@AlexJones/11260060640...</td>\n",
       "      <td>&lt;p&gt;Avian Influenza Added to Flu Vaccine in 200...</td>\n",
       "      <td>Avian Influenza Added to Flu Vaccine in 2009  ...</td>\n",
       "      <td>Avian Influenza Added to Flu Vaccine in 2009  ...</td>\n",
       "    </tr>\n",
       "    <tr>\n",
       "      <th>4</th>\n",
       "      <td>2024-06-10 23:37:00.009</td>\n",
       "      <td>107838014712814240</td>\n",
       "      <td>AlexJones</td>\n",
       "      <td>https://truthsocial.com/@AlexJones/11259495186...</td>\n",
       "      <td>&lt;p&gt;Breaking: Federal Court Rules Covid Shots A...</td>\n",
       "      <td>Breaking: Federal Court Rules Covid Shots Are ...</td>\n",
       "      <td>Breaking: Federal Court Rules Covid Shots Are ...</td>\n",
       "    </tr>\n",
       "    <tr>\n",
       "      <th>...</th>\n",
       "      <td>...</td>\n",
       "      <td>...</td>\n",
       "      <td>...</td>\n",
       "      <td>...</td>\n",
       "      <td>...</td>\n",
       "      <td>...</td>\n",
       "      <td>...</td>\n",
       "    </tr>\n",
       "    <tr>\n",
       "      <th>80611</th>\n",
       "      <td>2024-03-22 16:09:15.760</td>\n",
       "      <td>108379772378225680</td>\n",
       "      <td>therealkidrock</td>\n",
       "      <td>https://truthsocial.com/@therealkidrock/112140...</td>\n",
       "      <td>&lt;p&gt;Psalm 34:21&lt;br/&gt;Evil shall slay the wicked,...</td>\n",
       "      <td>Psalm 34:21Evil shall slay the wicked,And thos...</td>\n",
       "      <td>Psalm 34:21Evil shall slay the wicked,And thos...</td>\n",
       "    </tr>\n",
       "    <tr>\n",
       "      <th>80612</th>\n",
       "      <td>2024-02-20 22:46:10.305</td>\n",
       "      <td>108379772378225680</td>\n",
       "      <td>therealkidrock</td>\n",
       "      <td>https://truthsocial.com/@therealkidrock/111966...</td>\n",
       "      <td>&lt;p&gt;&lt;span class=\"quote-inline\"&gt;&lt;br/&gt;RT: https:/...</td>\n",
       "      <td>RT: https://truthsocial.com/users/realDonaldTr...</td>\n",
       "      <td>RT: https://truthsocial.com/users/realDonaldTr...</td>\n",
       "    </tr>\n",
       "    <tr>\n",
       "      <th>80613</th>\n",
       "      <td>2022-06-06 16:53:53.448</td>\n",
       "      <td>108379772378225680</td>\n",
       "      <td>therealkidrock</td>\n",
       "      <td>https://truthsocial.com/@therealkidrock/108431...</td>\n",
       "      <td>&lt;p&gt;Amen to that Mr. President!!!!    &lt;span cla...</td>\n",
       "      <td>Amen to that Mr. President!!!!    @realDonaldT...</td>\n",
       "      <td>Amen to that Mr. President!!!!</td>\n",
       "    </tr>\n",
       "    <tr>\n",
       "      <th>80614</th>\n",
       "      <td>2023-10-16 22:13:00.485</td>\n",
       "      <td>107759501782461328</td>\n",
       "      <td>truthsocial</td>\n",
       "      <td>https://truthsocial.com/@truthsocial/111246991...</td>\n",
       "      <td>&lt;p&gt;&lt;span class=\"quote-inline\"&gt;&lt;br/&gt;RT: https:/...</td>\n",
       "      <td>RT: https://truthsocial.com/users/BidenHQ/stat...</td>\n",
       "      <td>RT: https://truthsocial.com/users/BidenHQ/stat...</td>\n",
       "    </tr>\n",
       "    <tr>\n",
       "      <th>80615</th>\n",
       "      <td>2022-06-22 16:46:26.498</td>\n",
       "      <td>107759501782461328</td>\n",
       "      <td>truthsocial</td>\n",
       "      <td>https://truthsocial.com/@truthsocial/108522136...</td>\n",
       "      <td>&lt;p&gt;Exciting news: Media superstar and entrepre...</td>\n",
       "      <td>Exciting news: Media superstar and entrepreneu...</td>\n",
       "      <td>Exciting news: Media superstar and entrepreneu...</td>\n",
       "    </tr>\n",
       "  </tbody>\n",
       "</table>\n",
       "<p>80616 rows × 7 columns</p>\n",
       "</div>"
      ],
      "text/plain": [
       "                   created_at           author_id        username  \\\n",
       "0     2024-06-13 23:33:42.367  107838014712814240       AlexJones   \n",
       "1     2024-06-12 16:21:08.882  107838014712814240       AlexJones   \n",
       "2     2024-06-11 23:37:11.374  107838014712814240       AlexJones   \n",
       "3     2024-06-11 23:35:01.444  107838014712814240       AlexJones   \n",
       "4     2024-06-10 23:37:00.009  107838014712814240       AlexJones   \n",
       "...                       ...                 ...             ...   \n",
       "80611 2024-03-22 16:09:15.760  108379772378225680  therealkidrock   \n",
       "80612 2024-02-20 22:46:10.305  108379772378225680  therealkidrock   \n",
       "80613 2022-06-06 16:53:53.448  108379772378225680  therealkidrock   \n",
       "80614 2023-10-16 22:13:00.485  107759501782461328     truthsocial   \n",
       "80615 2022-06-22 16:46:26.498  107759501782461328     truthsocial   \n",
       "\n",
       "                                               tweet_url  \\\n",
       "0      https://truthsocial.com/@AlexJones/11261192584...   \n",
       "1      https://truthsocial.com/@AlexJones/11260456264...   \n",
       "2      https://truthsocial.com/@AlexJones/11260061491...   \n",
       "3      https://truthsocial.com/@AlexJones/11260060640...   \n",
       "4      https://truthsocial.com/@AlexJones/11259495186...   \n",
       "...                                                  ...   \n",
       "80611  https://truthsocial.com/@therealkidrock/112140...   \n",
       "80612  https://truthsocial.com/@therealkidrock/111966...   \n",
       "80613  https://truthsocial.com/@therealkidrock/108431...   \n",
       "80614  https://truthsocial.com/@truthsocial/111246991...   \n",
       "80615  https://truthsocial.com/@truthsocial/108522136...   \n",
       "\n",
       "                                                 content  \\\n",
       "0      <p>BREAKING! Democrats File To Take Alex Jones...   \n",
       "1      <p><a href=\"https://truthsocial.com/tags/AlexJ...   \n",
       "2      <p>BREAKING: Hunter Biden Found Guilty As Demo...   \n",
       "3      <p>Avian Influenza Added to Flu Vaccine in 200...   \n",
       "4      <p>Breaking: Federal Court Rules Covid Shots A...   \n",
       "...                                                  ...   \n",
       "80611  <p>Psalm 34:21<br/>Evil shall slay the wicked,...   \n",
       "80612  <p><span class=\"quote-inline\"><br/>RT: https:/...   \n",
       "80613  <p>Amen to that Mr. President!!!!    <span cla...   \n",
       "80614  <p><span class=\"quote-inline\"><br/>RT: https:/...   \n",
       "80615  <p>Exciting news: Media superstar and entrepre...   \n",
       "\n",
       "                                                    text  \\\n",
       "0      BREAKING! Democrats File To Take Alex Jones’ X...   \n",
       "1      #AlexJonesShow LIVE: Ships & Submarine Loaded ...   \n",
       "2      BREAKING: Hunter Biden Found Guilty As Democra...   \n",
       "3      Avian Influenza Added to Flu Vaccine in 2009  ...   \n",
       "4      Breaking: Federal Court Rules Covid Shots Are ...   \n",
       "...                                                  ...   \n",
       "80611  Psalm 34:21Evil shall slay the wicked,And thos...   \n",
       "80612  RT: https://truthsocial.com/users/realDonaldTr...   \n",
       "80613  Amen to that Mr. President!!!!    @realDonaldT...   \n",
       "80614  RT: https://truthsocial.com/users/BidenHQ/stat...   \n",
       "80615  Exciting news: Media superstar and entrepreneu...   \n",
       "\n",
       "                                              no_mention  \n",
       "0      BREAKING! Democrats File To Take Alex Jones’ X...  \n",
       "1      #AlexJonesShow LIVE: Ships & Submarine Loaded ...  \n",
       "2      BREAKING: Hunter Biden Found Guilty As Democra...  \n",
       "3      Avian Influenza Added to Flu Vaccine in 2009  ...  \n",
       "4      Breaking: Federal Court Rules Covid Shots Are ...  \n",
       "...                                                  ...  \n",
       "80611  Psalm 34:21Evil shall slay the wicked,And thos...  \n",
       "80612  RT: https://truthsocial.com/users/realDonaldTr...  \n",
       "80613                 Amen to that Mr. President!!!!      \n",
       "80614  RT: https://truthsocial.com/users/BidenHQ/stat...  \n",
       "80615  Exciting news: Media superstar and entrepreneu...  \n",
       "\n",
       "[80616 rows x 7 columns]"
      ]
     },
     "execution_count": 19,
     "metadata": {},
     "output_type": "execute_result"
    }
   ],
   "source": [
    "df_tweets_filtered"
   ]
  },
  {
   "cell_type": "markdown",
   "id": "128b9f3a-5604-4efa-82a5-780b9b1f7837",
   "metadata": {},
   "source": [
    "### Exporting the filtered data into a file for inspection"
   ]
  },
  {
   "cell_type": "code",
   "execution_count": 20,
   "id": "c99e0e64-6977-47d0-a15a-9ea1abce8951",
   "metadata": {},
   "outputs": [],
   "source": [
    "df_tweets_filtered.to_csv('tweets_emojified.tsv', sep='\\t', index=False)"
   ]
  },
  {
   "cell_type": "markdown",
   "id": "268d8c1a-2600-4b18-a1c7-0141fdcd40ea",
   "metadata": {},
   "source": [
    "## Replacing emojis"
   ]
  },
  {
   "cell_type": "markdown",
   "id": "3478255c-a7a8-48f0-9608-999dc92464a4",
   "metadata": {},
   "source": [
    "### Demojifying the column `text`"
   ]
  },
  {
   "cell_type": "code",
   "execution_count": 21,
   "id": "2341baec-2fa0-4ee8-82cf-1522257ab02f",
   "metadata": {},
   "outputs": [],
   "source": [
    "# Defining a function to demojify a string\n",
    "def demojify_line(input_line):\n",
    "    demojified_line = demoji.replace_with_desc(input_line, sep='<em>')\n",
    "    return demojified_line\n",
    "\n",
    "df_tweets_filtered['text'] = df_tweets_filtered['text'].apply(demojify_line)"
   ]
  },
  {
   "cell_type": "markdown",
   "id": "08405272-4072-4cbe-92c0-c221d3848181",
   "metadata": {},
   "source": [
    "#### Exporting the filtered data into a file for inspection"
   ]
  },
  {
   "cell_type": "code",
   "execution_count": 22,
   "id": "19a2453a-9a6a-4811-ad67-4a7ad495d95d",
   "metadata": {},
   "outputs": [],
   "source": [
    "df_tweets_filtered.to_csv('tweets_demojified1.tsv', sep='\\t', index=False)"
   ]
  },
  {
   "cell_type": "markdown",
   "id": "820ee493-3e57-4d46-817d-b7a4af0b0722",
   "metadata": {},
   "source": [
    "### Separating the demojified strings with spaces"
   ]
  },
  {
   "cell_type": "code",
   "execution_count": 23,
   "id": "9d55d111-b676-4569-89a0-a1c4ec2e57be",
   "metadata": {},
   "outputs": [],
   "source": [
    "# Defining a function to separate the demojified strings with spaces\n",
    "def preprocess_line(input_line):\n",
    "    # Add a space before the first delimiter '<em>', if it is not already preceded by one\n",
    "    preprocessed_line = re.sub(r'(?<! )<em>', ' <em>', input_line)\n",
    "    # Add a space after the first delimiter '<em>', if it is not already followed by one\n",
    "    preprocessed_line = re.sub(r'<em>(?! )', '<em> ', preprocessed_line)\n",
    "    return preprocessed_line\n",
    "\n",
    "# Separating the demojified strings with spaces\n",
    "df_tweets_filtered['text'] = df_tweets_filtered['text'].apply(preprocess_line)"
   ]
  },
  {
   "cell_type": "markdown",
   "id": "6acb282a-30a2-4401-80ac-305aa5f9d7c5",
   "metadata": {},
   "source": [
    "#### Exporting the filtered data into a file for inspection"
   ]
  },
  {
   "cell_type": "code",
   "execution_count": 24,
   "id": "fa3fce08-90f6-4e6a-97f7-ae69517a3689",
   "metadata": {},
   "outputs": [],
   "source": [
    "df_tweets_filtered.to_csv('tweets_demojified2.tsv', sep='\\t', index=False)"
   ]
  },
  {
   "cell_type": "markdown",
   "id": "2b2b2004-f565-44f9-9d43-31bf393170d8",
   "metadata": {},
   "source": [
    "### Formatting the demojified strings"
   ]
  },
  {
   "cell_type": "code",
   "execution_count": 25,
   "id": "2357ac57-bf81-4377-9a21-90fb79d1fcd8",
   "metadata": {},
   "outputs": [],
   "source": [
    "# Defining a function to format the demojified string\n",
    "def format_demojified_string(input_line):\n",
    "    # Defining a function to format the demojified string using RegEx\n",
    "    def process_demojified_string(s):\n",
    "            # Lowercase the string\n",
    "            s = s.lower()\n",
    "            # Replace spaces and colons followed by a space with underscores\n",
    "            s = re.sub(r'(: )| ', '_', s)\n",
    "            # Add the appropriate prefixes and suffixes\n",
    "            s = f'EMOJI{s}e'\n",
    "            return s\n",
    "\n",
    "    # Use RegEx to find and process each demojified string\n",
    "    processed_line = re.sub(r'<em>(.*?)<em>', lambda match: process_demojified_string(match.group(1)), input_line)\n",
    "    return processed_line\n",
    "\n",
    "# Formatting the demojified strings\n",
    "df_tweets_filtered['text'] = df_tweets_filtered['text'].apply(format_demojified_string)"
   ]
  },
  {
   "cell_type": "markdown",
   "id": "e743b0db-02a0-4e0b-b0b5-d6659960bc30",
   "metadata": {},
   "source": [
    "### Replacing the `pipe` character by the `-` character in the `text` column"
   ]
  },
  {
   "cell_type": "markdown",
   "id": "bc943030-7448-4d4d-98b8-b03c40e113e2",
   "metadata": {},
   "source": [
    "Further on, a few columns of the dataframe are going to be exported into the file `tweets.txt` whose columns need to be delimited by the `pipe` character. Therefore, it is recommended that any occurrences of the `pipe` character in the `text` column are replaced by another character."
   ]
  },
  {
   "cell_type": "code",
   "execution_count": 26,
   "id": "ab1c3584-ae80-41fc-b03a-4286a564a798",
   "metadata": {},
   "outputs": [],
   "source": [
    "# Defining a function to replace the 'pipe' character by the '-' character\n",
    "def replace_pipe_with_hyphen(input_string):\n",
    "    modified_string = re.sub(r'\\|', '-', input_string)\n",
    "    return modified_string\n",
    "\n",
    "# Replacing the 'pipe' character by the '-' character\n",
    "df_tweets_filtered['text'] = df_tweets_filtered['text'].apply(replace_pipe_with_hyphen)\n"
   ]
  },
  {
   "cell_type": "markdown",
   "id": "5a3d28f3-7d63-4c02-ba55-0dbc957a4291",
   "metadata": {},
   "source": [
    "#### Exporting the filtered data into a file for inspection"
   ]
  },
  {
   "cell_type": "code",
   "execution_count": 27,
   "id": "aab47cc6-5888-418a-8e4f-97daaf2ac3ac",
   "metadata": {},
   "outputs": [],
   "source": [
    "df_tweets_filtered.to_csv('tweets_demojified3.tsv', sep='\\t', index=False)"
   ]
  },
  {
   "cell_type": "markdown",
   "id": "776d4ca4-2999-47d3-ae97-b4f3a7599d84",
   "metadata": {},
   "source": [
    "## Tokenising"
   ]
  },
  {
   "cell_type": "markdown",
   "id": "1f950bc7-9ffa-4d96-9ce0-439643f90a55",
   "metadata": {},
   "source": [
    "Please refer to [What is tokenization in NLP?](https://www.analyticsvidhya.com/blog/2020/05/what-is-tokenization-nlp/)."
   ]
  },
  {
   "cell_type": "code",
   "execution_count": 28,
   "id": "9c1d393e-e85d-48f8-93f2-d7dfec6a2062",
   "metadata": {},
   "outputs": [],
   "source": [
    "# Defining a function to tokenise a string\n",
    "def tokenise_string(input_line):\n",
    "    # Replace URLs with placeholders\n",
    "    url_pattern = r'http[s]?://(?:[a-zA-Z]|[0-9]|[$-_@.&+]|[!*\\\\(\\\\),]|(?:%[0-9a-fA-F][0-9a-fA-F]))+\\b'\n",
    "    placeholder = '<URL>'  # Choose a unique placeholder\n",
    "    urls = re.findall(url_pattern, input_line)\n",
    "    tokenised_line = re.sub(url_pattern, placeholder, input_line)  # Replace URLs with placeholders\n",
    "    \n",
    "    # Replace curly quotes with straight ones\n",
    "    tokenised_line = tokenised_line.replace('“', '\"').replace('”', '\"').replace(\"‘\", \"'\").replace(\"’\", \"'\")\n",
    "    # Separate common punctuation marks with spaces\n",
    "    tokenised_line = re.sub(r'([.\\!?,\"\\'/()])', r' \\1 ', tokenised_line)\n",
    "    # Add a space before '#'\n",
    "    tokenised_line = re.sub(r'(?<!\\s)#', r' #', tokenised_line)  # Add a space before '#' if it is not already preceded by one\n",
    "    # Reduce extra spaces by a single space\n",
    "    tokenised_line = re.sub(r'\\s+', ' ', tokenised_line)\n",
    "    \n",
    "    # Replace the placeholders with the respective URLs\n",
    "    for url in urls:\n",
    "        tokenised_line = tokenised_line.replace(placeholder, url, 1)\n",
    "    \n",
    "    return tokenised_line\n",
    "\n",
    "# Tokenising the strings\n",
    "df_tweets_filtered['text'] = df_tweets_filtered['text'].apply(tokenise_string)"
   ]
  },
  {
   "cell_type": "markdown",
   "id": "edad8cc4-bd36-4d7a-905e-55173081cd85",
   "metadata": {},
   "source": [
    "## Creating the files `file_index.txt` and `tweets.txt`"
   ]
  },
  {
   "cell_type": "markdown",
   "id": "d9a908ea-85cd-4ded-b752-2ce8ccee6f62",
   "metadata": {},
   "source": [
    "### Creating column `text_id`"
   ]
  },
  {
   "cell_type": "code",
   "execution_count": 29,
   "id": "e69b8a02-8d66-4227-838a-020f8e458225",
   "metadata": {},
   "outputs": [],
   "source": [
    "df_tweets_filtered['text_id'] = 't' + df_tweets_filtered.index.astype(str).str.zfill(6)"
   ]
  },
  {
   "cell_type": "markdown",
   "id": "b08ecbc7-802a-4546-b770-bd94372e58f7",
   "metadata": {},
   "source": [
    "### Creating column `conversation`"
   ]
  },
  {
   "cell_type": "code",
   "execution_count": 30,
   "id": "b26c71e4-6d0a-4f1f-a343-412755ec2dda",
   "metadata": {},
   "outputs": [],
   "source": [
    "df_tweets_filtered['author_id'] = df_tweets_filtered['author_id'].astype(str)"
   ]
  },
  {
   "cell_type": "code",
   "execution_count": 31,
   "id": "2ad070c7-3caf-4eb8-8dfe-eba469fe0ed2",
   "metadata": {},
   "outputs": [],
   "source": [
    "df_tweets_filtered['conversation'] = 'v:' + df_tweets_filtered['author_id'].str.replace('id_', '')"
   ]
  },
  {
   "cell_type": "markdown",
   "id": "b85be5b3-f3ec-4061-a9c7-6d29591a8efd",
   "metadata": {},
   "source": [
    "### Creating column `date`"
   ]
  },
  {
   "cell_type": "code",
   "execution_count": 32,
   "id": "dc30acc9-8d7d-41ef-9e33-2367d4c1462e",
   "metadata": {},
   "outputs": [],
   "source": [
    "# Convert 'created_at' to datetime format\n",
    "df_tweets_filtered['created_at'] = pd.to_datetime(df_tweets_filtered['created_at'])\n",
    "\n",
    "# Extract the date part (without time) into a new column 'date'\n",
    "df_tweets_filtered['date'] = df_tweets_filtered['created_at'].dt.date\n",
    "\n",
    "# Add the prefix 'd:' to the 'date' values\n",
    "df_tweets_filtered['date'] = 'd:' + df_tweets_filtered['date'].astype(str)"
   ]
  },
  {
   "cell_type": "markdown",
   "id": "1067eec7-aedb-4bba-8241-5d5d000f6226",
   "metadata": {},
   "source": [
    "### Creating column `text_url`"
   ]
  },
  {
   "cell_type": "code",
   "execution_count": 33,
   "id": "6a5dec9e-0791-4b40-b59e-b46b62d400ec",
   "metadata": {},
   "outputs": [],
   "source": [
    "df_tweets_filtered['text_url'] = 'url:' + df_tweets_filtered['tweet_url']"
   ]
  },
  {
   "cell_type": "markdown",
   "id": "d27c35b3-69bc-4039-aa13-6b496f81c729",
   "metadata": {},
   "source": [
    "### Creating column `user`"
   ]
  },
  {
   "cell_type": "code",
   "execution_count": 34,
   "id": "5700d8af-3be8-4a60-bd3d-1ddf3df356ca",
   "metadata": {},
   "outputs": [],
   "source": [
    "df_tweets_filtered['user'] = 'u:' + df_tweets_filtered['username']"
   ]
  },
  {
   "cell_type": "markdown",
   "id": "ba1d2a83-b1a0-4db7-b9d3-e6d91202402c",
   "metadata": {},
   "source": [
    "### Creating column `content`"
   ]
  },
  {
   "cell_type": "code",
   "execution_count": 35,
   "id": "cd9313bd-6cbe-487c-a152-de678559260d",
   "metadata": {},
   "outputs": [],
   "source": [
    "df_tweets_filtered['content'] = 'c:' + df_tweets_filtered['text']"
   ]
  },
  {
   "cell_type": "markdown",
   "id": "d11872fa-2b44-4302-ab43-f98f64692eaf",
   "metadata": {},
   "source": [
    "### Reordering the created columns"
   ]
  },
  {
   "cell_type": "markdown",
   "id": "1538070e-1838-454f-a761-549e2bd5bc36",
   "metadata": {},
   "source": [
    "Please refer to:\n",
    "- [Python - List Comprehension 1](https://www.w3schools.com/python/python_lists_comprehension.asp)\n",
    "- [Python - List Comprehension 2](https://treyhunner.com/2015/12/python-list-comprehensions-now-in-color/)"
   ]
  },
  {
   "cell_type": "code",
   "execution_count": 36,
   "id": "afc325f4-43c7-4ba8-b10f-130974d8c191",
   "metadata": {},
   "outputs": [],
   "source": [
    "# Reorder the columns (we use list comprehension to create a list of all columns except 'text_id', 'variable', 'date' and 'text_url')\n",
    "df_tweets_filtered = df_tweets_filtered[['text_id', 'conversation', 'date', 'text_url', 'user', 'content'] + [col for col in df_tweets_filtered.columns if col not in ['text_id', 'conversation', 'date', 'text_url', 'user', 'content']]]"
   ]
  },
  {
   "cell_type": "code",
   "execution_count": 37,
   "id": "1217907f-187c-4d64-a97a-e7a9c607f6dc",
   "metadata": {},
   "outputs": [
    {
     "data": {
      "text/html": [
       "<div>\n",
       "<style scoped>\n",
       "    .dataframe tbody tr th:only-of-type {\n",
       "        vertical-align: middle;\n",
       "    }\n",
       "\n",
       "    .dataframe tbody tr th {\n",
       "        vertical-align: top;\n",
       "    }\n",
       "\n",
       "    .dataframe thead th {\n",
       "        text-align: right;\n",
       "    }\n",
       "</style>\n",
       "<table border=\"1\" class=\"dataframe\">\n",
       "  <thead>\n",
       "    <tr style=\"text-align: right;\">\n",
       "      <th></th>\n",
       "      <th>text_id</th>\n",
       "      <th>conversation</th>\n",
       "      <th>date</th>\n",
       "      <th>text_url</th>\n",
       "      <th>user</th>\n",
       "      <th>content</th>\n",
       "      <th>created_at</th>\n",
       "      <th>author_id</th>\n",
       "      <th>username</th>\n",
       "      <th>tweet_url</th>\n",
       "      <th>text</th>\n",
       "      <th>no_mention</th>\n",
       "    </tr>\n",
       "  </thead>\n",
       "  <tbody>\n",
       "    <tr>\n",
       "      <th>0</th>\n",
       "      <td>t000000</td>\n",
       "      <td>v:107838014712814240</td>\n",
       "      <td>d:2024-06-13</td>\n",
       "      <td>url:https://truthsocial.com/@AlexJones/1126119...</td>\n",
       "      <td>u:AlexJones</td>\n",
       "      <td>c:BREAKING ! Democrats File To Take Alex Jones...</td>\n",
       "      <td>2024-06-13 23:33:42.367</td>\n",
       "      <td>107838014712814240</td>\n",
       "      <td>AlexJones</td>\n",
       "      <td>https://truthsocial.com/@AlexJones/11261192584...</td>\n",
       "      <td>BREAKING ! Democrats File To Take Alex Jones '...</td>\n",
       "      <td>BREAKING! Democrats File To Take Alex Jones’ X...</td>\n",
       "    </tr>\n",
       "    <tr>\n",
       "      <th>1</th>\n",
       "      <td>t000001</td>\n",
       "      <td>v:107838014712814240</td>\n",
       "      <td>d:2024-06-12</td>\n",
       "      <td>url:https://truthsocial.com/@AlexJones/1126045...</td>\n",
       "      <td>u:AlexJones</td>\n",
       "      <td>c: #AlexJonesShow LIVE: Ships &amp; Submarine Load...</td>\n",
       "      <td>2024-06-12 16:21:08.882</td>\n",
       "      <td>107838014712814240</td>\n",
       "      <td>AlexJones</td>\n",
       "      <td>https://truthsocial.com/@AlexJones/11260456264...</td>\n",
       "      <td>#AlexJonesShow LIVE: Ships &amp; Submarine Loaded...</td>\n",
       "      <td>#AlexJonesShow LIVE: Ships &amp; Submarine Loaded ...</td>\n",
       "    </tr>\n",
       "    <tr>\n",
       "      <th>2</th>\n",
       "      <td>t000002</td>\n",
       "      <td>v:107838014712814240</td>\n",
       "      <td>d:2024-06-11</td>\n",
       "      <td>url:https://truthsocial.com/@AlexJones/1126006...</td>\n",
       "      <td>u:AlexJones</td>\n",
       "      <td>c:BREAKING: Hunter Biden Found Guilty As Democ...</td>\n",
       "      <td>2024-06-11 23:37:11.374</td>\n",
       "      <td>107838014712814240</td>\n",
       "      <td>AlexJones</td>\n",
       "      <td>https://truthsocial.com/@AlexJones/11260061491...</td>\n",
       "      <td>BREAKING: Hunter Biden Found Guilty As Democra...</td>\n",
       "      <td>BREAKING: Hunter Biden Found Guilty As Democra...</td>\n",
       "    </tr>\n",
       "    <tr>\n",
       "      <th>3</th>\n",
       "      <td>t000003</td>\n",
       "      <td>v:107838014712814240</td>\n",
       "      <td>d:2024-06-11</td>\n",
       "      <td>url:https://truthsocial.com/@AlexJones/1126006...</td>\n",
       "      <td>u:AlexJones</td>\n",
       "      <td>c:Avian Influenza Added to Flu Vaccine in 2009...</td>\n",
       "      <td>2024-06-11 23:35:01.444</td>\n",
       "      <td>107838014712814240</td>\n",
       "      <td>AlexJones</td>\n",
       "      <td>https://truthsocial.com/@AlexJones/11260060640...</td>\n",
       "      <td>Avian Influenza Added to Flu Vaccine in 2009 h...</td>\n",
       "      <td>Avian Influenza Added to Flu Vaccine in 2009  ...</td>\n",
       "    </tr>\n",
       "    <tr>\n",
       "      <th>4</th>\n",
       "      <td>t000004</td>\n",
       "      <td>v:107838014712814240</td>\n",
       "      <td>d:2024-06-10</td>\n",
       "      <td>url:https://truthsocial.com/@AlexJones/1125949...</td>\n",
       "      <td>u:AlexJones</td>\n",
       "      <td>c:Breaking: Federal Court Rules Covid Shots Ar...</td>\n",
       "      <td>2024-06-10 23:37:00.009</td>\n",
       "      <td>107838014712814240</td>\n",
       "      <td>AlexJones</td>\n",
       "      <td>https://truthsocial.com/@AlexJones/11259495186...</td>\n",
       "      <td>Breaking: Federal Court Rules Covid Shots Are ...</td>\n",
       "      <td>Breaking: Federal Court Rules Covid Shots Are ...</td>\n",
       "    </tr>\n",
       "    <tr>\n",
       "      <th>...</th>\n",
       "      <td>...</td>\n",
       "      <td>...</td>\n",
       "      <td>...</td>\n",
       "      <td>...</td>\n",
       "      <td>...</td>\n",
       "      <td>...</td>\n",
       "      <td>...</td>\n",
       "      <td>...</td>\n",
       "      <td>...</td>\n",
       "      <td>...</td>\n",
       "      <td>...</td>\n",
       "      <td>...</td>\n",
       "    </tr>\n",
       "    <tr>\n",
       "      <th>80611</th>\n",
       "      <td>t080611</td>\n",
       "      <td>v:108379772378225680</td>\n",
       "      <td>d:2024-03-22</td>\n",
       "      <td>url:https://truthsocial.com/@therealkidrock/11...</td>\n",
       "      <td>u:therealkidrock</td>\n",
       "      <td>c:Psalm 34:21Evil shall slay the wicked , And ...</td>\n",
       "      <td>2024-03-22 16:09:15.760</td>\n",
       "      <td>108379772378225680</td>\n",
       "      <td>therealkidrock</td>\n",
       "      <td>https://truthsocial.com/@therealkidrock/112140...</td>\n",
       "      <td>Psalm 34:21Evil shall slay the wicked , And th...</td>\n",
       "      <td>Psalm 34:21Evil shall slay the wicked,And thos...</td>\n",
       "    </tr>\n",
       "    <tr>\n",
       "      <th>80612</th>\n",
       "      <td>t080612</td>\n",
       "      <td>v:108379772378225680</td>\n",
       "      <td>d:2024-02-20</td>\n",
       "      <td>url:https://truthsocial.com/@therealkidrock/11...</td>\n",
       "      <td>u:therealkidrock</td>\n",
       "      <td>c:RT: https://truthsocial.com/users/realDonald...</td>\n",
       "      <td>2024-02-20 22:46:10.305</td>\n",
       "      <td>108379772378225680</td>\n",
       "      <td>therealkidrock</td>\n",
       "      <td>https://truthsocial.com/@therealkidrock/111966...</td>\n",
       "      <td>RT: https://truthsocial.com/users/realDonaldTr...</td>\n",
       "      <td>RT: https://truthsocial.com/users/realDonaldTr...</td>\n",
       "    </tr>\n",
       "    <tr>\n",
       "      <th>80613</th>\n",
       "      <td>t080613</td>\n",
       "      <td>v:108379772378225680</td>\n",
       "      <td>d:2022-06-06</td>\n",
       "      <td>url:https://truthsocial.com/@therealkidrock/10...</td>\n",
       "      <td>u:therealkidrock</td>\n",
       "      <td>c:Amen to that Mr . President ! ! ! ! @realDon...</td>\n",
       "      <td>2022-06-06 16:53:53.448</td>\n",
       "      <td>108379772378225680</td>\n",
       "      <td>therealkidrock</td>\n",
       "      <td>https://truthsocial.com/@therealkidrock/108431...</td>\n",
       "      <td>Amen to that Mr . President ! ! ! ! @realDonal...</td>\n",
       "      <td>Amen to that Mr. President!!!!</td>\n",
       "    </tr>\n",
       "    <tr>\n",
       "      <th>80614</th>\n",
       "      <td>t080614</td>\n",
       "      <td>v:107759501782461328</td>\n",
       "      <td>d:2023-10-16</td>\n",
       "      <td>url:https://truthsocial.com/@truthsocial/11124...</td>\n",
       "      <td>u:truthsocial</td>\n",
       "      <td>c:RT: https://truthsocial.com/users/BidenHQ/st...</td>\n",
       "      <td>2023-10-16 22:13:00.485</td>\n",
       "      <td>107759501782461328</td>\n",
       "      <td>truthsocial</td>\n",
       "      <td>https://truthsocial.com/@truthsocial/111246991...</td>\n",
       "      <td>RT: https://truthsocial.com/users/BidenHQ/stat...</td>\n",
       "      <td>RT: https://truthsocial.com/users/BidenHQ/stat...</td>\n",
       "    </tr>\n",
       "    <tr>\n",
       "      <th>80615</th>\n",
       "      <td>t080615</td>\n",
       "      <td>v:107759501782461328</td>\n",
       "      <td>d:2022-06-22</td>\n",
       "      <td>url:https://truthsocial.com/@truthsocial/10852...</td>\n",
       "      <td>u:truthsocial</td>\n",
       "      <td>c:Exciting news: Media superstar and entrepren...</td>\n",
       "      <td>2022-06-22 16:46:26.498</td>\n",
       "      <td>107759501782461328</td>\n",
       "      <td>truthsocial</td>\n",
       "      <td>https://truthsocial.com/@truthsocial/108522136...</td>\n",
       "      <td>Exciting news: Media superstar and entrepreneu...</td>\n",
       "      <td>Exciting news: Media superstar and entrepreneu...</td>\n",
       "    </tr>\n",
       "  </tbody>\n",
       "</table>\n",
       "<p>80616 rows × 12 columns</p>\n",
       "</div>"
      ],
      "text/plain": [
       "       text_id          conversation          date  \\\n",
       "0      t000000  v:107838014712814240  d:2024-06-13   \n",
       "1      t000001  v:107838014712814240  d:2024-06-12   \n",
       "2      t000002  v:107838014712814240  d:2024-06-11   \n",
       "3      t000003  v:107838014712814240  d:2024-06-11   \n",
       "4      t000004  v:107838014712814240  d:2024-06-10   \n",
       "...        ...                   ...           ...   \n",
       "80611  t080611  v:108379772378225680  d:2024-03-22   \n",
       "80612  t080612  v:108379772378225680  d:2024-02-20   \n",
       "80613  t080613  v:108379772378225680  d:2022-06-06   \n",
       "80614  t080614  v:107759501782461328  d:2023-10-16   \n",
       "80615  t080615  v:107759501782461328  d:2022-06-22   \n",
       "\n",
       "                                                text_url              user  \\\n",
       "0      url:https://truthsocial.com/@AlexJones/1126119...       u:AlexJones   \n",
       "1      url:https://truthsocial.com/@AlexJones/1126045...       u:AlexJones   \n",
       "2      url:https://truthsocial.com/@AlexJones/1126006...       u:AlexJones   \n",
       "3      url:https://truthsocial.com/@AlexJones/1126006...       u:AlexJones   \n",
       "4      url:https://truthsocial.com/@AlexJones/1125949...       u:AlexJones   \n",
       "...                                                  ...               ...   \n",
       "80611  url:https://truthsocial.com/@therealkidrock/11...  u:therealkidrock   \n",
       "80612  url:https://truthsocial.com/@therealkidrock/11...  u:therealkidrock   \n",
       "80613  url:https://truthsocial.com/@therealkidrock/10...  u:therealkidrock   \n",
       "80614  url:https://truthsocial.com/@truthsocial/11124...     u:truthsocial   \n",
       "80615  url:https://truthsocial.com/@truthsocial/10852...     u:truthsocial   \n",
       "\n",
       "                                                 content  \\\n",
       "0      c:BREAKING ! Democrats File To Take Alex Jones...   \n",
       "1      c: #AlexJonesShow LIVE: Ships & Submarine Load...   \n",
       "2      c:BREAKING: Hunter Biden Found Guilty As Democ...   \n",
       "3      c:Avian Influenza Added to Flu Vaccine in 2009...   \n",
       "4      c:Breaking: Federal Court Rules Covid Shots Ar...   \n",
       "...                                                  ...   \n",
       "80611  c:Psalm 34:21Evil shall slay the wicked , And ...   \n",
       "80612  c:RT: https://truthsocial.com/users/realDonald...   \n",
       "80613  c:Amen to that Mr . President ! ! ! ! @realDon...   \n",
       "80614  c:RT: https://truthsocial.com/users/BidenHQ/st...   \n",
       "80615  c:Exciting news: Media superstar and entrepren...   \n",
       "\n",
       "                   created_at           author_id        username  \\\n",
       "0     2024-06-13 23:33:42.367  107838014712814240       AlexJones   \n",
       "1     2024-06-12 16:21:08.882  107838014712814240       AlexJones   \n",
       "2     2024-06-11 23:37:11.374  107838014712814240       AlexJones   \n",
       "3     2024-06-11 23:35:01.444  107838014712814240       AlexJones   \n",
       "4     2024-06-10 23:37:00.009  107838014712814240       AlexJones   \n",
       "...                       ...                 ...             ...   \n",
       "80611 2024-03-22 16:09:15.760  108379772378225680  therealkidrock   \n",
       "80612 2024-02-20 22:46:10.305  108379772378225680  therealkidrock   \n",
       "80613 2022-06-06 16:53:53.448  108379772378225680  therealkidrock   \n",
       "80614 2023-10-16 22:13:00.485  107759501782461328     truthsocial   \n",
       "80615 2022-06-22 16:46:26.498  107759501782461328     truthsocial   \n",
       "\n",
       "                                               tweet_url  \\\n",
       "0      https://truthsocial.com/@AlexJones/11261192584...   \n",
       "1      https://truthsocial.com/@AlexJones/11260456264...   \n",
       "2      https://truthsocial.com/@AlexJones/11260061491...   \n",
       "3      https://truthsocial.com/@AlexJones/11260060640...   \n",
       "4      https://truthsocial.com/@AlexJones/11259495186...   \n",
       "...                                                  ...   \n",
       "80611  https://truthsocial.com/@therealkidrock/112140...   \n",
       "80612  https://truthsocial.com/@therealkidrock/111966...   \n",
       "80613  https://truthsocial.com/@therealkidrock/108431...   \n",
       "80614  https://truthsocial.com/@truthsocial/111246991...   \n",
       "80615  https://truthsocial.com/@truthsocial/108522136...   \n",
       "\n",
       "                                                    text  \\\n",
       "0      BREAKING ! Democrats File To Take Alex Jones '...   \n",
       "1       #AlexJonesShow LIVE: Ships & Submarine Loaded...   \n",
       "2      BREAKING: Hunter Biden Found Guilty As Democra...   \n",
       "3      Avian Influenza Added to Flu Vaccine in 2009 h...   \n",
       "4      Breaking: Federal Court Rules Covid Shots Are ...   \n",
       "...                                                  ...   \n",
       "80611  Psalm 34:21Evil shall slay the wicked , And th...   \n",
       "80612  RT: https://truthsocial.com/users/realDonaldTr...   \n",
       "80613  Amen to that Mr . President ! ! ! ! @realDonal...   \n",
       "80614  RT: https://truthsocial.com/users/BidenHQ/stat...   \n",
       "80615  Exciting news: Media superstar and entrepreneu...   \n",
       "\n",
       "                                              no_mention  \n",
       "0      BREAKING! Democrats File To Take Alex Jones’ X...  \n",
       "1      #AlexJonesShow LIVE: Ships & Submarine Loaded ...  \n",
       "2      BREAKING: Hunter Biden Found Guilty As Democra...  \n",
       "3      Avian Influenza Added to Flu Vaccine in 2009  ...  \n",
       "4      Breaking: Federal Court Rules Covid Shots Are ...  \n",
       "...                                                  ...  \n",
       "80611  Psalm 34:21Evil shall slay the wicked,And thos...  \n",
       "80612  RT: https://truthsocial.com/users/realDonaldTr...  \n",
       "80613                 Amen to that Mr. President!!!!      \n",
       "80614  RT: https://truthsocial.com/users/BidenHQ/stat...  \n",
       "80615  Exciting news: Media superstar and entrepreneu...  \n",
       "\n",
       "[80616 rows x 12 columns]"
      ]
     },
     "execution_count": 37,
     "metadata": {},
     "output_type": "execute_result"
    }
   ],
   "source": [
    "df_tweets_filtered"
   ]
  },
  {
   "cell_type": "markdown",
   "id": "921f23e3-bc12-4150-8bf1-557184b40d1b",
   "metadata": {},
   "source": [
    "### Creating the file `file_index.txt`"
   ]
  },
  {
   "cell_type": "code",
   "execution_count": 38,
   "id": "199bbbe5-a366-4fde-9314-f0de3d49c379",
   "metadata": {},
   "outputs": [],
   "source": [
    "df_tweets_filtered[['text_id', 'conversation', 'date', 'text_url']].to_csv('file_index.txt', sep=' ', index=False, header=False, encoding='utf-8', lineterminator='\\n')"
   ]
  },
  {
   "cell_type": "markdown",
   "id": "fd415c21-39dc-4083-9632-e5cd92fa6948",
   "metadata": {},
   "source": [
    "### Creating the file `tweets.txt`"
   ]
  },
  {
   "cell_type": "code",
   "execution_count": 39,
   "id": "5445fc96-0b9f-4283-80b3-09b1bddeab91",
   "metadata": {},
   "outputs": [
    {
     "name": "stdout",
     "output_type": "stream",
     "text": [
      "Folder tweets created!\n"
     ]
    }
   ],
   "source": [
    "folder = 'tweets'\n",
    "try:\n",
    "    os.mkdir(folder)\n",
    "    print(f'Folder {folder} created!')\n",
    "except FileExistsError:\n",
    "    print(f'Folder {folder} already exists')"
   ]
  },
  {
   "cell_type": "markdown",
   "id": "8de49e26-5efe-472f-9952-cef41fcda082",
   "metadata": {},
   "source": [
    "Note: The parameters `doublequote=False` and `escapechar=' '` are required to avoid that the column content is doublequoted with '\"' in sentences that use characters that need to be escaped such as double quote '\"' itself - this causes a malformed response from TreeTagger."
   ]
  },
  {
   "cell_type": "code",
   "execution_count": 40,
   "id": "3b566e03-56e4-44a8-8558-b6e940bb6193",
   "metadata": {},
   "outputs": [],
   "source": [
    "df_tweets_filtered[['text_id', 'conversation', 'date', 'user', 'content']].to_csv(f'{folder}/tweets.txt', sep='|', index=False, header=False, encoding='utf-8', lineterminator='\\n', doublequote=False, escapechar=' ')"
   ]
  },
  {
   "cell_type": "markdown",
   "id": "2f769843-4ff9-4436-a2e0-d61e2c391e9d",
   "metadata": {},
   "source": [
    "## Tagging with TreeTagger"
   ]
  },
  {
   "cell_type": "markdown",
   "id": "f3877be9-6317-42ee-8e8d-c15c48f77996",
   "metadata": {},
   "source": [
    "- On Visual Studio Code (VS Code), open the folder where your project is located with `Open Folder...`\n",
    "- Open a WSL Ubuntu Terminal on VS Code\n",
    "- **Important**: Activate the `my_env` Python environment by executing `source \"$HOME\"/my_env/bin/activate`\n",
    "- Proceed as indicated\n",
    "\n",
    "Note: You have to download and open this Jupyter Notebook on JupyterLab (provided as part of Anaconda Distribution) to visualise the procedure"
   ]
  },
  {
   "cell_type": "markdown",
   "id": "720724ab-5e77-4e9e-b05a-24cf73259cd0",
   "metadata": {},
   "source": [
    "Purpose: Annotate the texts in `tweets/tweets.txt` with part-of-speech and lemma information.\n",
    "- Input\n",
    "    - `file_index.txt`\n",
    "    - `tweets/tweets.txt`\n",
    "- Output\n",
    "    - `tweets/tagged.txt`"
   ]
  },
  {
   "cell_type": "raw",
   "id": "9005cc09-f5ef-454f-9b74-4d7ca9fe4f10",
   "metadata": {},
   "source": [
    "eyamrog@Rog-ASUS:/mnt/c/Users/eyamr/Downloads$ source \"$HOME\"/my_env/bin/activate\n",
    "(my_env) eyamrog@Rog-ASUS:/mnt/c/Users/eyamr/Downloads$ bash treetagging.sh\n",
    "--- treetagging t000000 / t018205 ---\n",
    "        reading parameters ...\n",
    "        tagging ...\n",
    "         finished.\n",
    "--- treetagging t000001 / t018205 ---\n",
    "        reading parameters ...\n",
    "        tagging ...\n",
    "         finished.\n",
    "--- treetagging t000002 / t018205 ---\n",
    "        reading parameters ...\n",
    "        tagging ...\n",
    "         finished.\n",
    "--- treetagging t000003 / t018205 ---\n",
    "        reading parameters ...\n",
    "        tagging ...\n",
    "         finished.\n",
    "<omitted>"
   ]
  },
  {
   "cell_type": "markdown",
   "id": "fa0060ba-d01c-4e48-a353-8c9ba0fc456e",
   "metadata": {},
   "source": [
    "## Processing `tokenstypes`"
   ]
  },
  {
   "cell_type": "markdown",
   "id": "93351bf2-3457-4b47-8a47-7ff13c4e0e1a",
   "metadata": {},
   "source": [
    "Purpose: Capture the content tokens (specific occurrences of words) and the content types (general concept of words) from `tweets/tagged.txt`.\n",
    "- Input\n",
    "    - `file_index.txt`\n",
    "    - `tweets/tagged.txt`\n",
    "- Output\n",
    "    - `tweets/tokens.txt`\n",
    "    - `tweets/types.txt`"
   ]
  },
  {
   "cell_type": "raw",
   "id": "6cddc717-8ff2-4f38-ae10-8d6616de6a6c",
   "metadata": {},
   "source": [
    "eyamrog@Rog-ASUS:/mnt/c/Users/eyamr/Downloads$ source \"$HOME\"/my_env/bin/activate\n",
    "(my_env) eyamrog@Rog-ASUS:/mnt/c/Users/eyamr/Downloads$ bash tokenstypes.sh\n",
    "--- tokenstypes t000000 / 18206 ---\n",
    "--- tokenstypes t000001 / 18206 ---\n",
    "--- tokenstypes t000002 / 18206 ---\n",
    "--- tokenstypes t000003 / 18206 ---\n",
    "--- tokenstypes t000004 / 18206 ---\n",
    "--- tokenstypes t000005 / 18206 ---\n",
    "<omitted>"
   ]
  },
  {
   "cell_type": "markdown",
   "id": "ef598329-fb5a-4b07-8799-b2bbb55847f1",
   "metadata": {},
   "source": [
    "## Processing `toplemmas`"
   ]
  },
  {
   "cell_type": "markdown",
   "id": "79ce5796-0434-44d5-88e2-8f934a6cebc8",
   "metadata": {},
   "source": [
    "Purpose: Determine the 1.000 top lemmas. **Important**: This process requires manual inspection. Non-meaningful lemmas should be excluded by updating `stoplist.sed` and reiterating the processing. Proceed as indicated in this [video tutorial](https://youtu.be/4UIPpdoozP0?si=_3md9w79njZY86PE), from 20:05 to 25:16.\n",
    "- Input\n",
    "    - `tweets/types.txt`\n",
    "    - `stoplist.sed`: List of rules that allows the exclusion of a certain lemmas\n",
    "- Output\n",
    "    - `selectedwords` = `var_index.txt`"
   ]
  },
  {
   "cell_type": "raw",
   "id": "13b0fc8e-73e2-4e2d-9e2f-73068e4132fc",
   "metadata": {},
   "source": [
    "eyamrog@Rog-ASUS:/mnt/c/Users/eyamr/Downloads$ source \"$HOME\"/my_env/bin/activate\n",
    "(my_env) eyamrog@Rog-ASUS:/mnt/c/Users/eyamr/Downloads$ bash toplemmas.sh\n"
   ]
  },
  {
   "cell_type": "markdown",
   "id": "eb0a4675-5067-4e8b-8ca8-baf9f1b915c1",
   "metadata": {},
   "source": [
    "## Processing `sas`"
   ]
  },
  {
   "cell_type": "markdown",
   "id": "b0d158b2-73d7-477e-a7a7-2b87216a19ae",
   "metadata": {},
   "source": [
    "Purpose: Prepare input data for processing in SAS.\n",
    "- Input\n",
    "    - `tweets/types.txt`\n",
    "    - `selectedwords`\n",
    "    - `file_index.txt`\n",
    "- Output\n",
    "    - `columns`\n",
    "    - `sas/data.txt`\n",
    "    - `sas/dates.txt`\n",
    "    - `sas/wcount.txt`"
   ]
  },
  {
   "cell_type": "raw",
   "id": "0d250d29-861c-41a6-9793-e0df758100e0",
   "metadata": {},
   "source": [
    "eyamrog@Rog-ASUS:/mnt/c/Users/eyamr/Downloads$ source \"$HOME\"/my_env/bin/activate\n",
    "(my_env) eyamrog@Rog-ASUS:/mnt/c/Users/eyamr/Downloads$ bash sas.sh\n",
    "--- v000001 ---\n",
    "--- v000002 ---\n",
    "--- v000003 ---\n",
    "--- v000004 ---\n",
    "--- v000005 ---\n",
    "<omitted>\n",
    "--- v001000 ---\n",
    "[nltk_data] Downloading package punkt to /home/eyamrog/nltk_data...\n",
    "[nltk_data]   Package punkt is already up-to-date!\n",
    "Word counts written to sas/wcount.txt"
   ]
  },
  {
   "cell_type": "markdown",
   "id": "0e8087ea-ffd4-43b9-8eda-4444b931c319",
   "metadata": {},
   "source": [
    "## Processing `datamatrix`"
   ]
  },
  {
   "cell_type": "markdown",
   "id": "b4374f48-04b6-48af-a31d-125ef0e85972",
   "metadata": {},
   "source": [
    "Purpose: Prepares input data for calculating the correlation matrix.\n",
    "- Input\n",
    "    - `file_index.txt`\n",
    "    - `columns`\n",
    "    - `selectedwords`\n",
    "- Output\n",
    "    - `file_ids.txt`\n",
    "    - `data.csv`"
   ]
  },
  {
   "cell_type": "raw",
   "id": "23925f09-05ef-44a5-ba48-78cac1dedc76",
   "metadata": {},
   "source": [
    "eyamrog@Rog-ASUS:/mnt/c/Users/eyamr/Downloads$ source \"$HOME\"/my_env/bin/activate\n",
    "(my_env) eyamrog@Rog-ASUS:/mnt/c/Users/eyamr/Downloads$ bash datamatrix.sh\n",
    "--- v000001 ---\n",
    "--- v000002 ---\n",
    "--- v000003 ---\n",
    "--- v000004 ---\n",
    "--- v000005 ---\n",
    "<omitted>\n",
    "--- v001000 ---\n",
    "--- data.csv ...---"
   ]
  },
  {
   "cell_type": "markdown",
   "id": "6130e8f0-a7e5-4f6e-b427-090f7cda4856",
   "metadata": {},
   "source": [
    "## Processing `correlationmatrix`"
   ]
  },
  {
   "cell_type": "markdown",
   "id": "8bddbb87-b4de-4c41-8177-b2f677d803b6",
   "metadata": {},
   "source": [
    "Purpose: Calculates the correlation matrix.\n",
    "- Input\n",
    "    - `data.csv`\n",
    "- Output\n",
    "    - `correlation`"
   ]
  },
  {
   "cell_type": "raw",
   "id": "42927846-5d87-4f5f-8ce6-8beb4ef733a4",
   "metadata": {},
   "source": [
    "eyamrog@Rog-ASUS:/mnt/c/Users/eyamr/Downloads$ source \"$HOME\"/my_env/bin/activate\n",
    "(my_env) eyamrog@Rog-ASUS:/mnt/c/Users/eyamr/Downloads$ bash correlationmatrix.sh\n",
    "--- python correlation ... ---"
   ]
  },
  {
   "cell_type": "markdown",
   "id": "86e9203f-e9e1-4a73-8bed-7dec1ad8617e",
   "metadata": {},
   "source": [
    "## Processing `formats`"
   ]
  },
  {
   "cell_type": "markdown",
   "id": "69517100-c28d-44ba-90a7-37988e3df8ad",
   "metadata": {},
   "source": [
    "Purpose: Prepare input data for processing in SAS.\n",
    "- Input\n",
    "    - `data.csv`\n",
    "    - `selectedwords`\n",
    "- Output\n",
    "    - `sas/corr.txt`\n",
    "    - `sas/word_labels_format.sas`"
   ]
  },
  {
   "cell_type": "raw",
   "id": "96f9b02f-fd33-4ff2-bf57-463fac9743e6",
   "metadata": {},
   "source": [
    "eyamrog@Rog-ASUS:/mnt/c/Users/eyamr/Downloads$ source \"$HOME\"/my_env/bin/activate\n",
    "(my_env) eyamrog@Rog-ASUS:/mnt/c/Users/eyamr/Downloads$ bash formats.sh\n",
    "--- sas/sas/corr.txt ---\n",
    "--- sas/word_labels_format.sas ---"
   ]
  },
  {
   "cell_type": "markdown",
   "id": "71cb5b2a-e203-4b3e-80a9-86b10fc0253c",
   "metadata": {},
   "source": [
    "## Processing the statistical procedures on SAS"
   ]
  },
  {
   "cell_type": "markdown",
   "id": "2ddc9cd8-cd80-41d2-8209-f0a363fd9ab2",
   "metadata": {},
   "source": [
    "- Log in to your [SAS OnDemand for Academics](https://welcome.oda.sas.com/) account\n",
    "- Proceed as indicated in this [video tutorial](https://youtu.be/I3u9zD3jyOA?si=68uIKVc2iusGG2KY)"
   ]
  },
  {
   "cell_type": "markdown",
   "id": "7ed501c0-f6b1-4050-a4eb-a486bb73c036",
   "metadata": {},
   "source": [
    "## Processing `examples`"
   ]
  },
  {
   "cell_type": "markdown",
   "id": "96cef7d2-d981-4d52-b340-3c55ffe0699a",
   "metadata": {},
   "source": [
    "Purpose: Extract examples for analysis.\n",
    "- Input\n",
    "    - `sas/output_\"$project\"/loadtable.html`\n",
    "    - `sas/output_\"$project\"/\"$project\"_scores.tsv`\n",
    "    - `sas/output_\"$project\"/\"$project\"_scores_only.tsv`\n",
    "- Output\n",
    "    - `examples/factors`\n",
    "    - `example files`"
   ]
  },
  {
   "cell_type": "raw",
   "id": "3cbf820c-016d-4940-940c-82a587f2c22b",
   "metadata": {},
   "source": [
    "(my_env) eyamrog@Rog-ASUS:/mnt/c/Users/eyamr/Downloads$ bash examples.sh\n",
    "6780\n",
    "1246\n",
    "698\n",
    "123\n",
    "--- examples f1pos ---\n",
    "--- factor 1 pos # 000001 ---\n",
    "tr: warning: an unescaped backslash at end of string is not portable\n",
    "--- factor 1 pos # 000002 ---\n",
    "tr: warning: an unescaped backslash at end of string is not portable\n",
    "--- factor 1 pos # 000003 ---\n",
    "tr: warning: an unescaped backslash at end of string is not portable\n",
    "--- factor 1 pos # 000004 ---\n",
    "tr: warning: an unescaped backslash at end of string is not portable\n",
    "--- factor 1 pos # 000005 ---\n",
    "tr: warning: an unescaped backslash at end of string is not portable\n",
    "<ommitted> "
   ]
  },
  {
   "cell_type": "markdown",
   "id": "cd38617b-0487-4ba2-b619-d9b78aba9f2c",
   "metadata": {},
   "source": [
    "## Results"
   ]
  },
  {
   "cell_type": "markdown",
   "id": "cf501e4a-1193-4999-bdc0-88c08d2840f7",
   "metadata": {},
   "source": [
    "Right-click on the link and choose `Save link as` to download the corresponding file."
   ]
  },
  {
   "cell_type": "markdown",
   "id": "4e73ba45-9d6c-4578-b14e-c80c3ccaafe4",
   "metadata": {},
   "source": [
    "- [CL_St1_Renata_Results.tar.gz](https://laelgelcrenata.s3.sa-east-1.amazonaws.com/CL_St1_Renata_Results.tar.gz)"
   ]
  },
  {
   "cell_type": "markdown",
   "id": "e60c1964-a883-4ae1-8c1e-9bcce3900da9",
   "metadata": {},
   "source": [
    "Note:\n",
    "- Proceed as follows to extract the files from the archive `CL_St1_Renata_Results.tar.gz`\n",
    "- You have to download and open this Jupyter Notebook on JupyterLab (provided as part of Anaconda Distribution) to visualise the procedure"
   ]
  },
  {
   "cell_type": "raw",
   "id": "271b06d9-066f-4510-9fe5-7f4402341441",
   "metadata": {},
   "source": [
    "eyamrog@Rog-ASUS:/mnt/c/Users/eyamr/Downloads$ tar xzvf CL_St1_Renata_Results.tar.gz\n",
    "<omitted>\n",
    "eyamrog@Rog-ASUS:/mnt/c/Users/eyamr/Downloads$ "
   ]
  },
  {
   "cell_type": "code",
   "execution_count": null,
   "id": "bb169464-4f29-4513-b272-46f201deff17",
   "metadata": {},
   "outputs": [],
   "source": []
  }
 ],
 "metadata": {
  "kernelspec": {
   "display_name": "Python 3 (ipykernel)",
   "language": "python",
   "name": "python3"
  },
  "language_info": {
   "codemirror_mode": {
    "name": "ipython",
    "version": 3
   },
   "file_extension": ".py",
   "mimetype": "text/x-python",
   "name": "python",
   "nbconvert_exporter": "python",
   "pygments_lexer": "ipython3",
   "version": "3.11.8"
  }
 },
 "nbformat": 4,
 "nbformat_minor": 5
}
